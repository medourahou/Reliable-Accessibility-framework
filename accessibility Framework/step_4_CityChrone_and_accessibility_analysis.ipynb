{
 "cells": [
  {
   "cell_type": "code",
   "execution_count": 1,
   "metadata": {
    "hide_input": false,
    "id": "htr_10mPzr5d",
    "run_control": {
     "marked": false
    }
   },
   "outputs": [],
   "source": [
    "import os\n",
    "import sys\n",
    "\n",
    "# Add library path to Python path\n",
    "sys.path.append(os.path.abspath('..'))\n",
    "\n",
    "# Now import your modules\n",
    "from library import libStopsPoints, libConnections, libHex\n",
    "import zipfile\n",
    "import os\n",
    "import time\n",
    "import pymongo as pym\n",
    "import pandas as pd\n",
    "import folium\n",
    "import numpy as np\n",
    "import requests\n",
    "import numba\n",
    "\n",
    "import math\n",
    "import geopy\n",
    "from shapely.geometry import Polygon, MultiPolygon, Point, mapping\n",
    "from geopy.distance import geodesic,great_circle\n",
    "from folium.plugins import FastMarkerCluster\n",
    "from datetime import datetime\n",
    "from geopy.distance import geodesic,great_circle\n",
    "from pymongo import MongoClient\n",
    "\n",
    "from pathlib import Path\n",
    "import geopandas as gpd\n",
    "import geojson\n",
    "from IPython.core.display import display, HTML\n",
    "\n",
    "from library import libStopsPoints, libConnections, libHex\n",
    " "
   ]
  },
  {
   "cell_type": "markdown",
   "metadata": {
    "id": "TWziSZJ4zr5e"
   },
   "source": [
    "# Url and paths  [**set it!**]"
   ]
  },
  {
   "cell_type": "code",
   "execution_count": 6,
   "metadata": {},
   "outputs": [],
   "source": [
    "city = 'padam_territory_01'\n",
    "scenario_name = 'PT_DRT_scenario_25' # basecase without drt\n",
    "\n",
    "# file paths and addresses to be provided:\n",
    "# population data\n",
    "shpPath = '../Cities/Padam_terretory_01/shp files/opps.shp'\n",
    "popCollectionName = \"POP\"\n",
    "popField = \"pop\"\n",
    "\n",
    "# Study area\n",
    "# Study area defines the area in which the accessibility calaculation is executes\n",
    "# study_area_shp_path = 'Paris/shp/studyarea.shp'\n",
    "\n",
    "\n",
    "directoryGTFS = \"../Cities/Padam_terretory_01/gtfs/PT_DRT/gtfs_PT_DRT_scenario_25/\"\n",
    "\n",
    "gtfs_prep_toggle = True\n",
    "urlMongoDb = \"mongodb://localhost:27017/\"  # url of the mongodb database\n",
    "urlMongoDbPop = \"mongodb://localhost:27017/\" # url of the mongodb database for population\n",
    "urlServerOsrm = 'http://localhost:5000/' # url of the osrm server of the city\n",
    "\n",
    "client = MongoClient(urlMongoDb)\n",
    "scenario_name=\"PT_DRT_scenario_25\" #drt\n",
    "gtfsDB = client[str('pta-' + city + '-' +scenario_name)]\n",
    "popDbName = str('pta-' + city + '-' +scenario_name)\n",
    "\n",
    "# required parameters\n",
    "# the date must be in the interval of validity of the gtfs files, check it in the \"calendar.txt\" and \"calendar_dates.txt\" files inside the gtfs zip files.\n",
    "# the day for the computation of accessibility quantitites\n",
    "days = ['20241201', '20241202']\n",
    "day_names = [\"sunday\", \"monday\"]\n",
    "\n",
    "\n",
    "# parameters of walking distance\n",
    "timeWalk = 8 * 60  # seconds\n",
    "velocityWalk = 1.31  # m/s ***4.71km/h***\n",
    "distanceS = timeWalk * velocityWalk\n",
    "\n",
    "# Parameters that define the resolution and extention of tesselletion and the maximum of the walking time\n",
    "# grid step of the hexagonal tesselletion in kilometers\n",
    "gridEdge = 1\n",
    "\n",
    "# Set check4stops = False if cells / hexagones should be included that do not have stops within.\n",
    "# Set check4stops = False for preprocessing prior to dynamic mode to gtfs convertion\n",
    "# Set check4stops = True for citychrone accessibility analysis\n",
    "check4stops = False"
   ]
  },
  {
   "cell_type": "markdown",
   "metadata": {
    "id": "OLA8w1Ovzr5h"
   },
   "source": [
    "# Start of the computation"
   ]
  },
  {
   "cell_type": "markdown",
   "metadata": {
    "id": "okUs-50pzr5i",
    "jupyter": {
     "outputs_hidden": false
    },
    "pycharm": {
     "name": "#%% md\n"
    }
   },
   "source": [
    "### add population data"
   ]
  },
  {
   "cell_type": "code",
   "execution_count": 3,
   "metadata": {
    "id": "j6pxOOw7zr5i",
    "pycharm": {
     "name": "#%%\n"
    }
   },
   "outputs": [
    {
     "data": {
      "text/plain": [
       "InsertManyResult([ObjectId('67765358bf5c038c2dafcc31'), ObjectId('67765358bf5c038c2dafcc32'), ObjectId('67765358bf5c038c2dafcc33'), ObjectId('67765358bf5c038c2dafcc34'), ObjectId('67765358bf5c038c2dafcc35'), ObjectId('67765358bf5c038c2dafcc36'), ObjectId('67765358bf5c038c2dafcc37'), ObjectId('67765358bf5c038c2dafcc38'), ObjectId('67765358bf5c038c2dafcc39'), ObjectId('67765358bf5c038c2dafcc3a'), ObjectId('67765358bf5c038c2dafcc3b'), ObjectId('67765358bf5c038c2dafcc3c'), ObjectId('67765358bf5c038c2dafcc3d'), ObjectId('67765358bf5c038c2dafcc3e'), ObjectId('67765358bf5c038c2dafcc3f'), ObjectId('67765358bf5c038c2dafcc40'), ObjectId('67765358bf5c038c2dafcc41'), ObjectId('67765358bf5c038c2dafcc42'), ObjectId('67765358bf5c038c2dafcc43'), ObjectId('67765358bf5c038c2dafcc44'), ObjectId('67765358bf5c038c2dafcc45'), ObjectId('67765358bf5c038c2dafcc46'), ObjectId('67765358bf5c038c2dafcc47'), ObjectId('67765358bf5c038c2dafcc48'), ObjectId('67765358bf5c038c2dafcc49'), ObjectId('67765358bf5c038c2dafcc4a'), ObjectId('67765358bf5c038c2dafcc4b'), ObjectId('67765358bf5c038c2dafcc4c'), ObjectId('67765358bf5c038c2dafcc4d'), ObjectId('67765358bf5c038c2dafcc4e'), ObjectId('67765358bf5c038c2dafcc4f'), ObjectId('67765358bf5c038c2dafcc50'), ObjectId('67765358bf5c038c2dafcc51'), ObjectId('67765358bf5c038c2dafcc52'), ObjectId('67765358bf5c038c2dafcc53'), ObjectId('67765358bf5c038c2dafcc54'), ObjectId('67765358bf5c038c2dafcc55'), ObjectId('67765358bf5c038c2dafcc56'), ObjectId('67765358bf5c038c2dafcc57'), ObjectId('67765358bf5c038c2dafcc58'), ObjectId('67765358bf5c038c2dafcc59'), ObjectId('67765358bf5c038c2dafcc5a'), ObjectId('67765358bf5c038c2dafcc5b'), ObjectId('67765358bf5c038c2dafcc5c'), ObjectId('67765358bf5c038c2dafcc5d'), ObjectId('67765358bf5c038c2dafcc5e'), ObjectId('67765358bf5c038c2dafcc5f'), ObjectId('67765358bf5c038c2dafcc60'), ObjectId('67765358bf5c038c2dafcc61'), ObjectId('67765358bf5c038c2dafcc62'), ObjectId('67765358bf5c038c2dafcc63'), ObjectId('67765358bf5c038c2dafcc64'), ObjectId('67765358bf5c038c2dafcc65'), ObjectId('67765358bf5c038c2dafcc66'), ObjectId('67765358bf5c038c2dafcc67'), ObjectId('67765358bf5c038c2dafcc68'), ObjectId('67765358bf5c038c2dafcc69'), ObjectId('67765358bf5c038c2dafcc6a'), ObjectId('67765358bf5c038c2dafcc6b'), ObjectId('67765358bf5c038c2dafcc6c'), ObjectId('67765358bf5c038c2dafcc6d'), ObjectId('67765358bf5c038c2dafcc6e'), ObjectId('67765358bf5c038c2dafcc6f'), ObjectId('67765358bf5c038c2dafcc70'), ObjectId('67765358bf5c038c2dafcc71'), ObjectId('67765358bf5c038c2dafcc72'), ObjectId('67765358bf5c038c2dafcc73'), ObjectId('67765358bf5c038c2dafcc74'), ObjectId('67765358bf5c038c2dafcc75'), ObjectId('67765358bf5c038c2dafcc76'), ObjectId('67765358bf5c038c2dafcc77'), ObjectId('67765358bf5c038c2dafcc78'), ObjectId('67765358bf5c038c2dafcc79'), ObjectId('67765358bf5c038c2dafcc7a'), ObjectId('67765358bf5c038c2dafcc7b'), ObjectId('67765358bf5c038c2dafcc7c'), ObjectId('67765358bf5c038c2dafcc7d'), ObjectId('67765358bf5c038c2dafcc7e'), ObjectId('67765358bf5c038c2dafcc7f'), ObjectId('67765358bf5c038c2dafcc80'), ObjectId('67765358bf5c038c2dafcc81'), ObjectId('67765358bf5c038c2dafcc82'), ObjectId('67765358bf5c038c2dafcc83'), ObjectId('67765358bf5c038c2dafcc84'), ObjectId('67765358bf5c038c2dafcc85'), ObjectId('67765358bf5c038c2dafcc86'), ObjectId('67765358bf5c038c2dafcc87'), ObjectId('67765358bf5c038c2dafcc88'), ObjectId('67765358bf5c038c2dafcc89'), ObjectId('67765358bf5c038c2dafcc8a'), ObjectId('67765358bf5c038c2dafcc8b'), ObjectId('67765358bf5c038c2dafcc8c'), ObjectId('67765358bf5c038c2dafcc8d'), ObjectId('67765358bf5c038c2dafcc8e'), ObjectId('67765358bf5c038c2dafcc8f'), ObjectId('67765358bf5c038c2dafcc90'), ObjectId('67765358bf5c038c2dafcc91'), ObjectId('67765358bf5c038c2dafcc92'), ObjectId('67765358bf5c038c2dafcc93'), ObjectId('67765358bf5c038c2dafcc94'), ObjectId('67765358bf5c038c2dafcc95'), ObjectId('67765358bf5c038c2dafcc96'), ObjectId('67765358bf5c038c2dafcc97'), ObjectId('67765358bf5c038c2dafcc98'), ObjectId('67765358bf5c038c2dafcc99'), ObjectId('67765358bf5c038c2dafcc9a'), ObjectId('67765358bf5c038c2dafcc9b'), ObjectId('67765358bf5c038c2dafcc9c'), ObjectId('67765358bf5c038c2dafcc9d'), ObjectId('67765358bf5c038c2dafcc9e'), ObjectId('67765358bf5c038c2dafcc9f'), ObjectId('67765358bf5c038c2dafcca0'), ObjectId('67765358bf5c038c2dafcca1'), ObjectId('67765358bf5c038c2dafcca2'), ObjectId('67765358bf5c038c2dafcca3'), ObjectId('67765358bf5c038c2dafcca4'), ObjectId('67765358bf5c038c2dafcca5'), ObjectId('67765358bf5c038c2dafcca6'), ObjectId('67765358bf5c038c2dafcca7'), ObjectId('67765358bf5c038c2dafcca8'), ObjectId('67765358bf5c038c2dafcca9'), ObjectId('67765358bf5c038c2dafccaa'), ObjectId('67765358bf5c038c2dafccab'), ObjectId('67765358bf5c038c2dafccac'), ObjectId('67765358bf5c038c2dafccad'), ObjectId('67765358bf5c038c2dafccae'), ObjectId('67765358bf5c038c2dafccaf'), ObjectId('67765358bf5c038c2dafccb0'), ObjectId('67765358bf5c038c2dafccb1'), ObjectId('67765358bf5c038c2dafccb2'), ObjectId('67765358bf5c038c2dafccb3'), ObjectId('67765358bf5c038c2dafccb4'), ObjectId('67765358bf5c038c2dafccb5'), ObjectId('67765358bf5c038c2dafccb6'), ObjectId('67765358bf5c038c2dafccb7'), ObjectId('67765358bf5c038c2dafccb8'), ObjectId('67765358bf5c038c2dafccb9'), ObjectId('67765358bf5c038c2dafccba'), ObjectId('67765358bf5c038c2dafccbb'), ObjectId('67765358bf5c038c2dafccbc'), ObjectId('67765358bf5c038c2dafccbd'), ObjectId('67765358bf5c038c2dafccbe'), ObjectId('67765358bf5c038c2dafccbf'), ObjectId('67765358bf5c038c2dafccc0'), ObjectId('67765358bf5c038c2dafccc1'), ObjectId('67765358bf5c038c2dafccc2'), ObjectId('67765358bf5c038c2dafccc3'), ObjectId('67765358bf5c038c2dafccc4'), ObjectId('67765358bf5c038c2dafccc5'), ObjectId('67765358bf5c038c2dafccc6'), ObjectId('67765358bf5c038c2dafccc7'), ObjectId('67765358bf5c038c2dafccc8'), ObjectId('67765358bf5c038c2dafccc9'), ObjectId('67765358bf5c038c2dafccca'), ObjectId('67765358bf5c038c2dafcccb'), ObjectId('67765358bf5c038c2dafcccc'), ObjectId('67765358bf5c038c2dafcccd'), ObjectId('67765358bf5c038c2dafccce'), ObjectId('67765358bf5c038c2dafcccf'), ObjectId('67765358bf5c038c2dafccd0'), ObjectId('67765358bf5c038c2dafccd1'), ObjectId('67765358bf5c038c2dafccd2'), ObjectId('67765358bf5c038c2dafccd3'), ObjectId('67765358bf5c038c2dafccd4'), ObjectId('67765358bf5c038c2dafccd5'), ObjectId('67765358bf5c038c2dafccd6'), ObjectId('67765358bf5c038c2dafccd7'), ObjectId('67765358bf5c038c2dafccd8'), ObjectId('67765358bf5c038c2dafccd9'), ObjectId('67765358bf5c038c2dafccda'), ObjectId('67765358bf5c038c2dafccdb'), ObjectId('67765358bf5c038c2dafccdc'), ObjectId('67765358bf5c038c2dafccdd'), ObjectId('67765358bf5c038c2dafccde'), ObjectId('67765358bf5c038c2dafccdf'), ObjectId('67765358bf5c038c2dafcce0'), ObjectId('67765358bf5c038c2dafcce1'), ObjectId('67765358bf5c038c2dafcce2'), ObjectId('67765358bf5c038c2dafcce3'), ObjectId('67765358bf5c038c2dafcce4'), ObjectId('67765358bf5c038c2dafcce5'), ObjectId('67765358bf5c038c2dafcce6'), ObjectId('67765358bf5c038c2dafcce7'), ObjectId('67765358bf5c038c2dafcce8'), ObjectId('67765358bf5c038c2dafcce9'), ObjectId('67765358bf5c038c2dafccea'), ObjectId('67765358bf5c038c2dafcceb'), ObjectId('67765358bf5c038c2dafccec'), ObjectId('67765358bf5c038c2dafcced'), ObjectId('67765358bf5c038c2dafccee'), ObjectId('67765358bf5c038c2dafccef'), ObjectId('67765358bf5c038c2dafccf0'), ObjectId('67765358bf5c038c2dafccf1'), ObjectId('67765358bf5c038c2dafccf2'), ObjectId('67765358bf5c038c2dafccf3'), ObjectId('67765358bf5c038c2dafccf4'), ObjectId('67765358bf5c038c2dafccf5'), ObjectId('67765358bf5c038c2dafccf6'), ObjectId('67765358bf5c038c2dafccf7'), ObjectId('67765358bf5c038c2dafccf8'), ObjectId('67765358bf5c038c2dafccf9'), ObjectId('67765358bf5c038c2dafccfa'), ObjectId('67765358bf5c038c2dafccfb'), ObjectId('67765358bf5c038c2dafccfc'), ObjectId('67765358bf5c038c2dafccfd'), ObjectId('67765358bf5c038c2dafccfe'), ObjectId('67765358bf5c038c2dafccff'), ObjectId('67765358bf5c038c2dafcd00'), ObjectId('67765358bf5c038c2dafcd01'), ObjectId('67765358bf5c038c2dafcd02'), ObjectId('67765358bf5c038c2dafcd03'), ObjectId('67765358bf5c038c2dafcd04'), ObjectId('67765358bf5c038c2dafcd05'), ObjectId('67765358bf5c038c2dafcd06'), ObjectId('67765358bf5c038c2dafcd07'), ObjectId('67765358bf5c038c2dafcd08'), ObjectId('67765358bf5c038c2dafcd09'), ObjectId('67765358bf5c038c2dafcd0a'), ObjectId('67765358bf5c038c2dafcd0b'), ObjectId('67765358bf5c038c2dafcd0c'), ObjectId('67765358bf5c038c2dafcd0d'), ObjectId('67765358bf5c038c2dafcd0e'), ObjectId('67765358bf5c038c2dafcd0f'), ObjectId('67765358bf5c038c2dafcd10'), ObjectId('67765358bf5c038c2dafcd11'), ObjectId('67765358bf5c038c2dafcd12'), ObjectId('67765358bf5c038c2dafcd13'), ObjectId('67765358bf5c038c2dafcd14'), ObjectId('67765358bf5c038c2dafcd15'), ObjectId('67765358bf5c038c2dafcd16'), ObjectId('67765358bf5c038c2dafcd17'), ObjectId('67765358bf5c038c2dafcd18'), ObjectId('67765358bf5c038c2dafcd19'), ObjectId('67765358bf5c038c2dafcd1a'), ObjectId('67765358bf5c038c2dafcd1b'), ObjectId('67765358bf5c038c2dafcd1c'), ObjectId('67765358bf5c038c2dafcd1d'), ObjectId('67765358bf5c038c2dafcd1e'), ObjectId('67765358bf5c038c2dafcd1f'), ObjectId('67765358bf5c038c2dafcd20'), ObjectId('67765358bf5c038c2dafcd21'), ObjectId('67765358bf5c038c2dafcd22'), ObjectId('67765358bf5c038c2dafcd23'), ObjectId('67765358bf5c038c2dafcd24'), ObjectId('67765358bf5c038c2dafcd25'), ObjectId('67765358bf5c038c2dafcd26'), ObjectId('67765358bf5c038c2dafcd27'), ObjectId('67765358bf5c038c2dafcd28'), ObjectId('67765358bf5c038c2dafcd29'), ObjectId('67765358bf5c038c2dafcd2a'), ObjectId('67765358bf5c038c2dafcd2b'), ObjectId('67765358bf5c038c2dafcd2c'), ObjectId('67765358bf5c038c2dafcd2d'), ObjectId('67765358bf5c038c2dafcd2e'), ObjectId('67765358bf5c038c2dafcd2f'), ObjectId('67765358bf5c038c2dafcd30'), ObjectId('67765358bf5c038c2dafcd31'), ObjectId('67765358bf5c038c2dafcd32'), ObjectId('67765358bf5c038c2dafcd33'), ObjectId('67765358bf5c038c2dafcd34'), ObjectId('67765358bf5c038c2dafcd35'), ObjectId('67765358bf5c038c2dafcd36'), ObjectId('67765358bf5c038c2dafcd37'), ObjectId('67765358bf5c038c2dafcd38'), ObjectId('67765358bf5c038c2dafcd39'), ObjectId('67765358bf5c038c2dafcd3a'), ObjectId('67765358bf5c038c2dafcd3b'), ObjectId('67765358bf5c038c2dafcd3c'), ObjectId('67765358bf5c038c2dafcd3d'), ObjectId('67765358bf5c038c2dafcd3e'), ObjectId('67765358bf5c038c2dafcd3f'), ObjectId('67765358bf5c038c2dafcd40'), ObjectId('67765358bf5c038c2dafcd41'), ObjectId('67765358bf5c038c2dafcd42'), ObjectId('67765358bf5c038c2dafcd43'), ObjectId('67765358bf5c038c2dafcd44'), ObjectId('67765358bf5c038c2dafcd45'), ObjectId('67765358bf5c038c2dafcd46'), ObjectId('67765358bf5c038c2dafcd47'), ObjectId('67765358bf5c038c2dafcd48'), ObjectId('67765358bf5c038c2dafcd49'), ObjectId('67765358bf5c038c2dafcd4a'), ObjectId('67765358bf5c038c2dafcd4b'), ObjectId('67765358bf5c038c2dafcd4c'), ObjectId('67765358bf5c038c2dafcd4d'), ObjectId('67765358bf5c038c2dafcd4e'), ObjectId('67765358bf5c038c2dafcd4f'), ObjectId('67765358bf5c038c2dafcd50'), ObjectId('67765358bf5c038c2dafcd51'), ObjectId('67765358bf5c038c2dafcd52'), ObjectId('67765358bf5c038c2dafcd53'), ObjectId('67765358bf5c038c2dafcd54'), ObjectId('67765358bf5c038c2dafcd55'), ObjectId('67765358bf5c038c2dafcd56'), ObjectId('67765358bf5c038c2dafcd57'), ObjectId('67765358bf5c038c2dafcd58'), ObjectId('67765358bf5c038c2dafcd59'), ObjectId('67765358bf5c038c2dafcd5a'), ObjectId('67765358bf5c038c2dafcd5b'), ObjectId('67765358bf5c038c2dafcd5c'), ObjectId('67765358bf5c038c2dafcd5d'), ObjectId('67765358bf5c038c2dafcd5e'), ObjectId('67765358bf5c038c2dafcd5f'), ObjectId('67765358bf5c038c2dafcd60'), ObjectId('67765358bf5c038c2dafcd61'), ObjectId('67765358bf5c038c2dafcd62'), ObjectId('67765358bf5c038c2dafcd63'), ObjectId('67765358bf5c038c2dafcd64'), ObjectId('67765358bf5c038c2dafcd65'), ObjectId('67765358bf5c038c2dafcd66'), ObjectId('67765358bf5c038c2dafcd67'), ObjectId('67765358bf5c038c2dafcd68'), ObjectId('67765358bf5c038c2dafcd69'), ObjectId('67765358bf5c038c2dafcd6a'), ObjectId('67765358bf5c038c2dafcd6b'), ObjectId('67765358bf5c038c2dafcd6c'), ObjectId('67765358bf5c038c2dafcd6d'), ObjectId('67765358bf5c038c2dafcd6e'), ObjectId('67765358bf5c038c2dafcd6f'), ObjectId('67765358bf5c038c2dafcd70'), ObjectId('67765358bf5c038c2dafcd71'), ObjectId('67765358bf5c038c2dafcd72'), ObjectId('67765358bf5c038c2dafcd73'), ObjectId('67765358bf5c038c2dafcd74'), ObjectId('67765358bf5c038c2dafcd75'), ObjectId('67765358bf5c038c2dafcd76'), ObjectId('67765358bf5c038c2dafcd77'), ObjectId('67765358bf5c038c2dafcd78'), ObjectId('67765358bf5c038c2dafcd79'), ObjectId('67765358bf5c038c2dafcd7a'), ObjectId('67765358bf5c038c2dafcd7b'), ObjectId('67765358bf5c038c2dafcd7c'), ObjectId('67765358bf5c038c2dafcd7d'), ObjectId('67765358bf5c038c2dafcd7e'), ObjectId('67765358bf5c038c2dafcd7f'), ObjectId('67765358bf5c038c2dafcd80'), ObjectId('67765358bf5c038c2dafcd81'), ObjectId('67765358bf5c038c2dafcd82'), ObjectId('67765358bf5c038c2dafcd83'), ObjectId('67765358bf5c038c2dafcd84'), ObjectId('67765358bf5c038c2dafcd85'), ObjectId('67765358bf5c038c2dafcd86'), ObjectId('67765358bf5c038c2dafcd87'), ObjectId('67765358bf5c038c2dafcd88'), ObjectId('67765358bf5c038c2dafcd89'), ObjectId('67765358bf5c038c2dafcd8a'), ObjectId('67765358bf5c038c2dafcd8b'), ObjectId('67765358bf5c038c2dafcd8c'), ObjectId('67765358bf5c038c2dafcd8d'), ObjectId('67765358bf5c038c2dafcd8e'), ObjectId('67765358bf5c038c2dafcd8f'), ObjectId('67765358bf5c038c2dafcd90'), ObjectId('67765358bf5c038c2dafcd91'), ObjectId('67765358bf5c038c2dafcd92'), ObjectId('67765358bf5c038c2dafcd93'), ObjectId('67765358bf5c038c2dafcd94'), ObjectId('67765358bf5c038c2dafcd95'), ObjectId('67765358bf5c038c2dafcd96'), ObjectId('67765358bf5c038c2dafcd97'), ObjectId('67765358bf5c038c2dafcd98'), ObjectId('67765358bf5c038c2dafcd99'), ObjectId('67765358bf5c038c2dafcd9a'), ObjectId('67765358bf5c038c2dafcd9b'), ObjectId('67765358bf5c038c2dafcd9c'), ObjectId('67765358bf5c038c2dafcd9d'), ObjectId('67765358bf5c038c2dafcd9e'), ObjectId('67765358bf5c038c2dafcd9f'), ObjectId('67765358bf5c038c2dafcda0'), ObjectId('67765358bf5c038c2dafcda1'), ObjectId('67765358bf5c038c2dafcda2'), ObjectId('67765358bf5c038c2dafcda3'), ObjectId('67765358bf5c038c2dafcda4'), ObjectId('67765358bf5c038c2dafcda5'), ObjectId('67765358bf5c038c2dafcda6'), ObjectId('67765358bf5c038c2dafcda7'), ObjectId('67765358bf5c038c2dafcda8'), ObjectId('67765358bf5c038c2dafcda9'), ObjectId('67765358bf5c038c2dafcdaa'), ObjectId('67765358bf5c038c2dafcdab'), ObjectId('67765358bf5c038c2dafcdac'), ObjectId('67765358bf5c038c2dafcdad'), ObjectId('67765358bf5c038c2dafcdae'), ObjectId('67765358bf5c038c2dafcdaf'), ObjectId('67765358bf5c038c2dafcdb0'), ObjectId('67765358bf5c038c2dafcdb1'), ObjectId('67765358bf5c038c2dafcdb2'), ObjectId('67765358bf5c038c2dafcdb3'), ObjectId('67765358bf5c038c2dafcdb4'), ObjectId('67765358bf5c038c2dafcdb5'), ObjectId('67765358bf5c038c2dafcdb6'), ObjectId('67765358bf5c038c2dafcdb7'), ObjectId('67765358bf5c038c2dafcdb8'), ObjectId('67765358bf5c038c2dafcdb9'), ObjectId('67765358bf5c038c2dafcdba'), ObjectId('67765358bf5c038c2dafcdbb'), ObjectId('67765358bf5c038c2dafcdbc'), ObjectId('67765358bf5c038c2dafcdbd'), ObjectId('67765358bf5c038c2dafcdbe'), ObjectId('67765358bf5c038c2dafcdbf'), ObjectId('67765358bf5c038c2dafcdc0'), ObjectId('67765358bf5c038c2dafcdc1'), ObjectId('67765358bf5c038c2dafcdc2'), ObjectId('67765358bf5c038c2dafcdc3'), ObjectId('67765358bf5c038c2dafcdc4'), ObjectId('67765358bf5c038c2dafcdc5'), ObjectId('67765358bf5c038c2dafcdc6'), ObjectId('67765358bf5c038c2dafcdc7'), ObjectId('67765358bf5c038c2dafcdc8'), ObjectId('67765358bf5c038c2dafcdc9'), ObjectId('67765358bf5c038c2dafcdca'), ObjectId('67765358bf5c038c2dafcdcb'), ObjectId('67765358bf5c038c2dafcdcc'), ObjectId('67765358bf5c038c2dafcdcd'), ObjectId('67765358bf5c038c2dafcdce'), ObjectId('67765358bf5c038c2dafcdcf'), ObjectId('67765358bf5c038c2dafcdd0'), ObjectId('67765358bf5c038c2dafcdd1'), ObjectId('67765358bf5c038c2dafcdd2'), ObjectId('67765358bf5c038c2dafcdd3'), ObjectId('67765358bf5c038c2dafcdd4'), ObjectId('67765358bf5c038c2dafcdd5'), ObjectId('67765358bf5c038c2dafcdd6'), ObjectId('67765358bf5c038c2dafcdd7'), ObjectId('67765358bf5c038c2dafcdd8'), ObjectId('67765358bf5c038c2dafcdd9'), ObjectId('67765358bf5c038c2dafcdda'), ObjectId('67765358bf5c038c2dafcddb'), ObjectId('67765358bf5c038c2dafcddc'), ObjectId('67765358bf5c038c2dafcddd'), ObjectId('67765358bf5c038c2dafcdde'), ObjectId('67765358bf5c038c2dafcddf'), ObjectId('67765358bf5c038c2dafcde0'), ObjectId('67765358bf5c038c2dafcde1'), ObjectId('67765358bf5c038c2dafcde2'), ObjectId('67765358bf5c038c2dafcde3'), ObjectId('67765358bf5c038c2dafcde4'), ObjectId('67765358bf5c038c2dafcde5'), ObjectId('67765358bf5c038c2dafcde6'), ObjectId('67765358bf5c038c2dafcde7'), ObjectId('67765358bf5c038c2dafcde8'), ObjectId('67765358bf5c038c2dafcde9'), ObjectId('67765358bf5c038c2dafcdea'), ObjectId('67765358bf5c038c2dafcdeb'), ObjectId('67765358bf5c038c2dafcdec'), ObjectId('67765358bf5c038c2dafcded'), ObjectId('67765358bf5c038c2dafcdee'), ObjectId('67765358bf5c038c2dafcdef'), ObjectId('67765358bf5c038c2dafcdf0'), ObjectId('67765358bf5c038c2dafcdf1'), ObjectId('67765358bf5c038c2dafcdf2'), ObjectId('67765358bf5c038c2dafcdf3'), ObjectId('67765358bf5c038c2dafcdf4'), ObjectId('67765358bf5c038c2dafcdf5'), ObjectId('67765358bf5c038c2dafcdf6'), ObjectId('67765358bf5c038c2dafcdf7'), ObjectId('67765358bf5c038c2dafcdf8'), ObjectId('67765358bf5c038c2dafcdf9'), ObjectId('67765358bf5c038c2dafcdfa'), ObjectId('67765358bf5c038c2dafcdfb'), ObjectId('67765358bf5c038c2dafcdfc'), ObjectId('67765358bf5c038c2dafcdfd'), ObjectId('67765358bf5c038c2dafcdfe'), ObjectId('67765358bf5c038c2dafcdff'), ObjectId('67765358bf5c038c2dafce00'), ObjectId('67765358bf5c038c2dafce01'), ObjectId('67765358bf5c038c2dafce02'), ObjectId('67765358bf5c038c2dafce03'), ObjectId('67765358bf5c038c2dafce04'), ObjectId('67765358bf5c038c2dafce05'), ObjectId('67765358bf5c038c2dafce06'), ObjectId('67765358bf5c038c2dafce07'), ObjectId('67765358bf5c038c2dafce08'), ObjectId('67765358bf5c038c2dafce09'), ObjectId('67765358bf5c038c2dafce0a'), ObjectId('67765358bf5c038c2dafce0b'), ObjectId('67765358bf5c038c2dafce0c'), ObjectId('67765358bf5c038c2dafce0d'), ObjectId('67765358bf5c038c2dafce0e'), ObjectId('67765358bf5c038c2dafce0f'), ObjectId('67765358bf5c038c2dafce10'), ObjectId('67765358bf5c038c2dafce11'), ObjectId('67765358bf5c038c2dafce12'), ObjectId('67765358bf5c038c2dafce13'), ObjectId('67765358bf5c038c2dafce14'), ObjectId('67765358bf5c038c2dafce15'), ObjectId('67765358bf5c038c2dafce16'), ObjectId('67765358bf5c038c2dafce17'), ObjectId('67765358bf5c038c2dafce18'), ObjectId('67765358bf5c038c2dafce19'), ObjectId('67765358bf5c038c2dafce1a'), ObjectId('67765358bf5c038c2dafce1b'), ObjectId('67765358bf5c038c2dafce1c'), ObjectId('67765358bf5c038c2dafce1d'), ObjectId('67765358bf5c038c2dafce1e'), ObjectId('67765358bf5c038c2dafce1f'), ObjectId('67765358bf5c038c2dafce20'), ObjectId('67765358bf5c038c2dafce21'), ObjectId('67765358bf5c038c2dafce22'), ObjectId('67765358bf5c038c2dafce23'), ObjectId('67765358bf5c038c2dafce24'), ObjectId('67765358bf5c038c2dafce25'), ObjectId('67765358bf5c038c2dafce26'), ObjectId('67765358bf5c038c2dafce27'), ObjectId('67765358bf5c038c2dafce28'), ObjectId('67765358bf5c038c2dafce29'), ObjectId('67765358bf5c038c2dafce2a'), ObjectId('67765358bf5c038c2dafce2b'), ObjectId('67765358bf5c038c2dafce2c'), ObjectId('67765358bf5c038c2dafce2d'), ObjectId('67765358bf5c038c2dafce2e'), ObjectId('67765358bf5c038c2dafce2f'), ObjectId('67765358bf5c038c2dafce30'), ObjectId('67765358bf5c038c2dafce31'), ObjectId('67765358bf5c038c2dafce32'), ObjectId('67765358bf5c038c2dafce33'), ObjectId('67765358bf5c038c2dafce34'), ObjectId('67765358bf5c038c2dafce35'), ObjectId('67765358bf5c038c2dafce36'), ObjectId('67765358bf5c038c2dafce37'), ObjectId('67765358bf5c038c2dafce38'), ObjectId('67765358bf5c038c2dafce39'), ObjectId('67765358bf5c038c2dafce3a'), ObjectId('67765358bf5c038c2dafce3b'), ObjectId('67765358bf5c038c2dafce3c'), ObjectId('67765358bf5c038c2dafce3d'), ObjectId('67765358bf5c038c2dafce3e'), ObjectId('67765358bf5c038c2dafce3f'), ObjectId('67765358bf5c038c2dafce40'), ObjectId('67765358bf5c038c2dafce41'), ObjectId('67765358bf5c038c2dafce42'), ObjectId('67765358bf5c038c2dafce43'), ObjectId('67765358bf5c038c2dafce44'), ObjectId('67765358bf5c038c2dafce45'), ObjectId('67765358bf5c038c2dafce46'), ObjectId('67765358bf5c038c2dafce47'), ObjectId('67765358bf5c038c2dafce48'), ObjectId('67765358bf5c038c2dafce49'), ObjectId('67765358bf5c038c2dafce4a'), ObjectId('67765358bf5c038c2dafce4b'), ObjectId('67765358bf5c038c2dafce4c'), ObjectId('67765358bf5c038c2dafce4d'), ObjectId('67765358bf5c038c2dafce4e'), ObjectId('67765358bf5c038c2dafce4f'), ObjectId('67765358bf5c038c2dafce50'), ObjectId('67765358bf5c038c2dafce51'), ObjectId('67765358bf5c038c2dafce52'), ObjectId('67765358bf5c038c2dafce53'), ObjectId('67765358bf5c038c2dafce54'), ObjectId('67765358bf5c038c2dafce55'), ObjectId('67765358bf5c038c2dafce56'), ObjectId('67765358bf5c038c2dafce57'), ObjectId('67765358bf5c038c2dafce58'), ObjectId('67765358bf5c038c2dafce59'), ObjectId('67765358bf5c038c2dafce5a'), ObjectId('67765358bf5c038c2dafce5b'), ObjectId('67765358bf5c038c2dafce5c'), ObjectId('67765358bf5c038c2dafce5d'), ObjectId('67765358bf5c038c2dafce5e'), ObjectId('67765358bf5c038c2dafce5f'), ObjectId('67765358bf5c038c2dafce60'), ObjectId('67765358bf5c038c2dafce61'), ObjectId('67765358bf5c038c2dafce62'), ObjectId('67765358bf5c038c2dafce63'), ObjectId('67765358bf5c038c2dafce64'), ObjectId('67765358bf5c038c2dafce65'), ObjectId('67765358bf5c038c2dafce66'), ObjectId('67765358bf5c038c2dafce67'), ObjectId('67765358bf5c038c2dafce68'), ObjectId('67765358bf5c038c2dafce69'), ObjectId('67765358bf5c038c2dafce6a'), ObjectId('67765358bf5c038c2dafce6b'), ObjectId('67765358bf5c038c2dafce6c'), ObjectId('67765358bf5c038c2dafce6d'), ObjectId('67765358bf5c038c2dafce6e'), ObjectId('67765358bf5c038c2dafce6f'), ObjectId('67765358bf5c038c2dafce70'), ObjectId('67765358bf5c038c2dafce71'), ObjectId('67765358bf5c038c2dafce72'), ObjectId('67765358bf5c038c2dafce73'), ObjectId('67765358bf5c038c2dafce74'), ObjectId('67765358bf5c038c2dafce75')], acknowledged=True)"
      ]
     },
     "execution_count": 3,
     "metadata": {},
     "output_type": "execute_result"
    }
   ],
   "source": [
    "\n",
    "shapefile = gpd.read_file(shpPath)\n",
    "shapefile.to_file(\"../Cities/Padam_terretory_01/shp files/opps_for_padam_terretory_01.geojson\", driver='GeoJSON')\n",
    "with open(\"../Cities/Padam_terretory_01/shp files/opps_for_padam_terretory_01.geojson\",encoding=\"utf8\") as f:\n",
    "    gj = geojson.load(f)\n",
    "features = gj['features']\n",
    "gtfsDB[\"POP\"].drop()\n",
    "gtfsDB[\"POP\"].insert_many(features)\n"
   ]
  },
  {
   "cell_type": "code",
   "execution_count": 4,
   "metadata": {
    "code_folding": [],
    "colab": {
     "base_uri": "https://localhost:8080/"
    },
    "id": "OAsrhBWPzr5i",
    "outputId": "453e5d32-a409-4e74-eb0d-22686e0641c2"
   },
   "outputs": [
    {
     "name": "stdout",
     "output_type": "stream",
     "text": [
      "removing stops  of  padam_territory_01\n",
      "removing routes  of  padam_territory_01\n",
      "removing trips  of  padam_territory_01\n",
      "removing calendar  of  padam_territory_01\n",
      "removing calendar_dates  of  padam_territory_01\n",
      "removing stop_times  of  padam_territory_01\n",
      "gtfs_PT_DRT_scenario_25.zip\n",
      "stops.txt -> (1108,1108)\n",
      "routes.txt -> (588131,588131)\n",
      "trips.txt -> (593857,593857)\n",
      "calendar.txt -> (76,76)\n",
      "calendar_dates.txt -> (85,85)\n",
      "stop_times.txt -> (1198790,1198790)\n"
     ]
    }
   ],
   "source": [
    "# load Gtfs data to mongodb database\n",
    "listOfFile = ['stops.txt', 'routes.txt', 'trips.txt', 'calendar.txt', 'calendar_dates.txt',\n",
    "              'stop_times.txt']  \n",
    "libStopsPoints.loadGtfsFile(gtfsDB, directoryGTFS, city, listOfFile)"
   ]
  },
  {
   "cell_type": "markdown",
   "metadata": {
    "id": "qV9UEpQ9zr5i"
   },
   "source": [
    "## Fill the database with the connections"
   ]
  },
  {
   "cell_type": "code",
   "execution_count": 7,
   "metadata": {
    "colab": {
     "base_uri": "https://localhost:8080/"
    },
    "id": "wFho5s7Ozr5i",
    "outputId": "48390d6b-177e-45e1-92e2-749acf9035b5"
   },
   "outputs": [
    {
     "name": "stdout",
     "output_type": "stream",
     "text": [
      "number of file in calendar+calendar_dates: 1\n",
      "in stops: 1\n",
      "\n",
      "Checking the number of services active in the date selected:\n",
      "file: gtfs_PT_DRT_scenario_25.zip \t total number of active service (in calendar.txt): 22\n",
      "number of different service_id: 1\n",
      "\n",
      "\n",
      "file: gtfs_PT_DRT_scenario_25.zip \t total number of active service (in calendar_dates.txt): 23\n",
      "number of different service_id: 1 total number of active services found: 23\n",
      "number of trips 593000\n",
      " gtfs_PT_DRT_scenario_25.zip\n",
      "inserting to DB....94688, err 0, err_start 0, err_start_after 0\n",
      "tot connections 295909\n",
      "number of file in calendar+calendar_dates: 1\n",
      "in stops: 1\n",
      "\n",
      "Checking the number of services active in the date selected:\n",
      "file: gtfs_PT_DRT_scenario_25.zip \t total number of active service (in calendar.txt): 35\n",
      "number of different service_id: 1\n",
      "\n",
      "\n",
      "file: gtfs_PT_DRT_scenario_25.zip \t total number of active service (in calendar_dates.txt): 36\n",
      "number of different service_id: 1 total number of active services found: 36\n",
      "number of trips 593000\n",
      " gtfs_PT_DRT_scenario_25.zip\n",
      "inserting to DB....96426, err 0, err_start 0, err_start_after 0\n",
      "tot connections 303634\n"
     ]
    }
   ],
   "source": [
    "\n",
    "libConnections.readConnections(gtfsDB, city, directoryGTFS, days[0], day_names[0], overwrite=True)\n",
    "libConnections.readConnections(gtfsDB, city, directoryGTFS, days[1], day_names[1], overwrite=False)\n"
   ]
  },
  {
   "cell_type": "markdown",
   "metadata": {
    "id": "tl1uUS47zr5j"
   },
   "source": [
    "## Remove stops with no connections and add to each stop the pos field"
   ]
  },
  {
   "cell_type": "code",
   "execution_count": 8,
   "metadata": {
    "colab": {
     "base_uri": "https://localhost:8080/"
    },
    "id": "FPkn9Z4azr5j",
    "outputId": "a6b83de1-a8e8-4cf4-a3d9-fcc8c70d31ac",
    "scrolled": true
   },
   "outputs": [
    {
     "name": "stdout",
     "output_type": "stream",
     "text": [
      "9617-removed stops{'gtfs_PT_DRT_scenario_25.zip': 147}\r"
     ]
    }
   ],
   "source": [
    "libStopsPoints.removingStopsNoConnections(gtfsDB, city)\n",
    "libStopsPoints.setPosField(gtfsDB, city)"
   ]
  },
  {
   "cell_type": "code",
   "execution_count": 9,
   "metadata": {
    "id": "8ODjatAyzr5j",
    "outputId": "687c8325-286c-4458-ee2b-c479c0e151c0",
    "scrolled": true
   },
   "outputs": [
    {
     "name": "stdout",
     "output_type": "stream",
     "text": [
      "connections deleted 043 pEnd 599543, totC 599543\n"
     ]
    }
   ],
   "source": [
    "libConnections.updateConnectionsStopName(gtfsDB, city)"
   ]
  },
  {
   "cell_type": "markdown",
   "metadata": {
    "id": "P05X2M-2zr5j"
   },
   "source": [
    "# Tassel with exagons"
   ]
  },
  {
   "cell_type": "markdown",
   "metadata": {
    "id": "nvXCsEwpzr5j"
   },
   "source": [
    "### List of all stops"
   ]
  },
  {
   "cell_type": "code",
   "execution_count": 10,
   "metadata": {
    "id": "ozYshZxNzr5j",
    "outputId": "6dc8acde-5046-4d6f-d4b3-e42fe2174e04"
   },
   "outputs": [
    {
     "name": "stdout",
     "output_type": "stream",
     "text": [
      "tot stop 961  stop error : 0\n"
     ]
    }
   ],
   "source": [
    "stopsList = libStopsPoints.returnStopsList(gtfsDB, city)"
   ]
  },
  {
   "cell_type": "markdown",
   "metadata": {
    "id": "8jjluOmyzr5j"
   },
   "source": [
    "## Compute the box that include all stops\n",
    "The edge of such box are enlarged by distanceS."
   ]
  },
  {
   "cell_type": "code",
   "execution_count": 11,
   "metadata": {
    "id": "sJ5y3tu5zr5k",
    "outputId": "b6d2ef88-bd30-48a1-dfc2-8a3839022c1c"
   },
   "outputs": [
    {
     "data": {
      "text/html": [
       "<h1>All stops of the public transport present in the gtfs files</h1>"
      ],
      "text/plain": [
       "<IPython.core.display.HTML object>"
      ]
     },
     "metadata": {},
     "output_type": "display_data"
    },
    {
     "data": {
      "text/html": [
       "<div style=\"width:100%;\"><div style=\"position:relative;width:100%;height:0;padding-bottom:60%;\"><span style=\"color:#565656\">Make this Notebook Trusted to load map: File -> Trust Notebook</span><iframe srcdoc=\"&lt;!DOCTYPE html&gt;\n",
       "&lt;html&gt;\n",
       "&lt;head&gt;\n",
       "    \n",
       "    &lt;meta http-equiv=&quot;content-type&quot; content=&quot;text/html; charset=UTF-8&quot; /&gt;\n",
       "    \n",
       "        &lt;script&gt;\n",
       "            L_NO_TOUCH = false;\n",
       "            L_DISABLE_3D = false;\n",
       "        &lt;/script&gt;\n",
       "    \n",
       "    &lt;style&gt;html, body {width: 100%;height: 100%;margin: 0;padding: 0;}&lt;/style&gt;\n",
       "    &lt;style&gt;#map {position:absolute;top:0;bottom:0;right:0;left:0;}&lt;/style&gt;\n",
       "    &lt;script src=&quot;https://cdn.jsdelivr.net/npm/leaflet@1.9.3/dist/leaflet.js&quot;&gt;&lt;/script&gt;\n",
       "    &lt;script src=&quot;https://code.jquery.com/jquery-3.7.1.min.js&quot;&gt;&lt;/script&gt;\n",
       "    &lt;script src=&quot;https://cdn.jsdelivr.net/npm/bootstrap@5.2.2/dist/js/bootstrap.bundle.min.js&quot;&gt;&lt;/script&gt;\n",
       "    &lt;script src=&quot;https://cdnjs.cloudflare.com/ajax/libs/Leaflet.awesome-markers/2.0.2/leaflet.awesome-markers.js&quot;&gt;&lt;/script&gt;\n",
       "    &lt;link rel=&quot;stylesheet&quot; href=&quot;https://cdn.jsdelivr.net/npm/leaflet@1.9.3/dist/leaflet.css&quot;/&gt;\n",
       "    &lt;link rel=&quot;stylesheet&quot; href=&quot;https://cdn.jsdelivr.net/npm/bootstrap@5.2.2/dist/css/bootstrap.min.css&quot;/&gt;\n",
       "    &lt;link rel=&quot;stylesheet&quot; href=&quot;https://netdna.bootstrapcdn.com/bootstrap/3.0.0/css/bootstrap-glyphicons.css&quot;/&gt;\n",
       "    &lt;link rel=&quot;stylesheet&quot; href=&quot;https://cdn.jsdelivr.net/npm/@fortawesome/fontawesome-free@6.2.0/css/all.min.css&quot;/&gt;\n",
       "    &lt;link rel=&quot;stylesheet&quot; href=&quot;https://cdnjs.cloudflare.com/ajax/libs/Leaflet.awesome-markers/2.0.2/leaflet.awesome-markers.css&quot;/&gt;\n",
       "    &lt;link rel=&quot;stylesheet&quot; href=&quot;https://cdn.jsdelivr.net/gh/python-visualization/folium/folium/templates/leaflet.awesome.rotate.min.css&quot;/&gt;\n",
       "    \n",
       "            &lt;meta name=&quot;viewport&quot; content=&quot;width=device-width,\n",
       "                initial-scale=1.0, maximum-scale=1.0, user-scalable=no&quot; /&gt;\n",
       "            &lt;style&gt;\n",
       "                #map_d9258ee25e2de57b2d22e97347714c82 {\n",
       "                    position: relative;\n",
       "                    width: 100.0%;\n",
       "                    height: 100.0%;\n",
       "                    left: 0.0%;\n",
       "                    top: 0.0%;\n",
       "                }\n",
       "                .leaflet-container { font-size: 1rem; }\n",
       "            &lt;/style&gt;\n",
       "        \n",
       "    &lt;script src=&quot;https://cdnjs.cloudflare.com/ajax/libs/leaflet.markercluster/1.1.0/leaflet.markercluster.js&quot;&gt;&lt;/script&gt;\n",
       "    &lt;link rel=&quot;stylesheet&quot; href=&quot;https://cdnjs.cloudflare.com/ajax/libs/leaflet.markercluster/1.1.0/MarkerCluster.css&quot;/&gt;\n",
       "    &lt;link rel=&quot;stylesheet&quot; href=&quot;https://cdnjs.cloudflare.com/ajax/libs/leaflet.markercluster/1.1.0/MarkerCluster.Default.css&quot;/&gt;\n",
       "&lt;/head&gt;\n",
       "&lt;body&gt;\n",
       "    \n",
       "    \n",
       "            &lt;div class=&quot;folium-map&quot; id=&quot;map_d9258ee25e2de57b2d22e97347714c82&quot; &gt;&lt;/div&gt;\n",
       "        \n",
       "&lt;/body&gt;\n",
       "&lt;script&gt;\n",
       "    \n",
       "    \n",
       "            var map_d9258ee25e2de57b2d22e97347714c82 = L.map(\n",
       "                &quot;map_d9258ee25e2de57b2d22e97347714c82&quot;,\n",
       "                {\n",
       "                    center: [48.8894065, 1.9390583],\n",
       "                    crs: L.CRS.EPSG3857,\n",
       "                    zoom: 10,\n",
       "                    zoomControl: true,\n",
       "                    preferCanvas: false,\n",
       "                }\n",
       "            );\n",
       "\n",
       "            \n",
       "\n",
       "        \n",
       "    \n",
       "            var tile_layer_63981edb66089079a24f1c8f36dcae66 = L.tileLayer(\n",
       "                &quot;https://tile.openstreetmap.org/{z}/{x}/{y}.png&quot;,\n",
       "                {&quot;attribution&quot;: &quot;\\u0026copy; \\u003ca href=\\&quot;https://www.openstreetmap.org/copyright\\&quot;\\u003eOpenStreetMap\\u003c/a\\u003e contributors&quot;, &quot;detectRetina&quot;: false, &quot;maxNativeZoom&quot;: 19, &quot;maxZoom&quot;: 19, &quot;minZoom&quot;: 0, &quot;noWrap&quot;: false, &quot;opacity&quot;: 1, &quot;subdomains&quot;: &quot;abc&quot;, &quot;tms&quot;: false}\n",
       "            );\n",
       "        \n",
       "    \n",
       "            tile_layer_63981edb66089079a24f1c8f36dcae66.addTo(map_d9258ee25e2de57b2d22e97347714c82);\n",
       "        \n",
       "    \n",
       "            var poly_line_f9f3555ddcf2a8c31e35b1abf53a7374 = L.polyline(\n",
       "                [[48.928343831839136, 1.8266460206188384], [48.928343831839136, 2.0514705793811614], [48.85046916816086, 2.0514705793811614], [48.85046916816086, 1.8266460206188384], [48.928343831839136, 1.8266460206188384]],\n",
       "                {&quot;bubblingMouseEvents&quot;: true, &quot;color&quot;: &quot;#3388ff&quot;, &quot;dashArray&quot;: null, &quot;dashOffset&quot;: null, &quot;fill&quot;: false, &quot;fillColor&quot;: &quot;#3388ff&quot;, &quot;fillOpacity&quot;: 0.2, &quot;fillRule&quot;: &quot;evenodd&quot;, &quot;lineCap&quot;: &quot;round&quot;, &quot;lineJoin&quot;: &quot;round&quot;, &quot;noClip&quot;: false, &quot;opacity&quot;: 1.0, &quot;smoothFactor&quot;: 1.0, &quot;stroke&quot;: true, &quot;weight&quot;: 3}\n",
       "            ).addTo(map_d9258ee25e2de57b2d22e97347714c82);\n",
       "        \n",
       "    \n",
       "            var fast_marker_cluster_3a61186f05c8bc6997429814bb692548 = (function(){\n",
       "                \n",
       "                var callback = function (row) {\n",
       "                    var icon = L.AwesomeMarkers.icon();\n",
       "                    var marker = L.marker(new L.LatLng(row[0], row[1]));\n",
       "                    marker.setIcon(icon);\n",
       "                    return marker;\n",
       "                };\n",
       "\n",
       "                var data = [[48.860056612665424, 1.8755955719389823], [48.90932809474093, 1.8568974216555527], [48.89302020567544, 1.8718488171877576], [48.912612900572725, 1.8533582029135616], [48.91788308159454, 2.039470681637032], [48.91710987509119, 2.039498599194327], [48.91945028948971, 1.976750234493775], [48.926290258212326, 1.946193679127712], [48.92624908384244, 1.9435603882984696], [48.92406470699618, 1.9949063941264955], [48.923284369961614, 1.9749825483205423], [48.9232685447108, 1.9954130805941448], [48.92320708829056, 1.995591683377263], [48.86311306657909, 1.871610417368872], [48.85959666217409, 1.875462373121668], [48.85703183688373, 1.8497563129362065], [48.856818332135546, 1.849065878304457], [48.916286089370935, 1.9949884039908228], [48.91235921018406, 2.0007540148912835], [48.91144827657797, 2.008016628118928], [48.91556275428468, 2.009643869664944], [48.90678250551388, 2.03243109654676], [48.86107310041813, 1.8736993143219016], [48.917939763967006, 2.026437761876421], [48.85606922252436, 1.876233642766984], [48.853035054641474, 1.8991144858082465], [48.85346618649183, 1.8990508592434088], [48.85553537021626, 1.904990659352808], [48.85614072563023, 1.9052914277578403], [48.85881700222369, 1.907811403572603], [48.85643946770056, 1.905503232798076], [48.85861080051185, 1.9078838797296955], [48.85692432037676, 1.9024671315542323], [48.85702311108964, 1.902451420191104], [48.85376505346381, 1.9836554728177305], [48.92057609494638, 2.0388478125955447], [48.92049557742182, 2.031084380591608], [48.9236719556112, 1.9750840934593643], [48.92068518195228, 2.031176376711592], [48.92129786438956, 2.027985258134918], [48.92145783828185, 2.027750272903506], [48.926061029634006, 1.946716955950187], [48.92217666550438, 1.970609976432906], [48.92222045267137, 1.970472638174547], [48.92363075732348, 1.962979507671955], [48.92351799528928, 1.963459419571704], [48.92623302492037, 1.9437790873916965], [48.918548589054645, 1.9891860156931696], [48.918481500184754, 1.988696056476334], [48.91957547742189, 1.976665893798508], [48.91848030273292, 1.9843020087407808], [48.918613678251454, 1.984122004501332], [48.91967060511795, 2.026390367795844], [48.91938714612943, 2.02636974334625], [48.92040250236086, 2.035152796398126], [48.920060256317406, 2.0350909098914483], [48.92538609378183, 1.991619000933352], [48.92650103722174, 1.9873254801676328], [48.90815902282453, 2.0313822537793804], [48.90727781519693, 2.0225442430755387], [48.90694115344553, 2.038731237324648], [48.907128455403566, 2.038536774816255], [48.90329883300175, 2.0454831213280302], [48.90367712134064, 2.044425736864366], [48.90565910842766, 2.0392324088838105], [48.90456211435952, 2.0415036561223587], [48.90267255289812, 2.050419333995794], [48.90149285344573, 2.04795808353112], [48.90269280791812, 2.0507054445463693], [48.9067366633184, 2.032322804685606], [48.90626686823463, 2.042127120642986], [48.905760538452505, 2.0462974694041787], [48.90821198263512, 2.031258477645852], [48.90280015260699, 2.031536540220566], [48.90312331866666, 2.031462317340285], [48.910379520398266, 2.0312727085054982], [48.9082799644629, 2.043072396254112], [48.908995955195856, 2.042636281384524], [48.90125521805233, 2.0240214902834244], [48.90333953223706, 2.02044909673284], [48.907503285696585, 2.02262186817673], [48.92025552428348, 1.969965647491124], [48.92019070378267, 1.969748583909878], [48.92515486752979, 1.997287367477921], [48.86753404892435, 1.97094343352995], [48.877136741601575, 1.9790269585876343], [48.88234079052352, 1.9818022780620064], [48.88173401798265, 1.981309588992126], [48.86763456444063, 1.971127536872002], [48.87417882438702, 1.973890159729606], [48.86001268757797, 2.015552437027645], [48.8603365290167, 2.015559948586499], [48.87118304826323, 2.009015262568901], [48.87122767158409, 2.008973512313806], [48.86389729680401, 2.029778793476202], [48.86418191756677, 2.030495981446093], [48.869063204777, 2.016976469657188], [48.86642875695514, 2.021456739394863], [48.86657230162389, 2.021413145367556], [48.85608698301734, 2.0194020587712385], [48.85604246712358, 2.0194574156199225], [48.86911693532911, 2.0169481892805816], [48.85489763494133, 2.022436552246534], [48.91380185819266, 2.0230084383120595], [48.91342474820349, 2.0230837416826426], [48.92611583270684, 2.036589079653721], [48.92624939655914, 2.037541974281298], [48.92450782176647, 2.03012256650471], [48.91891637186772, 2.012800557465668], [48.921722714849935, 2.022723246362045], [48.92225448259917, 2.0239687913427016], [48.921397415312896, 2.021432903253486], [48.91788614757372, 2.024269060049686], [48.91789269459752, 2.0239687264502613], [48.922047451150064, 2.025050790635609], [48.91460137170139, 2.0228979131019225], [48.91470760693593, 2.022691241748314], [48.924400138971706, 2.030151869036025], [48.92221338713395, 2.0277634494992123], [48.91696983064308, 1.969607663160725], [48.91691275224108, 1.970291083807606], [48.92517893527299, 1.9915820720418296], [48.91970330388024, 2.0177256398240777], [48.91791034833461, 2.026138101366886], [48.91995575492388, 2.0388729173720805], [48.92518104720742, 2.033303612280106], [48.9252737186911, 2.033643087061193], [48.922316171255495, 2.037150726598701], [48.92223568182752, 2.037206804248581], [48.90919850471593, 1.8565169845233689], [48.91755622190748, 1.8691062030616024], [48.90906154340309, 1.8563016893133213], [48.917501240823306, 1.8689982283147253], [48.88401618526934, 1.920497434822064], [48.88637595883795, 1.9238716299899248], [48.87740542902581, 1.9446739260408816], [48.87746849486816, 1.9446862836261345], [48.89344039590818, 1.9243530389573025], [48.88632784971267, 1.9225224719473943], [48.92483490747544, 1.868456664460569], [48.92587051430615, 1.865745406349385], [48.92105438725564, 1.8757582072101104], [48.92093711014619, 1.8757197998434667], [48.85575680090301, 1.97674721664138], [48.85345963915595, 1.9922069082878924], [48.85299683311167, 1.9863962647821296], [48.923007454190966, 1.8720857367687085], [48.88033193000121, 1.8280641264993456], [48.88028616904564, 1.827983336995644], [48.91380955713772, 1.915212805375516], [48.913671143362045, 1.912841445113048], [48.856908737706895, 1.875602170990439], [48.91278191650159, 1.8531634489340123], [48.91100808017943, 1.8557677098532328], [48.91220054111184, 1.918289111130254], [48.91312701344357, 1.922295108877439], [48.911979191976286, 1.918675761599586], [48.913811442645766, 1.919401817231765], [48.91325547720029, 1.9225789927621648], [48.90979689902869, 1.8579637678839425], [48.91381058117751, 1.919306319330492], [48.9010428511075, 2.0244483593521414], [48.87068019680873, 1.9717913257587445], [48.87015899270257, 1.971842515023274], [48.87697080978269, 1.978552975127316], [48.87467235186576, 1.9748075983058253], [48.8656580386346, 1.9766208882553828], [48.86568688038823, 1.976838439652394], [48.86670214700544, 1.978822495932588], [48.86589004708428, 1.948397136358488], [48.91150190599588, 2.038865307696216], [48.901712893295176, 2.0484860837266337], [48.90682251924694, 1.88496109612814], [48.895054028985946, 1.86911760243534], [48.89215973757311, 1.880787723110412], [48.89211809095556, 1.8811432459069768], [48.89397294303369, 1.8746516571222387], [48.89416897242501, 1.8744564587950328], [48.886760338087846, 1.862328634770344], [48.88206281549044, 1.8601538938955529], [48.88198292534856, 1.860264737930412], [48.88674170618898, 1.8622608510710088], [48.912149632655016, 1.867054165388624], [48.912170325449125, 1.8673402559062355], [48.91786924492569, 1.8509634395404608], [48.91740468276001, 1.851287560655375], [48.9130589344445, 1.8709641408097804], [48.912969659027446, 1.871034302658996], [48.91021444163616, 1.857422477136244], [48.915427237711285, 1.874146777680638], [48.9156928883995, 1.8737043674922624], [48.92322217041991, 2.0268438757828497], [48.89684739799777, 1.8685466540946485], [48.906751458739166, 1.876394591329496], [48.90682249809007, 1.876297554063879], [48.92388776108896, 1.974028975142656], [48.92434050704499, 1.975439413268803], [48.85568499940026, 2.0197367362302296], [48.85636595935201, 2.017229662774094], [48.85750299643781, 2.018789311764874], [48.86907532946999, 2.008632732825496], [48.859930400562384, 2.0208699955096145], [48.86358801606506, 2.029348338824094], [48.85768878559207, 2.012946636391105], [48.85228405555908, 2.045163817220337], [48.852720351613485, 2.042361910318485], [48.85296647028314, 2.041648683846919], [48.85339334335788, 2.034335674404881], [48.85293423453928, 2.0188072021924115], [48.85763088481691, 2.0212267042239977], [48.85766652043327, 2.0211851442289586], [48.860935417680125, 2.024994940515327], [48.862033717749576, 2.026228466134633], [48.86171104847337, 2.0142798999285687], [48.86163922099747, 2.014294890210224], [48.85912187085739, 2.015501116700652], [48.85869034339382, 2.0155229014931906], [48.85305890083228, 2.018654935843061], [48.85792560481857, 2.012217564863374], [48.85511167417509, 2.0222144643073507], [48.92297212471166, 1.873110074732636], [48.87337685451202, 1.880400540378123], [48.86319271154209, 1.8714723725092524], [48.85986374773951, 2.0237200753923386], [48.85985431048187, 2.0236657292508813], [48.85542327350857, 1.995767155216429], [48.8523819508457, 1.877226318451956], [48.85256115813374, 1.8771543109891995], [48.92020904677423, 2.0312398278239803], [48.92031595791409, 2.031115018309248], [48.86456204371696, 2.026358420547963], [48.86476654132692, 2.0260683258655106], [48.85574629332596, 1.976570235927407], [48.91229365161128, 2.035548728605721], [48.911912042722406, 2.036183440661922], [48.90851618947696, 1.8680064643192973], [48.90862267364052, 1.8678540656785307], [48.866956660444266, 2.0501434026293768], [48.90695134364697, 1.8862408155007204], [48.86357747579386, 2.029157691287897], [48.910935644815616, 2.029979810949572], [48.92477531525937, 1.8688128113580835], [48.92594231883999, 1.8657301925371208], [48.91798998422431, 1.9669264744685984], [48.9179821687004, 1.9670630905897248], [48.90292383659926, 2.0312613989031925], [48.919821430241655, 2.017873521093157], [48.92357228390546, 2.0278745322436387], [48.92635128817764, 1.9876968974722995], [48.91046833801791, 2.0311346154812107], [48.91602527365492, 2.01666249035648], [48.855439885922856, 1.9956032791973293], [48.8735492356878, 1.88056045072747], [48.85046916816086, 1.8266460206188384], [48.85825663452869, 1.8266460206188384], [48.86604410089652, 1.8266460206188384], [48.87383156726435, 1.8266460206188384], [48.88161903363217, 1.8266460206188384], [48.8894065, 1.8266460206188384], [48.89719396636782, 1.8266460206188384], [48.90498143273565, 1.8266460206188384], [48.91276889910348, 1.8266460206188384], [48.920556365471306, 1.8266460206188384], [48.928343831839136, 1.8266460206188384], [48.85436290134478, 1.8368653187443988], [48.8621503677126, 1.8368653187443988], [48.86993783408043, 1.8368653187443988], [48.877725300448255, 1.8368653187443988], [48.885512766816085, 1.8368653187443988], [48.89330023318391, 1.8368653187443988], [48.90108769955174, 1.8368653187443988], [48.90887516591956, 1.8368653187443988], [48.91666263228739, 1.8368653187443988], [48.92445009865522, 1.8368653187443988], [48.85046916816086, 1.8470846168699588], [48.85825663452869, 1.8470846168699588], [48.86604410089652, 1.8470846168699588], [48.87383156726435, 1.8470846168699588], [48.88161903363217, 1.8470846168699588], [48.8894065, 1.8470846168699588], [48.89719396636782, 1.8470846168699588], [48.90498143273565, 1.8470846168699588], [48.91276889910348, 1.8470846168699588], [48.920556365471306, 1.8470846168699588], [48.928343831839136, 1.8470846168699588], [48.85436290134478, 1.857303914995519], [48.8621503677126, 1.857303914995519], [48.86993783408043, 1.857303914995519], [48.877725300448255, 1.857303914995519], [48.885512766816085, 1.857303914995519], [48.89330023318391, 1.857303914995519], [48.90108769955174, 1.857303914995519], [48.90887516591956, 1.857303914995519], [48.91666263228739, 1.857303914995519], [48.92445009865522, 1.857303914995519], [48.85046916816086, 1.867523213121079], [48.85825663452869, 1.867523213121079], [48.86604410089652, 1.867523213121079], [48.87383156726435, 1.867523213121079], [48.88161903363217, 1.867523213121079], [48.8894065, 1.867523213121079], [48.89719396636782, 1.867523213121079], [48.90498143273565, 1.867523213121079], [48.91276889910348, 1.867523213121079], [48.920556365471306, 1.867523213121079], [48.928343831839136, 1.867523213121079], [48.85436290134478, 1.8777425112466395], [48.8621503677126, 1.8777425112466395], [48.86993783408043, 1.8777425112466395], [48.877725300448255, 1.8777425112466395], [48.885512766816085, 1.8777425112466395], [48.89330023318391, 1.8777425112466395], [48.90108769955174, 1.8777425112466395], [48.90887516591956, 1.8777425112466395], [48.91666263228739, 1.8777425112466395], [48.92445009865522, 1.8777425112466395], [48.85046916816086, 1.8879618093722], [48.85825663452869, 1.8879618093722], [48.86604410089652, 1.8879618093722], [48.87383156726435, 1.8879618093722], [48.88161903363217, 1.8879618093722], [48.8894065, 1.8879618093722], [48.89719396636782, 1.8879618093722], [48.90498143273565, 1.8879618093722], [48.91276889910348, 1.8879618093722], [48.920556365471306, 1.8879618093722], [48.928343831839136, 1.8879618093722], [48.85436290134478, 1.89818110749776], [48.8621503677126, 1.89818110749776], [48.86993783408043, 1.89818110749776], [48.877725300448255, 1.89818110749776], [48.885512766816085, 1.89818110749776], [48.89330023318391, 1.89818110749776], [48.90108769955174, 1.89818110749776], [48.90887516591956, 1.89818110749776], [48.91666263228739, 1.89818110749776], [48.92445009865522, 1.89818110749776], [48.85046916816086, 1.90840040562332], [48.85825663452869, 1.90840040562332], [48.86604410089652, 1.90840040562332], [48.87383156726435, 1.90840040562332], [48.88161903363217, 1.90840040562332], [48.8894065, 1.90840040562332], [48.89719396636782, 1.90840040562332], [48.90498143273565, 1.90840040562332], [48.91276889910348, 1.90840040562332], [48.920556365471306, 1.90840040562332], [48.928343831839136, 1.90840040562332], [48.85436290134478, 1.91861970374888], [48.8621503677126, 1.91861970374888], [48.86993783408043, 1.91861970374888], [48.877725300448255, 1.91861970374888], [48.885512766816085, 1.91861970374888], [48.89330023318391, 1.91861970374888], [48.90108769955174, 1.91861970374888], [48.90887516591956, 1.91861970374888], [48.91666263228739, 1.91861970374888], [48.92445009865522, 1.91861970374888], [48.85046916816086, 1.92883900187444], [48.85825663452869, 1.92883900187444], [48.86604410089652, 1.92883900187444], [48.87383156726435, 1.92883900187444], [48.88161903363217, 1.92883900187444], [48.8894065, 1.92883900187444], [48.89719396636782, 1.92883900187444], [48.90498143273565, 1.92883900187444], [48.91276889910348, 1.92883900187444], [48.920556365471306, 1.92883900187444], [48.928343831839136, 1.92883900187444], [48.85436290134478, 1.9390583], [48.8621503677126, 1.9390583], [48.86993783408043, 1.9390583], [48.877725300448255, 1.9390583], [48.885512766816085, 1.9390583], [48.89330023318391, 1.9390583], [48.90108769955174, 1.9390583], [48.90887516591956, 1.9390583], [48.91666263228739, 1.9390583], [48.92445009865522, 1.9390583], [48.85046916816086, 1.94927759812556], [48.85825663452869, 1.94927759812556], [48.86604410089652, 1.94927759812556], [48.87383156726435, 1.94927759812556], [48.88161903363217, 1.94927759812556], [48.8894065, 1.94927759812556], [48.89719396636782, 1.94927759812556], [48.90498143273565, 1.94927759812556], [48.91276889910348, 1.94927759812556], [48.920556365471306, 1.94927759812556], [48.928343831839136, 1.94927759812556], [48.85436290134478, 1.9594968962511203], [48.8621503677126, 1.9594968962511203], [48.86993783408043, 1.9594968962511203], [48.877725300448255, 1.9594968962511203], [48.885512766816085, 1.9594968962511203], [48.89330023318391, 1.9594968962511203], [48.90108769955174, 1.9594968962511203], [48.90887516591956, 1.9594968962511203], [48.91666263228739, 1.9594968962511203], [48.92445009865522, 1.9594968962511203], [48.85046916816086, 1.9697161943766808], [48.85825663452869, 1.9697161943766808], [48.86604410089652, 1.9697161943766808], [48.87383156726435, 1.9697161943766808], [48.88161903363217, 1.9697161943766808], [48.8894065, 1.9697161943766808], [48.89719396636782, 1.9697161943766808], [48.90498143273565, 1.9697161943766808], [48.91276889910348, 1.9697161943766808], [48.920556365471306, 1.9697161943766808], [48.928343831839136, 1.9697161943766808], [48.85436290134478, 1.9799354925022403], [48.8621503677126, 1.9799354925022403], [48.86993783408043, 1.9799354925022403], [48.877725300448255, 1.9799354925022403], [48.885512766816085, 1.9799354925022403], [48.89330023318391, 1.9799354925022403], [48.90108769955174, 1.9799354925022403], [48.90887516591956, 1.9799354925022403], [48.91666263228739, 1.9799354925022403], [48.92445009865522, 1.9799354925022403], [48.85046916816086, 1.9901547906278008], [48.85825663452869, 1.9901547906278008], [48.86604410089652, 1.9901547906278008], [48.87383156726435, 1.9901547906278008], [48.88161903363217, 1.9901547906278008], [48.8894065, 1.9901547906278008], [48.89719396636782, 1.9901547906278008], [48.90498143273565, 1.9901547906278008], [48.91276889910348, 1.9901547906278008], [48.920556365471306, 1.9901547906278008], [48.928343831839136, 1.9901547906278008], [48.85436290134478, 2.000374088753361], [48.8621503677126, 2.000374088753361], [48.86993783408043, 2.000374088753361], [48.877725300448255, 2.000374088753361], [48.885512766816085, 2.000374088753361], [48.89330023318391, 2.000374088753361], [48.90108769955174, 2.000374088753361], [48.90887516591956, 2.000374088753361], [48.91666263228739, 2.000374088753361], [48.92445009865522, 2.000374088753361], [48.85046916816086, 2.010593386878921], [48.85825663452869, 2.010593386878921], [48.86604410089652, 2.010593386878921], [48.87383156726435, 2.010593386878921], [48.88161903363217, 2.010593386878921], [48.8894065, 2.010593386878921], [48.89719396636782, 2.010593386878921], [48.90498143273565, 2.010593386878921], [48.91276889910348, 2.010593386878921], [48.920556365471306, 2.010593386878921], [48.928343831839136, 2.010593386878921], [48.85436290134478, 2.020812685004481], [48.8621503677126, 2.020812685004481], [48.86993783408043, 2.020812685004481], [48.877725300448255, 2.020812685004481], [48.885512766816085, 2.020812685004481], [48.89330023318391, 2.020812685004481], [48.90108769955174, 2.020812685004481], [48.90887516591956, 2.020812685004481], [48.91666263228739, 2.020812685004481], [48.92445009865522, 2.020812685004481], [48.85046916816086, 2.0310319831300414], [48.85825663452869, 2.0310319831300414], [48.86604410089652, 2.0310319831300414], [48.87383156726435, 2.0310319831300414], [48.88161903363217, 2.0310319831300414], [48.8894065, 2.0310319831300414], [48.89719396636782, 2.0310319831300414], [48.90498143273565, 2.0310319831300414], [48.91276889910348, 2.0310319831300414], [48.920556365471306, 2.0310319831300414], [48.928343831839136, 2.0310319831300414], [48.85436290134478, 2.0412512812556014], [48.8621503677126, 2.0412512812556014], [48.86993783408043, 2.0412512812556014], [48.877725300448255, 2.0412512812556014], [48.885512766816085, 2.0412512812556014], [48.89330023318391, 2.0412512812556014], [48.90108769955174, 2.0412512812556014], [48.90887516591956, 2.0412512812556014], [48.91666263228739, 2.0412512812556014], [48.92445009865522, 2.0412512812556014], [48.85046916816086, 2.0514705793811614], [48.85825663452869, 2.0514705793811614], [48.86604410089652, 2.0514705793811614], [48.87383156726435, 2.0514705793811614], [48.88161903363217, 2.0514705793811614], [48.8894065, 2.0514705793811614], [48.89719396636782, 2.0514705793811614], [48.90498143273565, 2.0514705793811614], [48.91276889910348, 2.0514705793811614], [48.920556365471306, 2.0514705793811614], [48.928343831839136, 2.0514705793811614], [48.856818, 1.849066], [48.880286, 1.827983], [48.911062, 1.854852], [48.917869, 1.850963], [48.856925, 1.849411], [48.880332, 1.828064], [48.882023, 1.860209], [48.882063, 1.860154], [48.912613, 1.853358], [48.857032, 1.849756], [48.863113, 1.87161], [48.886742, 1.862261], [48.90914, 1.857009], [48.911008, 1.855768], [48.925942, 1.86573], [48.852561, 1.877154], [48.856069, 1.876234], [48.881983, 1.860265], [48.88676, 1.862329], [48.896847, 1.868547], [48.908516, 1.868006], [48.91217, 1.86734], [48.917556, 1.869106], [48.924775, 1.868813], [48.852382, 1.877226], [48.861073, 1.873699], [48.873377, 1.880401], [48.894169, 1.874456], [48.893973, 1.874652], [48.906823, 1.884961], [48.906822, 1.876298], [48.920937, 1.87572], [48.92299, 1.872598], [48.873549, 1.88056], [48.892118, 1.881143], [48.895054, 1.869118], [48.906951, 1.886241], [48.853466, 1.899051], [48.884016, 1.920497], [48.906887, 1.885601], [48.913671, 1.912841], [48.855987, 1.905247], [48.858611, 1.907884], [48.912201, 1.918289], [48.91374, 1.914027], [48.86589, 1.948397], [48.89344, 1.924353], [48.911979, 1.918676], [48.913811, 1.919306], [48.926249, 1.94356], [48.886376, 1.923872], [48.913255, 1.922579], [48.926061, 1.946717], [48.855746, 1.97657], [48.877468, 1.944686], [48.877437, 1.94468], [48.916913, 1.970291], [48.91799, 1.966926], [48.867534, 1.970943], [48.874179, 1.97389], [48.874426, 1.974349], [48.882341, 1.981802], [48.923631, 1.96298], [48.917982, 1.967063], [48.923888, 1.974029], [48.853765, 1.983655], [48.865687, 1.976838], [48.877137, 1.979027], [48.918614, 1.984122], [48.924341, 1.975439], [48.852997, 1.986396], [48.85346, 1.992207], [48.882037, 1.981556], [48.918549, 1.989186], [48.918482, 1.988696], [48.92629, 1.946194], [48.855423, 1.995767], [48.869075, 2.008633], [48.871228, 2.008974], [48.907278, 2.022544], [48.911448, 2.008017], [48.916286, 1.994988], [48.923207, 1.995592], [48.852997, 2.018731], [48.857926, 2.012218], [48.85272, 2.042362], [48.915563, 2.009644], [48.918916, 2.012801], [48.925297, 2.003549], [48.856042, 2.019457], [48.85993, 2.02087], [48.869063, 2.016976], [48.9028, 2.031537], [48.901149, 2.024235], [48.922151, 2.02451], [48.853393, 2.034336], [48.855005, 2.022326], [48.864182, 2.030496], [48.903123, 2.031462], [48.911912, 2.036183], [48.920496, 2.031084], [48.926116, 2.036589], [48.902673, 2.050419], [48.901603, 2.048222], [48.908638, 2.042854], [48.917496, 2.039485], [48.922236, 2.037207], [48.867096, 2.0513], [48.902693, 2.050705], [48.914708, 2.022691], [48.925025, 2.050953], [48.925691, 2.050347], [48.85825663452869, 1.8266460206188384], [48.86604410089652, 1.8266460206188384], [48.87383156726435, 1.8266460206188384], [48.88161903363217, 1.8266460206188384], [48.8894065, 1.8266460206188384], [48.89719396636782, 1.8266460206188384], [48.90498143273565, 1.8266460206188384], [48.91276889910348, 1.8266460206188384], [48.920556365471306, 1.8266460206188384], [48.928343831839136, 1.8266460206188384], [48.85436290134478, 1.8368653187443988], [48.8621503677126, 1.8368653187443988], [48.86993783408043, 1.8368653187443988], [48.877725300448255, 1.8368653187443988], [48.885512766816085, 1.8368653187443988], [48.89330023318391, 1.8368653187443988], [48.90108769955174, 1.8368653187443988], [48.90887516591956, 1.8368653187443988], [48.91666263228739, 1.8368653187443988], [48.92445009865522, 1.8368653187443988], [48.85046916816086, 1.8470846168699588], [48.85825663452869, 1.8470846168699588], [48.86604410089652, 1.8470846168699588], [48.87383156726435, 1.8470846168699588], [48.88161903363217, 1.8470846168699588], [48.8894065, 1.8470846168699588], [48.89719396636782, 1.8470846168699588], [48.90498143273565, 1.8470846168699588], [48.91276889910348, 1.8470846168699588], [48.920556365471306, 1.8470846168699588], [48.928343831839136, 1.8470846168699588], [48.85436290134478, 1.857303914995519], [48.8621503677126, 1.857303914995519], [48.86993783408043, 1.857303914995519], [48.877725300448255, 1.857303914995519], [48.885512766816085, 1.857303914995519], [48.89330023318391, 1.857303914995519], [48.90108769955174, 1.857303914995519], [48.90887516591956, 1.857303914995519], [48.91666263228739, 1.857303914995519], [48.92445009865522, 1.857303914995519], [48.85046916816086, 1.867523213121079], [48.85825663452869, 1.867523213121079], [48.86604410089652, 1.867523213121079], [48.87383156726435, 1.867523213121079], [48.88161903363217, 1.867523213121079], [48.8894065, 1.867523213121079], [48.89719396636782, 1.867523213121079], [48.90498143273565, 1.867523213121079], [48.91276889910348, 1.867523213121079], [48.920556365471306, 1.867523213121079], [48.928343831839136, 1.867523213121079], [48.85436290134478, 1.8777425112466395], [48.8621503677126, 1.8777425112466395], [48.86993783408043, 1.8777425112466395], [48.877725300448255, 1.8777425112466395], [48.885512766816085, 1.8777425112466395], [48.89330023318391, 1.8777425112466395], [48.90108769955174, 1.8777425112466395], [48.90887516591956, 1.8777425112466395], [48.91666263228739, 1.8777425112466395], [48.92445009865522, 1.8777425112466395], [48.85046916816086, 1.8879618093722], [48.85825663452869, 1.8879618093722], [48.86604410089652, 1.8879618093722], [48.87383156726435, 1.8879618093722], [48.88161903363217, 1.8879618093722], [48.8894065, 1.8879618093722], [48.89719396636782, 1.8879618093722], [48.90498143273565, 1.8879618093722], [48.91276889910348, 1.8879618093722], [48.920556365471306, 1.8879618093722], [48.928343831839136, 1.8879618093722], [48.85436290134478, 1.89818110749776], [48.8621503677126, 1.89818110749776], [48.86993783408043, 1.89818110749776], [48.877725300448255, 1.89818110749776], [48.885512766816085, 1.89818110749776], [48.89330023318391, 1.89818110749776], [48.90108769955174, 1.89818110749776], [48.90887516591956, 1.89818110749776], [48.91666263228739, 1.89818110749776], [48.92445009865522, 1.89818110749776], [48.85046916816086, 1.90840040562332], [48.85825663452869, 1.90840040562332], [48.86604410089652, 1.90840040562332], [48.87383156726435, 1.90840040562332], [48.88161903363217, 1.90840040562332], [48.8894065, 1.90840040562332], [48.89719396636782, 1.90840040562332], [48.90498143273565, 1.90840040562332], [48.91276889910348, 1.90840040562332], [48.920556365471306, 1.90840040562332], [48.928343831839136, 1.90840040562332], [48.85436290134478, 1.91861970374888], [48.8621503677126, 1.91861970374888], [48.86993783408043, 1.91861970374888], [48.877725300448255, 1.91861970374888], [48.885512766816085, 1.91861970374888], [48.89330023318391, 1.91861970374888], [48.90108769955174, 1.91861970374888], [48.90887516591956, 1.91861970374888], [48.91666263228739, 1.91861970374888], [48.92445009865522, 1.91861970374888], [48.85046916816086, 1.92883900187444], [48.85825663452869, 1.92883900187444], [48.86604410089652, 1.92883900187444], [48.87383156726435, 1.92883900187444], [48.88161903363217, 1.92883900187444], [48.8894065, 1.92883900187444], [48.89719396636782, 1.92883900187444], [48.90498143273565, 1.92883900187444], [48.91276889910348, 1.92883900187444], [48.920556365471306, 1.92883900187444], [48.928343831839136, 1.92883900187444], [48.85436290134478, 1.9390583], [48.8621503677126, 1.9390583], [48.86993783408043, 1.9390583], [48.877725300448255, 1.9390583], [48.885512766816085, 1.9390583], [48.89330023318391, 1.9390583], [48.90108769955174, 1.9390583], [48.90887516591956, 1.9390583], [48.91666263228739, 1.9390583], [48.92445009865522, 1.9390583], [48.85046916816086, 1.94927759812556], [48.85825663452869, 1.94927759812556], [48.86604410089652, 1.94927759812556], [48.87383156726435, 1.94927759812556], [48.88161903363217, 1.94927759812556], [48.8894065, 1.94927759812556], [48.89719396636782, 1.94927759812556], [48.90498143273565, 1.94927759812556], [48.91276889910348, 1.94927759812556], [48.920556365471306, 1.94927759812556], [48.928343831839136, 1.94927759812556], [48.85436290134478, 1.9594968962511203], [48.8621503677126, 1.9594968962511203], [48.86993783408043, 1.9594968962511203], [48.877725300448255, 1.9594968962511203], [48.885512766816085, 1.9594968962511203], [48.89330023318391, 1.9594968962511203], [48.90108769955174, 1.9594968962511203], [48.90887516591956, 1.9594968962511203], [48.91666263228739, 1.9594968962511203], [48.92445009865522, 1.9594968962511203], [48.85046916816086, 1.9697161943766808], [48.85825663452869, 1.9697161943766808], [48.86604410089652, 1.9697161943766808], [48.87383156726435, 1.9697161943766808], [48.88161903363217, 1.9697161943766808], [48.8894065, 1.9697161943766808], [48.89719396636782, 1.9697161943766808], [48.90498143273565, 1.9697161943766808], [48.91276889910348, 1.9697161943766808], [48.920556365471306, 1.9697161943766808], [48.928343831839136, 1.9697161943766808], [48.85436290134478, 1.9799354925022403], [48.8621503677126, 1.9799354925022403], [48.86993783408043, 1.9799354925022403], [48.877725300448255, 1.9799354925022403], [48.885512766816085, 1.9799354925022403], [48.89330023318391, 1.9799354925022403], [48.90108769955174, 1.9799354925022403], [48.90887516591956, 1.9799354925022403], [48.91666263228739, 1.9799354925022403], [48.92445009865522, 1.9799354925022403], [48.85046916816086, 1.9901547906278008], [48.85825663452869, 1.9901547906278008], [48.86604410089652, 1.9901547906278008], [48.87383156726435, 1.9901547906278008], [48.88161903363217, 1.9901547906278008], [48.8894065, 1.9901547906278008], [48.89719396636782, 1.9901547906278008], [48.90498143273565, 1.9901547906278008], [48.91276889910348, 1.9901547906278008], [48.920556365471306, 1.9901547906278008], [48.928343831839136, 1.9901547906278008], [48.85436290134478, 2.000374088753361], [48.8621503677126, 2.000374088753361], [48.86993783408043, 2.000374088753361], [48.877725300448255, 2.000374088753361], [48.885512766816085, 2.000374088753361], [48.89330023318391, 2.000374088753361], [48.90108769955174, 2.000374088753361], [48.90887516591956, 2.000374088753361], [48.91666263228739, 2.000374088753361], [48.92445009865522, 2.000374088753361], [48.85046916816086, 2.010593386878921], [48.85825663452869, 2.010593386878921], [48.86604410089652, 2.010593386878921], [48.87383156726435, 2.010593386878921], [48.88161903363217, 2.010593386878921], [48.8894065, 2.010593386878921], [48.89719396636782, 2.010593386878921], [48.90498143273565, 2.010593386878921], [48.91276889910348, 2.010593386878921], [48.920556365471306, 2.010593386878921], [48.928343831839136, 2.010593386878921], [48.85436290134478, 2.020812685004481], [48.8621503677126, 2.020812685004481], [48.86993783408043, 2.020812685004481], [48.877725300448255, 2.020812685004481], [48.885512766816085, 2.020812685004481], [48.89330023318391, 2.020812685004481], [48.90108769955174, 2.020812685004481], [48.90887516591956, 2.020812685004481], [48.91666263228739, 2.020812685004481], [48.92445009865522, 2.020812685004481], [48.85046916816086, 2.0310319831300414], [48.85825663452869, 2.0310319831300414], [48.86604410089652, 2.0310319831300414], [48.87383156726435, 2.0310319831300414], [48.88161903363217, 2.0310319831300414], [48.8894065, 2.0310319831300414], [48.89719396636782, 2.0310319831300414], [48.90498143273565, 2.0310319831300414], [48.91276889910348, 2.0310319831300414], [48.920556365471306, 2.0310319831300414], [48.928343831839136, 2.0310319831300414], [48.85436290134478, 2.0412512812556014], [48.8621503677126, 2.0412512812556014], [48.86993783408043, 2.0412512812556014], [48.877725300448255, 2.0412512812556014], [48.885512766816085, 2.0412512812556014], [48.89330023318391, 2.0412512812556014], [48.90108769955174, 2.0412512812556014], [48.90887516591956, 2.0412512812556014], [48.91666263228739, 2.0412512812556014], [48.92445009865522, 2.0412512812556014], [48.85046916816086, 2.0514705793811614], [48.85825663452869, 2.0514705793811614], [48.86604410089652, 2.0514705793811614], [48.87383156726435, 2.0514705793811614], [48.88161903363217, 2.0514705793811614], [48.8894065, 2.0514705793811614], [48.89719396636782, 2.0514705793811614], [48.90498143273565, 2.0514705793811614], [48.91276889910348, 2.0514705793811614], [48.920556365471306, 2.0514705793811614], [48.928343831839136, 2.0514705793811614], [48.85046916816086, 1.8266460206188384], [48.856818, 1.849066], [48.880286, 1.827983], [48.911062, 1.854852], [48.917869, 1.850963], [48.856925, 1.849411], [48.880332, 1.828064], [48.882023, 1.860209], [48.882063, 1.860154], [48.912613, 1.853358], [48.857032, 1.849756], [48.863113, 1.87161], [48.886742, 1.862261], [48.90914, 1.857009], [48.911008, 1.855768], [48.925942, 1.86573], [48.852561, 1.877154], [48.856069, 1.876234], [48.881983, 1.860265], [48.88676, 1.862329], [48.896847, 1.868547], [48.908516, 1.868006], [48.91217, 1.86734], [48.917556, 1.869106], [48.924775, 1.868813], [48.852382, 1.877226], [48.861073, 1.873699], [48.873377, 1.880401], [48.894169, 1.874456], [48.893973, 1.874652], [48.906823, 1.884961], [48.906822, 1.876298], [48.920937, 1.87572], [48.92299, 1.872598], [48.873549, 1.88056], [48.892118, 1.881143], [48.895054, 1.869118], [48.906951, 1.886241], [48.853466, 1.899051], [48.884016, 1.920497], [48.906887, 1.885601], [48.913671, 1.912841], [48.855987, 1.905247], [48.858611, 1.907884], [48.912201, 1.918289], [48.91374, 1.914027], [48.86589, 1.948397], [48.89344, 1.924353], [48.911979, 1.918676], [48.913811, 1.919306], [48.926249, 1.94356], [48.886376, 1.923872], [48.913255, 1.922579], [48.926061, 1.946717], [48.855746, 1.97657], [48.877468, 1.944686], [48.877437, 1.94468], [48.916913, 1.970291], [48.91799, 1.966926], [48.867534, 1.970943], [48.874179, 1.97389], [48.874426, 1.974349], [48.882341, 1.981802], [48.923631, 1.96298], [48.917982, 1.967063], [48.923888, 1.974029], [48.853765, 1.983655], [48.865687, 1.976838], [48.877137, 1.979027], [48.918614, 1.984122], [48.924341, 1.975439], [48.852997, 1.986396], [48.85346, 1.992207], [48.882037, 1.981556], [48.918549, 1.989186], [48.918482, 1.988696], [48.92629, 1.946194], [48.855423, 1.995767], [48.869075, 2.008633], [48.871228, 2.008974], [48.907278, 2.022544], [48.911448, 2.008017], [48.916286, 1.994988], [48.923207, 1.995592], [48.852997, 2.018731], [48.857926, 2.012218], [48.85272, 2.042362], [48.915563, 2.009644], [48.918916, 2.012801], [48.925297, 2.003549], [48.856042, 2.019457], [48.85993, 2.02087], [48.869063, 2.016976], [48.9028, 2.031537], [48.901149, 2.024235], [48.922151, 2.02451], [48.853393, 2.034336], [48.855005, 2.022326], [48.864182, 2.030496], [48.903123, 2.031462], [48.911912, 2.036183], [48.920496, 2.031084], [48.926116, 2.036589], [48.902673, 2.050419], [48.901603, 2.048222], [48.908638, 2.042854], [48.917496, 2.039485], [48.922236, 2.037207], [48.867096, 2.0513], [48.902693, 2.050705], [48.914708, 2.022691], [48.925025, 2.050953], [48.925691, 2.050347]];\n",
       "                var cluster = L.markerClusterGroup({});\n",
       "\n",
       "                for (var i = 0; i &lt; data.length; i++) {\n",
       "                    var row = data[i];\n",
       "                    var marker = callback(row);\n",
       "                    marker.addTo(cluster);\n",
       "                }\n",
       "\n",
       "                cluster.addTo(map_d9258ee25e2de57b2d22e97347714c82);\n",
       "                return cluster;\n",
       "            })();\n",
       "        \n",
       "    \n",
       "            fast_marker_cluster_3a61186f05c8bc6997429814bb692548.addTo(map_d9258ee25e2de57b2d22e97347714c82);\n",
       "        \n",
       "&lt;/script&gt;\n",
       "&lt;/html&gt;\" style=\"position:absolute;width:100%;height:100%;left:0;top:0;border:none !important;\" allowfullscreen webkitallowfullscreen mozallowfullscreen></iframe></div></div>"
      ],
      "text/plain": [
       "<folium.folium.Map at 0x776a26fc9f00>"
      ]
     },
     "execution_count": 11,
     "metadata": {},
     "output_type": "execute_result"
    }
   ],
   "source": [
    "\n",
    "display(HTML('<h1>All stops of the public transport present in the gtfs files</h1>'))\n",
    "bbox = libStopsPoints.boundingBoxStops(stopsList)\n",
    "libStopsPoints.mapStops(bbox, stopsList)"
   ]
  },
  {
   "cell_type": "code",
   "execution_count": 23,
   "metadata": {},
   "outputs": [
    {
     "data": {
      "text/plain": [
       "[1.8266460206188384, 48.85046916816086, 2.0514705793811614, 48.928343831839136]"
      ]
     },
     "execution_count": 23,
     "metadata": {},
     "output_type": "execute_result"
    }
   ],
   "source": [
    "bbox"
   ]
  },
  {
   "cell_type": "markdown",
   "metadata": {
    "id": "FCVR0oNozr5k"
   },
   "source": [
    "## Tassel the box with exagons."
   ]
  },
  {
   "cell_type": "code",
   "execution_count": 12,
   "metadata": {
    "id": "NUjlzjLPzr5k",
    "outputId": "67ae651a-b252-44e1-a378-08c679d70d30"
   },
   "outputs": [
    {
     "name": "stdout",
     "output_type": "stream",
     "text": [
      "98.8%, tot = 250.0, inserted = 250\r"
     ]
    }
   ],
   "source": [
    "hexBin, pointBin = libHex.hexagonalGrid(bbox, gridEdge, gtfsDB['stops'], distanceS, city,check4stops)"
   ]
  },
  {
   "cell_type": "code",
   "execution_count": 13,
   "metadata": {
    "id": "NITMmHzOzr5k",
    "outputId": "deec0108-40fa-48e3-9cef-45745dc88aad"
   },
   "outputs": [],
   "source": [
    "\n",
    "libHex.insertPoints(pointBin, city, gtfsDB)\n"
   ]
  },
  {
   "cell_type": "markdown",
   "metadata": {
    "id": "E7XigURlzr5l"
   },
   "source": [
    "## Find the hex with walkingTime less than timeWalk from a stops"
   ]
  },
  {
   "cell_type": "code",
   "execution_count": 14,
   "metadata": {
    "id": "GZ0g-po6zr5l",
    "outputId": "ab6f2936-5435-44b4-87c8-e64c90cd40e0"
   },
   "outputs": [
    {
     "name": "stdout",
     "output_type": "stream",
     "text": [
      " tot 249,100%, removed 1  250\r"
     ]
    }
   ],
   "source": [
    "\n",
    "libHex.pointsServed(gtfsDB, stopsList, urlServerOsrm, distanceS, timeWalk, city)"
   ]
  },
  {
   "cell_type": "code",
   "execution_count": 15,
   "metadata": {
    "id": "w1YiO4q4zr5l",
    "outputId": "74ba0d15-acfa-4ffd-b758-aaf420bc7245"
   },
   "outputs": [
    {
     "name": "stdout",
     "output_type": "stream",
     "text": [
      "Number of hexagons: 249\n"
     ]
    }
   ],
   "source": [
    "print(\"Number of hexagons: {0}\".format(gtfsDB['points'].count_documents({'served':True, 'city':city})))"
   ]
  },
  {
   "cell_type": "markdown",
   "metadata": {
    "id": "Z1NcrBezzr5m"
   },
   "source": [
    "## Setting field \"pos\" for points for performance"
   ]
  },
  {
   "cell_type": "code",
   "execution_count": 16,
   "metadata": {
    "id": "7fRG4PSGzr5m",
    "outputId": "076184c9-3353-4a1a-d911-fbebdcc4a3bd"
   },
   "outputs": [
    {
     "name": "stdout",
     "output_type": "stream",
     "text": [
      " 249\r"
     ]
    }
   ],
   "source": [
    "from library import libHex \n",
    "libHex.settingHexsPos(gtfsDB, city)"
   ]
  },
  {
   "cell_type": "markdown",
   "metadata": {
    "id": "3h2oHbbnzr5p"
   },
   "source": [
    "## Setting Population of Hexagons"
   ]
  },
  {
   "cell_type": "code",
   "execution_count": 17,
   "metadata": {
    "id": "1a9yCDn_zr5q",
    "outputId": "8b762b78-6af5-4599-e64f-b6dcf1089d5c"
   },
   "outputs": [
    {
     "name": "stdout",
     "output_type": "stream",
     "text": [
      "100.0% , tot population: 246, current hex: 0\r"
     ]
    }
   ],
   "source": [
    "# from libHex import setHexsPop\n",
    "import library\n",
    "from library import libHex\n",
    "if urlMongoDbPop != \"\" and popCollectionName != \"\":\n",
    "    clientPop = pym.MongoClient(urlMongoDbPop)\n",
    "    popDb = clientPop[popDbName]\n",
    "    popCollection = popDb[popCollectionName]\n",
    "    libHex.setHexsPop(gtfsDB, popCollection, popField, city)\n",
    "else:\n",
    "    print(\"Population NOT INSERTED!\")\n",
    "\n",
    "# res = gtfsDB['points'].update_many({'pop':{'$exists':False}}, {'$set':{'pop':0}})\n",
    "# print(\"n° of matched hexagons with population Polygons: {0} \\n \\\n",
    "# not matched: {1} (setted to zero)\".format(gtfsDB['points'].count_documents({'pop':{'$exists':True}}),\n",
    "#                                                                                      res.modified_count))"
   ]
  },
  {
   "cell_type": "markdown",
   "metadata": {
    "id": "XO_dWZLvzr5q"
   },
   "source": [
    "# Adding the walking time between stops and points"
   ]
  },
  {
   "cell_type": "code",
   "execution_count": 18,
   "metadata": {
    "id": "95vqT7Buzr5q",
    "outputId": "645e2480-c123-47ad-b454-d113633090bf"
   },
   "outputs": [
    {
     "name": "stdout",
     "output_type": "stream",
     "text": [
      " totNumber 1207, computed 0.25%, time to finish : 1 min\r"
     ]
    },
    {
     "name": "stderr",
     "output_type": "stream",
     "text": [
      "/home/medourahou1/.local/lib/python3.10/site-packages/pymongo/collection.py:1697: UserWarning: use an explicit session with no_cursor_timeout=True otherwise the cursor may still timeout after 30 minutes, for more info see https://mongodb.com/docs/v4.4/reference/method/cursor.noCursorTimeout/#session-idle-timeout-overrides-nocursortimeout\n",
      "  return Cursor(self, *args, **kwargs)\n"
     ]
    },
    {
     "name": "stdout",
     "output_type": "stream",
     "text": [
      " totNumber 0, computed 100.00%, time to finish : 0 minnn\r"
     ]
    }
   ],
   "source": [
    "from library import libStopsPoints \n",
    "libStopsPoints.computeNeigh(gtfsDB, urlServerOsrm, distanceS, timeWalk,  city)"
   ]
  },
  {
   "cell_type": "markdown",
   "metadata": {
    "id": "vv1nkp-Lzr5q"
   },
   "source": [
    "# Compute quantities and observable"
   ]
  },
  {
   "cell_type": "markdown",
   "metadata": {
    "id": "dv9tLyDyzr5q"
   },
   "source": [
    "TimeList is the list of starting time for computing the isochrones"
   ]
  },
  {
   "cell_type": "code",
   "execution_count": 19,
   "metadata": {
    "id": "THH-Cxyfzr5q"
   },
   "outputs": [],
   "source": [
    "timeList = [7,10,12,17,20]\n",
    "\n",
    "hStart = timeList[0]*3600"
   ]
  },
  {
   "cell_type": "markdown",
   "metadata": {
    "id": "UMrGUiwnzr5r"
   },
   "source": [
    "### List of connections"
   ]
  },
  {
   "cell_type": "code",
   "execution_count": 20,
   "metadata": {
    "id": "RgWsmHIqzr5r",
    "outputId": "2e443da6-6ca5-4091-b2dc-36c3d0a71e0c"
   },
   "outputs": [
    {
     "name": "stdout",
     "output_type": "stream",
     "text": [
      "start making connections array\n",
      "done recover all cc 295879\n",
      "converted\n",
      "Num of connection 295879\n",
      "start making connections array\n",
      "done recover all cc 302895\n",
      "converted\n",
      "Num of connection 302895\n"
     ]
    }
   ],
   "source": [
    "from library import libConnections \n",
    "# arrayCC = libConnections.makeArrayConnections(gtfsDB, hStart, city)\n",
    "arrayCC_day1 = libConnections.makeArrayConnections(gtfsDB, hStart, city, day='20241201')\n",
    "arrayCC_day2 = libConnections.makeArrayConnections(gtfsDB, hStart, city, day='20241202')"
   ]
  },
  {
   "cell_type": "markdown",
   "metadata": {
    "id": "7tPZyO_gzr5r"
   },
   "source": [
    "### List of list of the points and stops neighbors"
   ]
  },
  {
   "cell_type": "code",
   "execution_count": 21,
   "metadata": {
    "id": "fwVH_Uyczr5r",
    "outputId": "72968333-cbe2-4c32-98e8-a422e7c779d7"
   },
   "outputs": [
    {
     "name": "stdout",
     "output_type": "stream",
     "text": [
      "fill point neighbors 248\r"
     ]
    }
   ],
   "source": [
    "from library import libStopsPoints \n",
    "arraySP = libStopsPoints.listPointsStopsN(gtfsDB, city)"
   ]
  },
  {
   "cell_type": "markdown",
   "metadata": {
    "id": "u0XewUWNzr5r"
   },
   "source": [
    "## Compute accessibility quantities"
   ]
  },
  {
   "cell_type": "code",
   "execution_count": null,
   "metadata": {},
   "outputs": [],
   "source": [
    "import imp\n",
    "from library import libAccessibility_version2, shortest_path_algo\n",
    "imp.reload(libAccessibility_version2)\n",
    "from library.shortest_path_algo import computeAccessibilities\n",
    "imp.reload(shortest_path_algo)\n",
    "\n",
    "listAccessibility = ['accessibility30min']\n",
    "\n",
    "computeIsochrone = False\n",
    "if 'isochrones' in gtfsDB.list_collection_names():\n",
    "    \n",
    "    pass\n",
    "for timeStart in timeList:\n",
    "    timeStart *= 3600\n",
    "    hEnd  = timeStart+6600 #consider only connection that start at timeStart and end before next timeStart in the list timeList\n",
    "    print( 'Time Isochrone Start: {0}'.format(timeStart/3600,))\n",
    "   \n",
    "    computeAccessibilities(\n",
    "    city, timeStart,hEnd, arrayCC_day1, arraySP, gtfsDB, \n",
    "    computeIsochrone, timeStart/3600 == timeList[0], \n",
    "    day='20241201', \n",
    "    max_travel_time=1800, #30min \n",
    "    listAccessibility=listAccessibility\n",
    ")\n",
    "\n",
    "    # For second day\n",
    "    computeAccessibilities(\n",
    "        city, timeStart,hEnd, arrayCC_day2, arraySP, gtfsDB,\n",
    "        computeIsochrone, timeStart/3600 == timeList[0],  # Use first=True for each day\n",
    "        day='20241202',\n",
    "        max_travel_time=1800, #30min \n",
    "        listAccessibility=listAccessibility\n",
    "    )"
   ]
  },
  {
   "cell_type": "code",
   "execution_count": null,
   "metadata": {},
   "outputs": [],
   "source": []
  }
 ],
 "metadata": {
  "accelerator": "GPU",
  "colab": {
   "gpuType": "L4",
   "machine_shape": "hm",
   "provenance": []
  },
  "hide_input": false,
  "kernelspec": {
   "display_name": "python_env",
   "language": "python",
   "name": "python3"
  },
  "language_info": {
   "codemirror_mode": {
    "name": "ipython",
    "version": 3
   },
   "file_extension": ".py",
   "mimetype": "text/x-python",
   "name": "python",
   "nbconvert_exporter": "python",
   "pygments_lexer": "ipython3",
   "version": "3.12.7"
  },
  "latex_envs": {
   "LaTeX_envs_menu_present": true,
   "autocomplete": true,
   "bibliofile": "biblio.bib",
   "cite_by": "apalike",
   "current_citInitial": 1,
   "eqLabelWithNumbers": false,
   "eqNumInitial": 1,
   "hotkeys": {
    "equation": "Ctrl-E",
    "itemize": "Ctrl-I"
   },
   "labels_anchors": true,
   "latex_user_defs": true,
   "report_style_numbering": true,
   "user_envs_cfg": true
  },
  "toc": {
   "colors": {
    "hover_highlight": "#DAA520",
    "running_highlight": "#FF0000",
    "selected_highlight": "#FFD700"
   },
   "moveMenuLeft": true,
   "nav_menu": {
    "height": "512px",
    "width": "252px"
   },
   "navigate_menu": true,
   "number_sections": true,
   "sideBar": true,
   "threshold": 4,
   "toc_cell": true,
   "toc_position": {
    "height": "1134px",
    "left": "0px",
    "right": "1771px",
    "top": "106px",
    "width": "212px"
   },
   "toc_section_display": "block",
   "toc_window_display": true,
   "widenNotebook": false
  },
  "varInspector": {
   "cols": {
    "lenName": 16,
    "lenType": 16,
    "lenVar": 40
   },
   "kernels_config": {
    "python": {
     "delete_cmd_postfix": "",
     "delete_cmd_prefix": "del ",
     "library": "var_list.py",
     "varRefreshCmd": "print(var_dic_list())"
    },
    "r": {
     "delete_cmd_postfix": ") ",
     "delete_cmd_prefix": "rm(",
     "library": "var_list.r",
     "varRefreshCmd": "cat(var_dic_list()) "
    }
   },
   "types_to_exclude": [
    "module",
    "function",
    "builtin_function_or_method",
    "instance",
    "_Feature"
   ],
   "window_display": false
  }
 },
 "nbformat": 4,
 "nbformat_minor": 4
}
