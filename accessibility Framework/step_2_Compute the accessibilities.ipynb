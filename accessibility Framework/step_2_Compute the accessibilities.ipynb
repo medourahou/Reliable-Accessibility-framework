{
 "cells": [
  {
   "cell_type": "markdown",
   "metadata": {
    "id": "yr76ZM0Lzr5b"
   },
   "source": [
    "# Requirement:"
   ]
  },
  {
   "cell_type": "code",
   "execution_count": null,
   "metadata": {
    "id": "lkUvvTKKz8W0"
   },
   "outputs": [],
   "source": []
  },
  {
   "cell_type": "code",
   "execution_count": null,
   "metadata": {},
   "outputs": [],
   "source": [
    "geojson == 3.1.0\n",
    "pymongo == 4.7.2\n",
    "pandas == 2.1.4\n",
    "folium == 0.16.0\n",
    "numpy == 1.26.4\n",
    "numba == 0.59.0\n",
    "geopy == 2.4.1\n",
    "shapely == 2.0.4\n",
    "geopandas == 0.14.4"
   ]
  },
  {
   "cell_type": "markdown",
   "metadata": {
    "id": "Beexx9Mdzr5c"
   },
   "source": []
  },
  {
   "cell_type": "code",
   "execution_count": 1,
   "metadata": {
    "hide_input": false,
    "id": "htr_10mPzr5d",
    "run_control": {
     "marked": false
    }
   },
   "outputs": [],
   "source": [
    "import os\n",
    "import sys\n",
    "\n",
    "# Add library path to Python path\n",
    "sys.path.append(os.path.abspath('..'))\n",
    "\n",
    "# Now import your modules\n",
    "from library import libStopsPoints, libConnections, libHex\n",
    "import zipfile\n",
    "import os\n",
    "import time\n",
    "import pymongo as pym\n",
    "import pandas as pd\n",
    "import folium\n",
    "import numpy as np\n",
    "import requests\n",
    "import numba\n",
    "\n",
    "import math\n",
    "import geopy\n",
    "from shapely.geometry import Polygon, MultiPolygon, Point, mapping\n",
    "from geopy.distance import geodesic,great_circle\n",
    "from folium.plugins import FastMarkerCluster\n",
    "from datetime import datetime\n",
    "from geopy.distance import geodesic,great_circle\n",
    "from pymongo import MongoClient\n",
    "\n",
    "from pathlib import Path\n",
    "import geopandas as gpd\n",
    "import geojson\n",
    "from IPython.core.display import display, HTML\n",
    "\n",
    "from library import libStopsPoints, libConnections, libHex\n",
    " "
   ]
  },
  {
   "cell_type": "code",
   "execution_count": 6,
   "metadata": {},
   "outputs": [],
   "source": []
  },
  {
   "cell_type": "markdown",
   "metadata": {
    "id": "u7FVHa3Rzr5e"
   },
   "source": [
    "# Data:\n",
    "\n",
    "1. gtfs file of the city.\n",
    " ->[repository of gtfs file https://transitfeeds.com/]\n",
    "2. pbf file of [openstreetmap](openstreetmap.org) extract from of the city/region of interest. ->[repository of osm extract: http://download.geofabrik.de/]"
   ]
  },
  {
   "cell_type": "markdown",
   "metadata": {
    "id": "TWziSZJ4zr5e"
   },
   "source": [
    "# Url and paths  [**set it!**]"
   ]
  },
  {
   "cell_type": "code",
   "execution_count": 3,
   "metadata": {},
   "outputs": [],
   "source": [
    "city = 'padam_territory_01'\n",
    "scenario_name = 'DRT_only_scenario_25' # basecase without drt\n",
    "\n",
    "# file paths and addresses to be provided:\n",
    "# population data\n",
    "shpPath = '../Cities/Padam_terretory_01/shp files/opps.shp'\n",
    "popCollectionName = \"POP\"\n",
    "popField = \"pop\"\n",
    "\n",
    "# Study area\n",
    "# Study area defines the area in which the accessibility calaculation is executes\n",
    "# study_area_shp_path = 'Paris/shp/studyarea.shp'\n",
    "\n",
    "\n",
    "directoryGTFS = \"../Cities/Padam_terretory_01/gtfs/DRT_only/gtfs_padam_territory_01_DRT_only_scenario_25/\"\n",
    "\n",
    "gtfs_prep_toggle = True\n",
    "urlMongoDb = \"mongodb://localhost:27017/\"  # url of the mongodb database\n",
    "urlMongoDbPop = \"mongodb://localhost:27017/\" # url of the mongodb database for population\n",
    "urlServerOsrm = 'http://localhost:5000/' # url of the osrm server of the city\n",
    "\n",
    "client = MongoClient(urlMongoDb)\n",
    "\n",
    "gtfsDB = client[str('pta-' + city + '-' +scenario_name)]\n",
    "popDbName = str('pta-' + city + '-' +scenario_name)\n",
    "\n",
    "# required parameters\n",
    "# the date must be in the interval of validity of the gtfs files, check it in the \"calendar.txt\" and \"calendar_dates.txt\" files inside the gtfs zip files.\n",
    "# the day for the computation of accessibility quantitites\n",
    "days = ['20241201', '20241202']\n",
    "day_names = [\"sunday\", \"monday\"] \n",
    "\n",
    "\n",
    "\n",
    "\n",
    "# parameters of walking distance\n",
    "timeWalk = 15 * 60  # seconds\n",
    "velocityWalk = 1.31  # m/s ***4.71km/h***\n",
    "distanceS = timeWalk * velocityWalk\n",
    "\n",
    "# Parameters that define the resolution and extention of tesselletion and the maximum of the walking time\n",
    "# grid step of the hexagonal tesselletion in kilometers\n",
    "gridEdge = 1\n",
    "\n",
    "# Set check4stops = False if cells / hexagones should be included that do not have stops within.\n",
    "# Set check4stops = False for preprocessing prior to dynamic mode to gtfs convertion\n",
    "# Set check4stops = True for citychrone accessibility analysis\n",
    "check4stops = False"
   ]
  },
  {
   "cell_type": "markdown",
   "metadata": {
    "id": "OLA8w1Ovzr5h"
   },
   "source": [
    "# Start of the computation"
   ]
  },
  {
   "cell_type": "markdown",
   "metadata": {
    "id": "okUs-50pzr5i",
    "jupyter": {
     "outputs_hidden": false
    },
    "pycharm": {
     "name": "#%% md\n"
    }
   },
   "source": [
    "### add population data"
   ]
  },
  {
   "cell_type": "code",
   "execution_count": 4,
   "metadata": {
    "id": "j6pxOOw7zr5i",
    "pycharm": {
     "name": "#%%\n"
    }
   },
   "outputs": [
    {
     "data": {
      "text/plain": [
       "InsertManyResult([ObjectId('6776525082db834e293da0ae'), ObjectId('6776525082db834e293da0af'), ObjectId('6776525082db834e293da0b0'), ObjectId('6776525082db834e293da0b1'), ObjectId('6776525082db834e293da0b2'), ObjectId('6776525082db834e293da0b3'), ObjectId('6776525082db834e293da0b4'), ObjectId('6776525082db834e293da0b5'), ObjectId('6776525082db834e293da0b6'), ObjectId('6776525082db834e293da0b7'), ObjectId('6776525082db834e293da0b8'), ObjectId('6776525082db834e293da0b9'), ObjectId('6776525082db834e293da0ba'), ObjectId('6776525082db834e293da0bb'), ObjectId('6776525082db834e293da0bc'), ObjectId('6776525082db834e293da0bd'), ObjectId('6776525082db834e293da0be'), ObjectId('6776525082db834e293da0bf'), ObjectId('6776525082db834e293da0c0'), ObjectId('6776525082db834e293da0c1'), ObjectId('6776525082db834e293da0c2'), ObjectId('6776525082db834e293da0c3'), ObjectId('6776525082db834e293da0c4'), ObjectId('6776525082db834e293da0c5'), ObjectId('6776525082db834e293da0c6'), ObjectId('6776525082db834e293da0c7'), ObjectId('6776525082db834e293da0c8'), ObjectId('6776525082db834e293da0c9'), ObjectId('6776525082db834e293da0ca'), ObjectId('6776525082db834e293da0cb'), ObjectId('6776525082db834e293da0cc'), ObjectId('6776525082db834e293da0cd'), ObjectId('6776525082db834e293da0ce'), ObjectId('6776525082db834e293da0cf'), ObjectId('6776525082db834e293da0d0'), ObjectId('6776525082db834e293da0d1'), ObjectId('6776525082db834e293da0d2'), ObjectId('6776525082db834e293da0d3'), ObjectId('6776525082db834e293da0d4'), ObjectId('6776525082db834e293da0d5'), ObjectId('6776525082db834e293da0d6'), ObjectId('6776525082db834e293da0d7'), ObjectId('6776525082db834e293da0d8'), ObjectId('6776525082db834e293da0d9'), ObjectId('6776525082db834e293da0da'), ObjectId('6776525082db834e293da0db'), ObjectId('6776525082db834e293da0dc'), ObjectId('6776525082db834e293da0dd'), ObjectId('6776525082db834e293da0de'), ObjectId('6776525082db834e293da0df'), ObjectId('6776525082db834e293da0e0'), ObjectId('6776525082db834e293da0e1'), ObjectId('6776525082db834e293da0e2'), ObjectId('6776525082db834e293da0e3'), ObjectId('6776525082db834e293da0e4'), ObjectId('6776525082db834e293da0e5'), ObjectId('6776525082db834e293da0e6'), ObjectId('6776525082db834e293da0e7'), ObjectId('6776525082db834e293da0e8'), ObjectId('6776525082db834e293da0e9'), ObjectId('6776525082db834e293da0ea'), ObjectId('6776525082db834e293da0eb'), ObjectId('6776525082db834e293da0ec'), ObjectId('6776525082db834e293da0ed'), ObjectId('6776525082db834e293da0ee'), ObjectId('6776525082db834e293da0ef'), ObjectId('6776525082db834e293da0f0'), ObjectId('6776525082db834e293da0f1'), ObjectId('6776525082db834e293da0f2'), ObjectId('6776525082db834e293da0f3'), ObjectId('6776525082db834e293da0f4'), ObjectId('6776525082db834e293da0f5'), ObjectId('6776525082db834e293da0f6'), ObjectId('6776525082db834e293da0f7'), ObjectId('6776525082db834e293da0f8'), ObjectId('6776525082db834e293da0f9'), ObjectId('6776525082db834e293da0fa'), ObjectId('6776525082db834e293da0fb'), ObjectId('6776525082db834e293da0fc'), ObjectId('6776525082db834e293da0fd'), ObjectId('6776525082db834e293da0fe'), ObjectId('6776525082db834e293da0ff'), ObjectId('6776525082db834e293da100'), ObjectId('6776525082db834e293da101'), ObjectId('6776525082db834e293da102'), ObjectId('6776525082db834e293da103'), ObjectId('6776525082db834e293da104'), ObjectId('6776525082db834e293da105'), ObjectId('6776525082db834e293da106'), ObjectId('6776525082db834e293da107'), ObjectId('6776525082db834e293da108'), ObjectId('6776525082db834e293da109'), ObjectId('6776525082db834e293da10a'), ObjectId('6776525082db834e293da10b'), ObjectId('6776525082db834e293da10c'), ObjectId('6776525082db834e293da10d'), ObjectId('6776525082db834e293da10e'), ObjectId('6776525082db834e293da10f'), ObjectId('6776525082db834e293da110'), ObjectId('6776525082db834e293da111'), ObjectId('6776525082db834e293da112'), ObjectId('6776525082db834e293da113'), ObjectId('6776525082db834e293da114'), ObjectId('6776525082db834e293da115'), ObjectId('6776525082db834e293da116'), ObjectId('6776525082db834e293da117'), ObjectId('6776525082db834e293da118'), ObjectId('6776525082db834e293da119'), ObjectId('6776525082db834e293da11a'), ObjectId('6776525082db834e293da11b'), ObjectId('6776525082db834e293da11c'), ObjectId('6776525082db834e293da11d'), ObjectId('6776525082db834e293da11e'), ObjectId('6776525082db834e293da11f'), ObjectId('6776525082db834e293da120'), ObjectId('6776525082db834e293da121'), ObjectId('6776525082db834e293da122'), ObjectId('6776525082db834e293da123'), ObjectId('6776525082db834e293da124'), ObjectId('6776525082db834e293da125'), ObjectId('6776525082db834e293da126'), ObjectId('6776525082db834e293da127'), ObjectId('6776525082db834e293da128'), ObjectId('6776525082db834e293da129'), ObjectId('6776525082db834e293da12a'), ObjectId('6776525082db834e293da12b'), ObjectId('6776525082db834e293da12c'), ObjectId('6776525082db834e293da12d'), ObjectId('6776525082db834e293da12e'), ObjectId('6776525082db834e293da12f'), ObjectId('6776525082db834e293da130'), ObjectId('6776525082db834e293da131'), ObjectId('6776525082db834e293da132'), ObjectId('6776525082db834e293da133'), ObjectId('6776525082db834e293da134'), ObjectId('6776525082db834e293da135'), ObjectId('6776525082db834e293da136'), ObjectId('6776525082db834e293da137'), ObjectId('6776525082db834e293da138'), ObjectId('6776525082db834e293da139'), ObjectId('6776525082db834e293da13a'), ObjectId('6776525082db834e293da13b'), ObjectId('6776525082db834e293da13c'), ObjectId('6776525082db834e293da13d'), ObjectId('6776525082db834e293da13e'), ObjectId('6776525082db834e293da13f'), ObjectId('6776525082db834e293da140'), ObjectId('6776525082db834e293da141'), ObjectId('6776525082db834e293da142'), ObjectId('6776525082db834e293da143'), ObjectId('6776525082db834e293da144'), ObjectId('6776525082db834e293da145'), ObjectId('6776525082db834e293da146'), ObjectId('6776525082db834e293da147'), ObjectId('6776525082db834e293da148'), ObjectId('6776525082db834e293da149'), ObjectId('6776525082db834e293da14a'), ObjectId('6776525082db834e293da14b'), ObjectId('6776525082db834e293da14c'), ObjectId('6776525082db834e293da14d'), ObjectId('6776525082db834e293da14e'), ObjectId('6776525082db834e293da14f'), ObjectId('6776525082db834e293da150'), ObjectId('6776525082db834e293da151'), ObjectId('6776525082db834e293da152'), ObjectId('6776525082db834e293da153'), ObjectId('6776525082db834e293da154'), ObjectId('6776525082db834e293da155'), ObjectId('6776525082db834e293da156'), ObjectId('6776525082db834e293da157'), ObjectId('6776525082db834e293da158'), ObjectId('6776525082db834e293da159'), ObjectId('6776525082db834e293da15a'), ObjectId('6776525082db834e293da15b'), ObjectId('6776525082db834e293da15c'), ObjectId('6776525082db834e293da15d'), ObjectId('6776525082db834e293da15e'), ObjectId('6776525082db834e293da15f'), ObjectId('6776525082db834e293da160'), ObjectId('6776525082db834e293da161'), ObjectId('6776525082db834e293da162'), ObjectId('6776525082db834e293da163'), ObjectId('6776525082db834e293da164'), ObjectId('6776525082db834e293da165'), ObjectId('6776525082db834e293da166'), ObjectId('6776525082db834e293da167'), ObjectId('6776525082db834e293da168'), ObjectId('6776525082db834e293da169'), ObjectId('6776525082db834e293da16a'), ObjectId('6776525082db834e293da16b'), ObjectId('6776525082db834e293da16c'), ObjectId('6776525082db834e293da16d'), ObjectId('6776525082db834e293da16e'), ObjectId('6776525082db834e293da16f'), ObjectId('6776525082db834e293da170'), ObjectId('6776525082db834e293da171'), ObjectId('6776525082db834e293da172'), ObjectId('6776525082db834e293da173'), ObjectId('6776525082db834e293da174'), ObjectId('6776525082db834e293da175'), ObjectId('6776525082db834e293da176'), ObjectId('6776525082db834e293da177'), ObjectId('6776525082db834e293da178'), ObjectId('6776525082db834e293da179'), ObjectId('6776525082db834e293da17a'), ObjectId('6776525082db834e293da17b'), ObjectId('6776525082db834e293da17c'), ObjectId('6776525082db834e293da17d'), ObjectId('6776525082db834e293da17e'), ObjectId('6776525082db834e293da17f'), ObjectId('6776525082db834e293da180'), ObjectId('6776525082db834e293da181'), ObjectId('6776525082db834e293da182'), ObjectId('6776525082db834e293da183'), ObjectId('6776525082db834e293da184'), ObjectId('6776525082db834e293da185'), ObjectId('6776525082db834e293da186'), ObjectId('6776525082db834e293da187'), ObjectId('6776525082db834e293da188'), ObjectId('6776525082db834e293da189'), ObjectId('6776525082db834e293da18a'), ObjectId('6776525082db834e293da18b'), ObjectId('6776525082db834e293da18c'), ObjectId('6776525082db834e293da18d'), ObjectId('6776525082db834e293da18e'), ObjectId('6776525082db834e293da18f'), ObjectId('6776525082db834e293da190'), ObjectId('6776525082db834e293da191'), ObjectId('6776525082db834e293da192'), ObjectId('6776525082db834e293da193'), ObjectId('6776525082db834e293da194'), ObjectId('6776525082db834e293da195'), ObjectId('6776525082db834e293da196'), ObjectId('6776525082db834e293da197'), ObjectId('6776525082db834e293da198'), ObjectId('6776525082db834e293da199'), ObjectId('6776525082db834e293da19a'), ObjectId('6776525082db834e293da19b'), ObjectId('6776525082db834e293da19c'), ObjectId('6776525082db834e293da19d'), ObjectId('6776525082db834e293da19e'), ObjectId('6776525082db834e293da19f'), ObjectId('6776525082db834e293da1a0'), ObjectId('6776525082db834e293da1a1'), ObjectId('6776525082db834e293da1a2'), ObjectId('6776525082db834e293da1a3'), ObjectId('6776525082db834e293da1a4'), ObjectId('6776525082db834e293da1a5'), ObjectId('6776525082db834e293da1a6'), ObjectId('6776525082db834e293da1a7'), ObjectId('6776525082db834e293da1a8'), ObjectId('6776525082db834e293da1a9'), ObjectId('6776525082db834e293da1aa'), ObjectId('6776525082db834e293da1ab'), ObjectId('6776525082db834e293da1ac'), ObjectId('6776525082db834e293da1ad'), ObjectId('6776525082db834e293da1ae'), ObjectId('6776525082db834e293da1af'), ObjectId('6776525082db834e293da1b0'), ObjectId('6776525082db834e293da1b1'), ObjectId('6776525082db834e293da1b2'), ObjectId('6776525082db834e293da1b3'), ObjectId('6776525082db834e293da1b4'), ObjectId('6776525082db834e293da1b5'), ObjectId('6776525082db834e293da1b6'), ObjectId('6776525082db834e293da1b7'), ObjectId('6776525082db834e293da1b8'), ObjectId('6776525082db834e293da1b9'), ObjectId('6776525082db834e293da1ba'), ObjectId('6776525082db834e293da1bb'), ObjectId('6776525082db834e293da1bc'), ObjectId('6776525082db834e293da1bd'), ObjectId('6776525082db834e293da1be'), ObjectId('6776525082db834e293da1bf'), ObjectId('6776525082db834e293da1c0'), ObjectId('6776525082db834e293da1c1'), ObjectId('6776525082db834e293da1c2'), ObjectId('6776525082db834e293da1c3'), ObjectId('6776525082db834e293da1c4'), ObjectId('6776525082db834e293da1c5'), ObjectId('6776525082db834e293da1c6'), ObjectId('6776525082db834e293da1c7'), ObjectId('6776525082db834e293da1c8'), ObjectId('6776525082db834e293da1c9'), ObjectId('6776525082db834e293da1ca'), ObjectId('6776525082db834e293da1cb'), ObjectId('6776525082db834e293da1cc'), ObjectId('6776525082db834e293da1cd'), ObjectId('6776525082db834e293da1ce'), ObjectId('6776525082db834e293da1cf'), ObjectId('6776525082db834e293da1d0'), ObjectId('6776525082db834e293da1d1'), ObjectId('6776525082db834e293da1d2'), ObjectId('6776525082db834e293da1d3'), ObjectId('6776525082db834e293da1d4'), ObjectId('6776525082db834e293da1d5'), ObjectId('6776525082db834e293da1d6'), ObjectId('6776525082db834e293da1d7'), ObjectId('6776525082db834e293da1d8'), ObjectId('6776525082db834e293da1d9'), ObjectId('6776525082db834e293da1da'), ObjectId('6776525082db834e293da1db'), ObjectId('6776525082db834e293da1dc'), ObjectId('6776525082db834e293da1dd'), ObjectId('6776525082db834e293da1de'), ObjectId('6776525082db834e293da1df'), ObjectId('6776525082db834e293da1e0'), ObjectId('6776525082db834e293da1e1'), ObjectId('6776525082db834e293da1e2'), ObjectId('6776525082db834e293da1e3'), ObjectId('6776525082db834e293da1e4'), ObjectId('6776525082db834e293da1e5'), ObjectId('6776525082db834e293da1e6'), ObjectId('6776525082db834e293da1e7'), ObjectId('6776525082db834e293da1e8'), ObjectId('6776525082db834e293da1e9'), ObjectId('6776525082db834e293da1ea'), ObjectId('6776525082db834e293da1eb'), ObjectId('6776525082db834e293da1ec'), ObjectId('6776525082db834e293da1ed'), ObjectId('6776525082db834e293da1ee'), ObjectId('6776525082db834e293da1ef'), ObjectId('6776525082db834e293da1f0'), ObjectId('6776525082db834e293da1f1'), ObjectId('6776525082db834e293da1f2'), ObjectId('6776525082db834e293da1f3'), ObjectId('6776525082db834e293da1f4'), ObjectId('6776525082db834e293da1f5'), ObjectId('6776525082db834e293da1f6'), ObjectId('6776525082db834e293da1f7'), ObjectId('6776525082db834e293da1f8'), ObjectId('6776525082db834e293da1f9'), ObjectId('6776525082db834e293da1fa'), ObjectId('6776525082db834e293da1fb'), ObjectId('6776525082db834e293da1fc'), ObjectId('6776525082db834e293da1fd'), ObjectId('6776525082db834e293da1fe'), ObjectId('6776525082db834e293da1ff'), ObjectId('6776525082db834e293da200'), ObjectId('6776525082db834e293da201'), ObjectId('6776525082db834e293da202'), ObjectId('6776525082db834e293da203'), ObjectId('6776525082db834e293da204'), ObjectId('6776525082db834e293da205'), ObjectId('6776525082db834e293da206'), ObjectId('6776525082db834e293da207'), ObjectId('6776525082db834e293da208'), ObjectId('6776525082db834e293da209'), ObjectId('6776525082db834e293da20a'), ObjectId('6776525082db834e293da20b'), ObjectId('6776525082db834e293da20c'), ObjectId('6776525082db834e293da20d'), ObjectId('6776525082db834e293da20e'), ObjectId('6776525082db834e293da20f'), ObjectId('6776525082db834e293da210'), ObjectId('6776525082db834e293da211'), ObjectId('6776525082db834e293da212'), ObjectId('6776525082db834e293da213'), ObjectId('6776525082db834e293da214'), ObjectId('6776525082db834e293da215'), ObjectId('6776525082db834e293da216'), ObjectId('6776525082db834e293da217'), ObjectId('6776525082db834e293da218'), ObjectId('6776525082db834e293da219'), ObjectId('6776525082db834e293da21a'), ObjectId('6776525082db834e293da21b'), ObjectId('6776525082db834e293da21c'), ObjectId('6776525082db834e293da21d'), ObjectId('6776525082db834e293da21e'), ObjectId('6776525082db834e293da21f'), ObjectId('6776525082db834e293da220'), ObjectId('6776525082db834e293da221'), ObjectId('6776525082db834e293da222'), ObjectId('6776525082db834e293da223'), ObjectId('6776525082db834e293da224'), ObjectId('6776525082db834e293da225'), ObjectId('6776525082db834e293da226'), ObjectId('6776525082db834e293da227'), ObjectId('6776525082db834e293da228'), ObjectId('6776525082db834e293da229'), ObjectId('6776525082db834e293da22a'), ObjectId('6776525082db834e293da22b'), ObjectId('6776525082db834e293da22c'), ObjectId('6776525082db834e293da22d'), ObjectId('6776525082db834e293da22e'), ObjectId('6776525082db834e293da22f'), ObjectId('6776525082db834e293da230'), ObjectId('6776525082db834e293da231'), ObjectId('6776525082db834e293da232'), ObjectId('6776525082db834e293da233'), ObjectId('6776525082db834e293da234'), ObjectId('6776525082db834e293da235'), ObjectId('6776525082db834e293da236'), ObjectId('6776525082db834e293da237'), ObjectId('6776525082db834e293da238'), ObjectId('6776525082db834e293da239'), ObjectId('6776525082db834e293da23a'), ObjectId('6776525082db834e293da23b'), ObjectId('6776525082db834e293da23c'), ObjectId('6776525082db834e293da23d'), ObjectId('6776525082db834e293da23e'), ObjectId('6776525082db834e293da23f'), ObjectId('6776525082db834e293da240'), ObjectId('6776525082db834e293da241'), ObjectId('6776525082db834e293da242'), ObjectId('6776525082db834e293da243'), ObjectId('6776525082db834e293da244'), ObjectId('6776525082db834e293da245'), ObjectId('6776525082db834e293da246'), ObjectId('6776525082db834e293da247'), ObjectId('6776525082db834e293da248'), ObjectId('6776525082db834e293da249'), ObjectId('6776525082db834e293da24a'), ObjectId('6776525082db834e293da24b'), ObjectId('6776525082db834e293da24c'), ObjectId('6776525082db834e293da24d'), ObjectId('6776525082db834e293da24e'), ObjectId('6776525082db834e293da24f'), ObjectId('6776525082db834e293da250'), ObjectId('6776525082db834e293da251'), ObjectId('6776525082db834e293da252'), ObjectId('6776525082db834e293da253'), ObjectId('6776525082db834e293da254'), ObjectId('6776525082db834e293da255'), ObjectId('6776525082db834e293da256'), ObjectId('6776525082db834e293da257'), ObjectId('6776525082db834e293da258'), ObjectId('6776525082db834e293da259'), ObjectId('6776525082db834e293da25a'), ObjectId('6776525082db834e293da25b'), ObjectId('6776525082db834e293da25c'), ObjectId('6776525082db834e293da25d'), ObjectId('6776525082db834e293da25e'), ObjectId('6776525082db834e293da25f'), ObjectId('6776525082db834e293da260'), ObjectId('6776525082db834e293da261'), ObjectId('6776525082db834e293da262'), ObjectId('6776525082db834e293da263'), ObjectId('6776525082db834e293da264'), ObjectId('6776525082db834e293da265'), ObjectId('6776525082db834e293da266'), ObjectId('6776525082db834e293da267'), ObjectId('6776525082db834e293da268'), ObjectId('6776525082db834e293da269'), ObjectId('6776525082db834e293da26a'), ObjectId('6776525082db834e293da26b'), ObjectId('6776525082db834e293da26c'), ObjectId('6776525082db834e293da26d'), ObjectId('6776525082db834e293da26e'), ObjectId('6776525082db834e293da26f'), ObjectId('6776525082db834e293da270'), ObjectId('6776525082db834e293da271'), ObjectId('6776525082db834e293da272'), ObjectId('6776525082db834e293da273'), ObjectId('6776525082db834e293da274'), ObjectId('6776525082db834e293da275'), ObjectId('6776525082db834e293da276'), ObjectId('6776525082db834e293da277'), ObjectId('6776525082db834e293da278'), ObjectId('6776525082db834e293da279'), ObjectId('6776525082db834e293da27a'), ObjectId('6776525082db834e293da27b'), ObjectId('6776525082db834e293da27c'), ObjectId('6776525082db834e293da27d'), ObjectId('6776525082db834e293da27e'), ObjectId('6776525082db834e293da27f'), ObjectId('6776525082db834e293da280'), ObjectId('6776525082db834e293da281'), ObjectId('6776525082db834e293da282'), ObjectId('6776525082db834e293da283'), ObjectId('6776525082db834e293da284'), ObjectId('6776525082db834e293da285'), ObjectId('6776525082db834e293da286'), ObjectId('6776525082db834e293da287'), ObjectId('6776525082db834e293da288'), ObjectId('6776525082db834e293da289'), ObjectId('6776525082db834e293da28a'), ObjectId('6776525082db834e293da28b'), ObjectId('6776525082db834e293da28c'), ObjectId('6776525082db834e293da28d'), ObjectId('6776525082db834e293da28e'), ObjectId('6776525082db834e293da28f'), ObjectId('6776525082db834e293da290'), ObjectId('6776525082db834e293da291'), ObjectId('6776525082db834e293da292'), ObjectId('6776525082db834e293da293'), ObjectId('6776525082db834e293da294'), ObjectId('6776525082db834e293da295'), ObjectId('6776525082db834e293da296'), ObjectId('6776525082db834e293da297'), ObjectId('6776525082db834e293da298'), ObjectId('6776525082db834e293da299'), ObjectId('6776525082db834e293da29a'), ObjectId('6776525082db834e293da29b'), ObjectId('6776525082db834e293da29c'), ObjectId('6776525082db834e293da29d'), ObjectId('6776525082db834e293da29e'), ObjectId('6776525082db834e293da29f'), ObjectId('6776525082db834e293da2a0'), ObjectId('6776525082db834e293da2a1'), ObjectId('6776525082db834e293da2a2'), ObjectId('6776525082db834e293da2a3'), ObjectId('6776525082db834e293da2a4'), ObjectId('6776525082db834e293da2a5'), ObjectId('6776525082db834e293da2a6'), ObjectId('6776525082db834e293da2a7'), ObjectId('6776525082db834e293da2a8'), ObjectId('6776525082db834e293da2a9'), ObjectId('6776525082db834e293da2aa'), ObjectId('6776525082db834e293da2ab'), ObjectId('6776525082db834e293da2ac'), ObjectId('6776525082db834e293da2ad'), ObjectId('6776525082db834e293da2ae'), ObjectId('6776525082db834e293da2af'), ObjectId('6776525082db834e293da2b0'), ObjectId('6776525082db834e293da2b1'), ObjectId('6776525082db834e293da2b2'), ObjectId('6776525082db834e293da2b3'), ObjectId('6776525082db834e293da2b4'), ObjectId('6776525082db834e293da2b5'), ObjectId('6776525082db834e293da2b6'), ObjectId('6776525082db834e293da2b7'), ObjectId('6776525082db834e293da2b8'), ObjectId('6776525082db834e293da2b9'), ObjectId('6776525082db834e293da2ba'), ObjectId('6776525082db834e293da2bb'), ObjectId('6776525082db834e293da2bc'), ObjectId('6776525082db834e293da2bd'), ObjectId('6776525082db834e293da2be'), ObjectId('6776525082db834e293da2bf'), ObjectId('6776525082db834e293da2c0'), ObjectId('6776525082db834e293da2c1'), ObjectId('6776525082db834e293da2c2'), ObjectId('6776525082db834e293da2c3'), ObjectId('6776525082db834e293da2c4'), ObjectId('6776525082db834e293da2c5'), ObjectId('6776525082db834e293da2c6'), ObjectId('6776525082db834e293da2c7'), ObjectId('6776525082db834e293da2c8'), ObjectId('6776525082db834e293da2c9'), ObjectId('6776525082db834e293da2ca'), ObjectId('6776525082db834e293da2cb'), ObjectId('6776525082db834e293da2cc'), ObjectId('6776525082db834e293da2cd'), ObjectId('6776525082db834e293da2ce'), ObjectId('6776525082db834e293da2cf'), ObjectId('6776525082db834e293da2d0'), ObjectId('6776525082db834e293da2d1'), ObjectId('6776525082db834e293da2d2'), ObjectId('6776525082db834e293da2d3'), ObjectId('6776525082db834e293da2d4'), ObjectId('6776525082db834e293da2d5'), ObjectId('6776525082db834e293da2d6'), ObjectId('6776525082db834e293da2d7'), ObjectId('6776525082db834e293da2d8'), ObjectId('6776525082db834e293da2d9'), ObjectId('6776525082db834e293da2da'), ObjectId('6776525082db834e293da2db'), ObjectId('6776525082db834e293da2dc'), ObjectId('6776525082db834e293da2dd'), ObjectId('6776525082db834e293da2de'), ObjectId('6776525082db834e293da2df'), ObjectId('6776525082db834e293da2e0'), ObjectId('6776525082db834e293da2e1'), ObjectId('6776525082db834e293da2e2'), ObjectId('6776525082db834e293da2e3'), ObjectId('6776525082db834e293da2e4'), ObjectId('6776525082db834e293da2e5'), ObjectId('6776525082db834e293da2e6'), ObjectId('6776525082db834e293da2e7'), ObjectId('6776525082db834e293da2e8'), ObjectId('6776525082db834e293da2e9'), ObjectId('6776525082db834e293da2ea'), ObjectId('6776525082db834e293da2eb'), ObjectId('6776525082db834e293da2ec'), ObjectId('6776525082db834e293da2ed'), ObjectId('6776525082db834e293da2ee'), ObjectId('6776525082db834e293da2ef'), ObjectId('6776525082db834e293da2f0'), ObjectId('6776525082db834e293da2f1'), ObjectId('6776525082db834e293da2f2')], acknowledged=True)"
      ]
     },
     "execution_count": 4,
     "metadata": {},
     "output_type": "execute_result"
    }
   ],
   "source": [
    "\n",
    "# shapefile = gpd.read_file(shpPath)\n",
    "# shapefile.to_file(\"../Cities/Padam_terretory_01/shp files/opps_for_padam_terretory_01.geojson\", driver='GeoJSON')\n",
    "with open(\"../Cities/Padam_terretory_01/shp files/opps_for_padam_terretory_01.geojson\",encoding=\"utf8\") as f:\n",
    "    gj = geojson.load(f)\n",
    "features = gj['features']\n",
    "gtfsDB[\"POP\"].drop()\n",
    "gtfsDB[\"POP\"].insert_many(features)\n"
   ]
  },
  {
   "cell_type": "code",
   "execution_count": 5,
   "metadata": {
    "code_folding": [],
    "colab": {
     "base_uri": "https://localhost:8080/"
    },
    "id": "OAsrhBWPzr5i",
    "outputId": "453e5d32-a409-4e74-eb0d-22686e0641c2"
   },
   "outputs": [
    {
     "name": "stdout",
     "output_type": "stream",
     "text": [
      "removing stops  of  padam_territory_01\n",
      "removing routes  of  padam_territory_01\n",
      "removing trips  of  padam_territory_01\n",
      "removing calendar  of  padam_territory_01\n",
      "removing calendar_dates  of  padam_territory_01\n",
      "removing stop_times  of  padam_territory_01\n",
      "gtfs_padam_territory_01_DRT_only_scenario_25.zip\n",
      "stops.txt -> (708,708)\n",
      "routes.txt -> (588060,588060)\n",
      "trips.txt -> (588060,588060)\n",
      "calendar.txt -> (2,2)\n",
      "calendar_dates.txt -> (2,2)\n",
      "stop_times.txt -> (1176120,1176120)\n"
     ]
    }
   ],
   "source": [
    "# load Gtfs data to mongodb database\n",
    "listOfFile = ['stops.txt', 'routes.txt', 'trips.txt', 'calendar.txt', 'calendar_dates.txt',\n",
    "              'stop_times.txt']  \n",
    "libStopsPoints.loadGtfsFile(gtfsDB, directoryGTFS, city, listOfFile)"
   ]
  },
  {
   "cell_type": "markdown",
   "metadata": {
    "id": "qV9UEpQ9zr5i"
   },
   "source": [
    "## Fill the database with the connections"
   ]
  },
  {
   "cell_type": "code",
   "execution_count": 6,
   "metadata": {
    "colab": {
     "base_uri": "https://localhost:8080/"
    },
    "id": "wFho5s7Ozr5i",
    "outputId": "48390d6b-177e-45e1-92e2-749acf9035b5"
   },
   "outputs": [
    {
     "name": "stdout",
     "output_type": "stream",
     "text": [
      "number of file in calendar+calendar_dates: 1\n",
      "in stops: 1\n",
      "\n",
      "Checking the number of services active in the date selected:\n",
      "file: gtfs_padam_territory_01_DRT_only_scenario_25.zip \t total number of active service (in calendar.txt): 1\n",
      "number of different service_id: 1\n",
      "\n",
      "\n",
      "file: gtfs_padam_territory_01_DRT_only_scenario_25.zip \t total number of active service (in calendar_dates.txt): 2\n",
      "number of different service_id: 1 total number of active services found: 2\n",
      "number of trips 588000\n",
      " gtfs_padam_territory_01_DRT_only_scenario_25.zip\n",
      "inserting to DB....94030, err 0, err_start 0, err_start_after 0\n",
      "tot connections 294030\n",
      "number of file in calendar+calendar_dates: 1\n",
      "in stops: 1\n",
      "\n",
      "Checking the number of services active in the date selected:\n",
      "file: gtfs_padam_territory_01_DRT_only_scenario_25.zip \t total number of active service (in calendar.txt): 1\n",
      "number of different service_id: 1\n",
      "\n",
      "\n",
      "file: gtfs_padam_territory_01_DRT_only_scenario_25.zip \t total number of active service (in calendar_dates.txt): 2\n",
      "number of different service_id: 1 total number of active services found: 2\n",
      "number of trips 588000\n",
      " gtfs_padam_territory_01_DRT_only_scenario_25.zip\n",
      "inserting to DB....94030, err 0, err_start 0, err_start_after 0\n",
      "tot connections 294030\n"
     ]
    }
   ],
   "source": [
    "#add connections for two different days\n",
    "libConnections.readConnections(gtfsDB, city, directoryGTFS, days[0], day_names[0], overwrite=True)\n",
    "libConnections.readConnections(gtfsDB, city, directoryGTFS, days[1], day_names[1], overwrite=False)\n"
   ]
  },
  {
   "cell_type": "markdown",
   "metadata": {
    "id": "tl1uUS47zr5j"
   },
   "source": [
    "## remove stops with no connections and add to each stop the pos field"
   ]
  },
  {
   "cell_type": "code",
   "execution_count": 7,
   "metadata": {
    "colab": {
     "base_uri": "https://localhost:8080/"
    },
    "id": "FPkn9Z4azr5j",
    "outputId": "a6b83de1-a8e8-4cf4-a3d9-fcc8c70d31ac",
    "scrolled": true
   },
   "outputs": [
    {
     "name": "stdout",
     "output_type": "stream",
     "text": [
      "708-removed stops{}\r"
     ]
    }
   ],
   "source": [
    "libStopsPoints.removingStopsNoConnections(gtfsDB, city)\n",
    "libStopsPoints.setPosField(gtfsDB, city)"
   ]
  },
  {
   "cell_type": "code",
   "execution_count": 8,
   "metadata": {
    "id": "8ODjatAyzr5j",
    "outputId": "687c8325-286c-4458-ee2b-c479c0e151c0",
    "scrolled": true
   },
   "outputs": [
    {
     "name": "stdout",
     "output_type": "stream",
     "text": [
      "connections deleted 060 pEnd 588060, totC 588060\n"
     ]
    }
   ],
   "source": [
    "libConnections.updateConnectionsStopName(gtfsDB, city)"
   ]
  },
  {
   "cell_type": "markdown",
   "metadata": {
    "id": "P05X2M-2zr5j"
   },
   "source": [
    "# Tassel with exagons"
   ]
  },
  {
   "cell_type": "markdown",
   "metadata": {
    "id": "nvXCsEwpzr5j"
   },
   "source": [
    "### List of all stops"
   ]
  },
  {
   "cell_type": "code",
   "execution_count": 9,
   "metadata": {
    "id": "ozYshZxNzr5j",
    "outputId": "6dc8acde-5046-4d6f-d4b3-e42fe2174e04"
   },
   "outputs": [
    {
     "name": "stdout",
     "output_type": "stream",
     "text": [
      "tot stop 708  stop error : 0\n"
     ]
    }
   ],
   "source": [
    "stopsList = libStopsPoints.returnStopsList(gtfsDB, city)"
   ]
  },
  {
   "cell_type": "markdown",
   "metadata": {
    "id": "8jjluOmyzr5j"
   },
   "source": [
    "## Compute the box that include all stops\n",
    "The edge of such box are enlarged by distanceS."
   ]
  },
  {
   "cell_type": "code",
   "execution_count": 10,
   "metadata": {
    "id": "sJ5y3tu5zr5k",
    "outputId": "b6d2ef88-bd30-48a1-dfc2-8a3839022c1c"
   },
   "outputs": [
    {
     "data": {
      "text/html": [
       "<h1>All stops of the public transport present in the gtfs files</h1>"
      ],
      "text/plain": [
       "<IPython.core.display.HTML object>"
      ]
     },
     "metadata": {},
     "output_type": "display_data"
    },
    {
     "data": {
      "text/html": [
       "<div style=\"width:100%;\"><div style=\"position:relative;width:100%;height:0;padding-bottom:60%;\"><span style=\"color:#565656\">Make this Notebook Trusted to load map: File -> Trust Notebook</span><iframe srcdoc=\"&lt;!DOCTYPE html&gt;\n",
       "&lt;html&gt;\n",
       "&lt;head&gt;\n",
       "    \n",
       "    &lt;meta http-equiv=&quot;content-type&quot; content=&quot;text/html; charset=UTF-8&quot; /&gt;\n",
       "    \n",
       "        &lt;script&gt;\n",
       "            L_NO_TOUCH = false;\n",
       "            L_DISABLE_3D = false;\n",
       "        &lt;/script&gt;\n",
       "    \n",
       "    &lt;style&gt;html, body {width: 100%;height: 100%;margin: 0;padding: 0;}&lt;/style&gt;\n",
       "    &lt;style&gt;#map {position:absolute;top:0;bottom:0;right:0;left:0;}&lt;/style&gt;\n",
       "    &lt;script src=&quot;https://cdn.jsdelivr.net/npm/leaflet@1.9.3/dist/leaflet.js&quot;&gt;&lt;/script&gt;\n",
       "    &lt;script src=&quot;https://code.jquery.com/jquery-3.7.1.min.js&quot;&gt;&lt;/script&gt;\n",
       "    &lt;script src=&quot;https://cdn.jsdelivr.net/npm/bootstrap@5.2.2/dist/js/bootstrap.bundle.min.js&quot;&gt;&lt;/script&gt;\n",
       "    &lt;script src=&quot;https://cdnjs.cloudflare.com/ajax/libs/Leaflet.awesome-markers/2.0.2/leaflet.awesome-markers.js&quot;&gt;&lt;/script&gt;\n",
       "    &lt;link rel=&quot;stylesheet&quot; href=&quot;https://cdn.jsdelivr.net/npm/leaflet@1.9.3/dist/leaflet.css&quot;/&gt;\n",
       "    &lt;link rel=&quot;stylesheet&quot; href=&quot;https://cdn.jsdelivr.net/npm/bootstrap@5.2.2/dist/css/bootstrap.min.css&quot;/&gt;\n",
       "    &lt;link rel=&quot;stylesheet&quot; href=&quot;https://netdna.bootstrapcdn.com/bootstrap/3.0.0/css/bootstrap-glyphicons.css&quot;/&gt;\n",
       "    &lt;link rel=&quot;stylesheet&quot; href=&quot;https://cdn.jsdelivr.net/npm/@fortawesome/fontawesome-free@6.2.0/css/all.min.css&quot;/&gt;\n",
       "    &lt;link rel=&quot;stylesheet&quot; href=&quot;https://cdnjs.cloudflare.com/ajax/libs/Leaflet.awesome-markers/2.0.2/leaflet.awesome-markers.css&quot;/&gt;\n",
       "    &lt;link rel=&quot;stylesheet&quot; href=&quot;https://cdn.jsdelivr.net/gh/python-visualization/folium/folium/templates/leaflet.awesome.rotate.min.css&quot;/&gt;\n",
       "    \n",
       "            &lt;meta name=&quot;viewport&quot; content=&quot;width=device-width,\n",
       "                initial-scale=1.0, maximum-scale=1.0, user-scalable=no&quot; /&gt;\n",
       "            &lt;style&gt;\n",
       "                #map_a8e9d1743339aa8f9546c734b1e3eeb7 {\n",
       "                    position: relative;\n",
       "                    width: 100.0%;\n",
       "                    height: 100.0%;\n",
       "                    left: 0.0%;\n",
       "                    top: 0.0%;\n",
       "                }\n",
       "                .leaflet-container { font-size: 1rem; }\n",
       "            &lt;/style&gt;\n",
       "        \n",
       "    &lt;script src=&quot;https://cdnjs.cloudflare.com/ajax/libs/leaflet.markercluster/1.1.0/leaflet.markercluster.js&quot;&gt;&lt;/script&gt;\n",
       "    &lt;link rel=&quot;stylesheet&quot; href=&quot;https://cdnjs.cloudflare.com/ajax/libs/leaflet.markercluster/1.1.0/MarkerCluster.css&quot;/&gt;\n",
       "    &lt;link rel=&quot;stylesheet&quot; href=&quot;https://cdnjs.cloudflare.com/ajax/libs/leaflet.markercluster/1.1.0/MarkerCluster.Default.css&quot;/&gt;\n",
       "&lt;/head&gt;\n",
       "&lt;body&gt;\n",
       "    \n",
       "    \n",
       "            &lt;div class=&quot;folium-map&quot; id=&quot;map_a8e9d1743339aa8f9546c734b1e3eeb7&quot; &gt;&lt;/div&gt;\n",
       "        \n",
       "&lt;/body&gt;\n",
       "&lt;script&gt;\n",
       "    \n",
       "    \n",
       "            var map_a8e9d1743339aa8f9546c734b1e3eeb7 = L.map(\n",
       "                &quot;map_a8e9d1743339aa8f9546c734b1e3eeb7&quot;,\n",
       "                {\n",
       "                    center: [48.8894065, 1.9390583],\n",
       "                    crs: L.CRS.EPSG3857,\n",
       "                    zoom: 10,\n",
       "                    zoomControl: true,\n",
       "                    preferCanvas: false,\n",
       "                }\n",
       "            );\n",
       "\n",
       "            \n",
       "\n",
       "        \n",
       "    \n",
       "            var tile_layer_cdfa039f6427b2a054f07cb0a34b4bc9 = L.tileLayer(\n",
       "                &quot;https://tile.openstreetmap.org/{z}/{x}/{y}.png&quot;,\n",
       "                {&quot;attribution&quot;: &quot;\\u0026copy; \\u003ca href=\\&quot;https://www.openstreetmap.org/copyright\\&quot;\\u003eOpenStreetMap\\u003c/a\\u003e contributors&quot;, &quot;detectRetina&quot;: false, &quot;maxNativeZoom&quot;: 19, &quot;maxZoom&quot;: 19, &quot;minZoom&quot;: 0, &quot;noWrap&quot;: false, &quot;opacity&quot;: 1, &quot;subdomains&quot;: &quot;abc&quot;, &quot;tms&quot;: false}\n",
       "            );\n",
       "        \n",
       "    \n",
       "            tile_layer_cdfa039f6427b2a054f07cb0a34b4bc9.addTo(map_a8e9d1743339aa8f9546c734b1e3eeb7);\n",
       "        \n",
       "    \n",
       "            var poly_line_2cbcbb3bff895d6d39d5f4f5df489f93 = L.polyline(\n",
       "                [[48.928343831839136, 1.8266460206188384], [48.928343831839136, 2.0514705793811614], [48.85046916816086, 2.0514705793811614], [48.85046916816086, 1.8266460206188384], [48.928343831839136, 1.8266460206188384]],\n",
       "                {&quot;bubblingMouseEvents&quot;: true, &quot;color&quot;: &quot;#3388ff&quot;, &quot;dashArray&quot;: null, &quot;dashOffset&quot;: null, &quot;fill&quot;: false, &quot;fillColor&quot;: &quot;#3388ff&quot;, &quot;fillOpacity&quot;: 0.2, &quot;fillRule&quot;: &quot;evenodd&quot;, &quot;lineCap&quot;: &quot;round&quot;, &quot;lineJoin&quot;: &quot;round&quot;, &quot;noClip&quot;: false, &quot;opacity&quot;: 1.0, &quot;smoothFactor&quot;: 1.0, &quot;stroke&quot;: true, &quot;weight&quot;: 3}\n",
       "            ).addTo(map_a8e9d1743339aa8f9546c734b1e3eeb7);\n",
       "        \n",
       "    \n",
       "            var fast_marker_cluster_ad3ce1c711fbaafa4d1fe6555d304244 = (function(){\n",
       "                \n",
       "                var callback = function (row) {\n",
       "                    var icon = L.AwesomeMarkers.icon();\n",
       "                    var marker = L.marker(new L.LatLng(row[0], row[1]));\n",
       "                    marker.setIcon(icon);\n",
       "                    return marker;\n",
       "                };\n",
       "\n",
       "                var data = [[48.85046916816086, 1.8266460206188384], [48.85825663452869, 1.8266460206188384], [48.86604410089652, 1.8266460206188384], [48.87383156726435, 1.8266460206188384], [48.88161903363217, 1.8266460206188384], [48.8894065, 1.8266460206188384], [48.89719396636782, 1.8266460206188384], [48.90498143273565, 1.8266460206188384], [48.91276889910348, 1.8266460206188384], [48.920556365471306, 1.8266460206188384], [48.928343831839136, 1.8266460206188384], [48.85436290134478, 1.8368653187443988], [48.8621503677126, 1.8368653187443988], [48.86993783408043, 1.8368653187443988], [48.877725300448255, 1.8368653187443988], [48.885512766816085, 1.8368653187443988], [48.89330023318391, 1.8368653187443988], [48.90108769955174, 1.8368653187443988], [48.90887516591956, 1.8368653187443988], [48.91666263228739, 1.8368653187443988], [48.92445009865522, 1.8368653187443988], [48.85046916816086, 1.8470846168699588], [48.85825663452869, 1.8470846168699588], [48.86604410089652, 1.8470846168699588], [48.87383156726435, 1.8470846168699588], [48.88161903363217, 1.8470846168699588], [48.8894065, 1.8470846168699588], [48.89719396636782, 1.8470846168699588], [48.90498143273565, 1.8470846168699588], [48.91276889910348, 1.8470846168699588], [48.920556365471306, 1.8470846168699588], [48.928343831839136, 1.8470846168699588], [48.85436290134478, 1.857303914995519], [48.8621503677126, 1.857303914995519], [48.86993783408043, 1.857303914995519], [48.877725300448255, 1.857303914995519], [48.885512766816085, 1.857303914995519], [48.89330023318391, 1.857303914995519], [48.90108769955174, 1.857303914995519], [48.90887516591956, 1.857303914995519], [48.91666263228739, 1.857303914995519], [48.92445009865522, 1.857303914995519], [48.85046916816086, 1.867523213121079], [48.85825663452869, 1.867523213121079], [48.86604410089652, 1.867523213121079], [48.87383156726435, 1.867523213121079], [48.88161903363217, 1.867523213121079], [48.8894065, 1.867523213121079], [48.89719396636782, 1.867523213121079], [48.90498143273565, 1.867523213121079], [48.91276889910348, 1.867523213121079], [48.920556365471306, 1.867523213121079], [48.928343831839136, 1.867523213121079], [48.85436290134478, 1.8777425112466395], [48.8621503677126, 1.8777425112466395], [48.86993783408043, 1.8777425112466395], [48.877725300448255, 1.8777425112466395], [48.885512766816085, 1.8777425112466395], [48.89330023318391, 1.8777425112466395], [48.90108769955174, 1.8777425112466395], [48.90887516591956, 1.8777425112466395], [48.91666263228739, 1.8777425112466395], [48.92445009865522, 1.8777425112466395], [48.85046916816086, 1.8879618093722], [48.85825663452869, 1.8879618093722], [48.86604410089652, 1.8879618093722], [48.87383156726435, 1.8879618093722], [48.88161903363217, 1.8879618093722], [48.8894065, 1.8879618093722], [48.89719396636782, 1.8879618093722], [48.90498143273565, 1.8879618093722], [48.91276889910348, 1.8879618093722], [48.920556365471306, 1.8879618093722], [48.928343831839136, 1.8879618093722], [48.85436290134478, 1.89818110749776], [48.8621503677126, 1.89818110749776], [48.86993783408043, 1.89818110749776], [48.877725300448255, 1.89818110749776], [48.885512766816085, 1.89818110749776], [48.89330023318391, 1.89818110749776], [48.90108769955174, 1.89818110749776], [48.90887516591956, 1.89818110749776], [48.91666263228739, 1.89818110749776], [48.92445009865522, 1.89818110749776], [48.85046916816086, 1.90840040562332], [48.85825663452869, 1.90840040562332], [48.86604410089652, 1.90840040562332], [48.87383156726435, 1.90840040562332], [48.88161903363217, 1.90840040562332], [48.8894065, 1.90840040562332], [48.89719396636782, 1.90840040562332], [48.90498143273565, 1.90840040562332], [48.91276889910348, 1.90840040562332], [48.920556365471306, 1.90840040562332], [48.928343831839136, 1.90840040562332], [48.85436290134478, 1.91861970374888], [48.8621503677126, 1.91861970374888], [48.86993783408043, 1.91861970374888], [48.877725300448255, 1.91861970374888], [48.885512766816085, 1.91861970374888], [48.89330023318391, 1.91861970374888], [48.90108769955174, 1.91861970374888], [48.90887516591956, 1.91861970374888], [48.91666263228739, 1.91861970374888], [48.92445009865522, 1.91861970374888], [48.85046916816086, 1.92883900187444], [48.85825663452869, 1.92883900187444], [48.86604410089652, 1.92883900187444], [48.87383156726435, 1.92883900187444], [48.88161903363217, 1.92883900187444], [48.8894065, 1.92883900187444], [48.89719396636782, 1.92883900187444], [48.90498143273565, 1.92883900187444], [48.91276889910348, 1.92883900187444], [48.920556365471306, 1.92883900187444], [48.928343831839136, 1.92883900187444], [48.85436290134478, 1.9390583], [48.8621503677126, 1.9390583], [48.86993783408043, 1.9390583], [48.877725300448255, 1.9390583], [48.885512766816085, 1.9390583], [48.89330023318391, 1.9390583], [48.90108769955174, 1.9390583], [48.90887516591956, 1.9390583], [48.91666263228739, 1.9390583], [48.92445009865522, 1.9390583], [48.85046916816086, 1.94927759812556], [48.85825663452869, 1.94927759812556], [48.86604410089652, 1.94927759812556], [48.87383156726435, 1.94927759812556], [48.88161903363217, 1.94927759812556], [48.8894065, 1.94927759812556], [48.89719396636782, 1.94927759812556], [48.90498143273565, 1.94927759812556], [48.91276889910348, 1.94927759812556], [48.920556365471306, 1.94927759812556], [48.928343831839136, 1.94927759812556], [48.85436290134478, 1.9594968962511203], [48.8621503677126, 1.9594968962511203], [48.86993783408043, 1.9594968962511203], [48.877725300448255, 1.9594968962511203], [48.885512766816085, 1.9594968962511203], [48.89330023318391, 1.9594968962511203], [48.90108769955174, 1.9594968962511203], [48.90887516591956, 1.9594968962511203], [48.91666263228739, 1.9594968962511203], [48.92445009865522, 1.9594968962511203], [48.85046916816086, 1.9697161943766808], [48.85825663452869, 1.9697161943766808], [48.86604410089652, 1.9697161943766808], [48.87383156726435, 1.9697161943766808], [48.88161903363217, 1.9697161943766808], [48.8894065, 1.9697161943766808], [48.89719396636782, 1.9697161943766808], [48.90498143273565, 1.9697161943766808], [48.91276889910348, 1.9697161943766808], [48.920556365471306, 1.9697161943766808], [48.928343831839136, 1.9697161943766808], [48.85436290134478, 1.9799354925022403], [48.8621503677126, 1.9799354925022403], [48.86993783408043, 1.9799354925022403], [48.877725300448255, 1.9799354925022403], [48.885512766816085, 1.9799354925022403], [48.89330023318391, 1.9799354925022403], [48.90108769955174, 1.9799354925022403], [48.90887516591956, 1.9799354925022403], [48.91666263228739, 1.9799354925022403], [48.92445009865522, 1.9799354925022403], [48.85046916816086, 1.9901547906278008], [48.85825663452869, 1.9901547906278008], [48.86604410089652, 1.9901547906278008], [48.87383156726435, 1.9901547906278008], [48.88161903363217, 1.9901547906278008], [48.8894065, 1.9901547906278008], [48.89719396636782, 1.9901547906278008], [48.90498143273565, 1.9901547906278008], [48.91276889910348, 1.9901547906278008], [48.920556365471306, 1.9901547906278008], [48.928343831839136, 1.9901547906278008], [48.85436290134478, 2.000374088753361], [48.8621503677126, 2.000374088753361], [48.86993783408043, 2.000374088753361], [48.877725300448255, 2.000374088753361], [48.885512766816085, 2.000374088753361], [48.89330023318391, 2.000374088753361], [48.90108769955174, 2.000374088753361], [48.90887516591956, 2.000374088753361], [48.91666263228739, 2.000374088753361], [48.92445009865522, 2.000374088753361], [48.85046916816086, 2.010593386878921], [48.85825663452869, 2.010593386878921], [48.86604410089652, 2.010593386878921], [48.87383156726435, 2.010593386878921], [48.88161903363217, 2.010593386878921], [48.8894065, 2.010593386878921], [48.89719396636782, 2.010593386878921], [48.90498143273565, 2.010593386878921], [48.91276889910348, 2.010593386878921], [48.920556365471306, 2.010593386878921], [48.928343831839136, 2.010593386878921], [48.85436290134478, 2.020812685004481], [48.8621503677126, 2.020812685004481], [48.86993783408043, 2.020812685004481], [48.877725300448255, 2.020812685004481], [48.885512766816085, 2.020812685004481], [48.89330023318391, 2.020812685004481], [48.90108769955174, 2.020812685004481], [48.90887516591956, 2.020812685004481], [48.91666263228739, 2.020812685004481], [48.92445009865522, 2.020812685004481], [48.85046916816086, 2.0310319831300414], [48.85825663452869, 2.0310319831300414], [48.86604410089652, 2.0310319831300414], [48.87383156726435, 2.0310319831300414], [48.88161903363217, 2.0310319831300414], [48.8894065, 2.0310319831300414], [48.89719396636782, 2.0310319831300414], [48.90498143273565, 2.0310319831300414], [48.91276889910348, 2.0310319831300414], [48.920556365471306, 2.0310319831300414], [48.928343831839136, 2.0310319831300414], [48.85436290134478, 2.0412512812556014], [48.8621503677126, 2.0412512812556014], [48.86993783408043, 2.0412512812556014], [48.877725300448255, 2.0412512812556014], [48.885512766816085, 2.0412512812556014], [48.89330023318391, 2.0412512812556014], [48.90108769955174, 2.0412512812556014], [48.90887516591956, 2.0412512812556014], [48.91666263228739, 2.0412512812556014], [48.92445009865522, 2.0412512812556014], [48.85046916816086, 2.0514705793811614], [48.85825663452869, 2.0514705793811614], [48.86604410089652, 2.0514705793811614], [48.87383156726435, 2.0514705793811614], [48.88161903363217, 2.0514705793811614], [48.8894065, 2.0514705793811614], [48.89719396636782, 2.0514705793811614], [48.90498143273565, 2.0514705793811614], [48.91276889910348, 2.0514705793811614], [48.920556365471306, 2.0514705793811614], [48.928343831839136, 2.0514705793811614], [48.856818, 1.849066], [48.880286, 1.827983], [48.911062, 1.854852], [48.917869, 1.850963], [48.856925, 1.849411], [48.880332, 1.828064], [48.882023, 1.860209], [48.882063, 1.860154], [48.912613, 1.853358], [48.857032, 1.849756], [48.863113, 1.87161], [48.886742, 1.862261], [48.90914, 1.857009], [48.911008, 1.855768], [48.925942, 1.86573], [48.852561, 1.877154], [48.856069, 1.876234], [48.881983, 1.860265], [48.88676, 1.862329], [48.896847, 1.868547], [48.908516, 1.868006], [48.91217, 1.86734], [48.917556, 1.869106], [48.924775, 1.868813], [48.852382, 1.877226], [48.861073, 1.873699], [48.873377, 1.880401], [48.894169, 1.874456], [48.893973, 1.874652], [48.906823, 1.884961], [48.906822, 1.876298], [48.920937, 1.87572], [48.92299, 1.872598], [48.873549, 1.88056], [48.892118, 1.881143], [48.895054, 1.869118], [48.906951, 1.886241], [48.853466, 1.899051], [48.884016, 1.920497], [48.906887, 1.885601], [48.913671, 1.912841], [48.855987, 1.905247], [48.858611, 1.907884], [48.912201, 1.918289], [48.91374, 1.914027], [48.86589, 1.948397], [48.89344, 1.924353], [48.911979, 1.918676], [48.913811, 1.919306], [48.926249, 1.94356], [48.886376, 1.923872], [48.913255, 1.922579], [48.926061, 1.946717], [48.855746, 1.97657], [48.877468, 1.944686], [48.877437, 1.94468], [48.916913, 1.970291], [48.91799, 1.966926], [48.867534, 1.970943], [48.874179, 1.97389], [48.874426, 1.974349], [48.882341, 1.981802], [48.923631, 1.96298], [48.917982, 1.967063], [48.923888, 1.974029], [48.853765, 1.983655], [48.865687, 1.976838], [48.877137, 1.979027], [48.918614, 1.984122], [48.924341, 1.975439], [48.852997, 1.986396], [48.85346, 1.992207], [48.882037, 1.981556], [48.918549, 1.989186], [48.918482, 1.988696], [48.92629, 1.946194], [48.855423, 1.995767], [48.869075, 2.008633], [48.871228, 2.008974], [48.907278, 2.022544], [48.911448, 2.008017], [48.916286, 1.994988], [48.923207, 1.995592], [48.852997, 2.018731], [48.857926, 2.012218], [48.85272, 2.042362], [48.915563, 2.009644], [48.918916, 2.012801], [48.925297, 2.003549], [48.856042, 2.019457], [48.85993, 2.02087], [48.869063, 2.016976], [48.9028, 2.031537], [48.901149, 2.024235], [48.922151, 2.02451], [48.853393, 2.034336], [48.855005, 2.022326], [48.864182, 2.030496], [48.903123, 2.031462], [48.911912, 2.036183], [48.920496, 2.031084], [48.926116, 2.036589], [48.902673, 2.050419], [48.901603, 2.048222], [48.908638, 2.042854], [48.917496, 2.039485], [48.922236, 2.037207], [48.867096, 2.0513], [48.902693, 2.050705], [48.914708, 2.022691], [48.925025, 2.050953], [48.925691, 2.050347], [48.85825663452869, 1.8266460206188384], [48.86604410089652, 1.8266460206188384], [48.87383156726435, 1.8266460206188384], [48.88161903363217, 1.8266460206188384], [48.8894065, 1.8266460206188384], [48.89719396636782, 1.8266460206188384], [48.90498143273565, 1.8266460206188384], [48.91276889910348, 1.8266460206188384], [48.920556365471306, 1.8266460206188384], [48.928343831839136, 1.8266460206188384], [48.85436290134478, 1.8368653187443988], [48.8621503677126, 1.8368653187443988], [48.86993783408043, 1.8368653187443988], [48.877725300448255, 1.8368653187443988], [48.885512766816085, 1.8368653187443988], [48.89330023318391, 1.8368653187443988], [48.90108769955174, 1.8368653187443988], [48.90887516591956, 1.8368653187443988], [48.91666263228739, 1.8368653187443988], [48.92445009865522, 1.8368653187443988], [48.85046916816086, 1.8470846168699588], [48.85825663452869, 1.8470846168699588], [48.86604410089652, 1.8470846168699588], [48.87383156726435, 1.8470846168699588], [48.88161903363217, 1.8470846168699588], [48.8894065, 1.8470846168699588], [48.89719396636782, 1.8470846168699588], [48.90498143273565, 1.8470846168699588], [48.91276889910348, 1.8470846168699588], [48.920556365471306, 1.8470846168699588], [48.928343831839136, 1.8470846168699588], [48.85436290134478, 1.857303914995519], [48.8621503677126, 1.857303914995519], [48.86993783408043, 1.857303914995519], [48.877725300448255, 1.857303914995519], [48.885512766816085, 1.857303914995519], [48.89330023318391, 1.857303914995519], [48.90108769955174, 1.857303914995519], [48.90887516591956, 1.857303914995519], [48.91666263228739, 1.857303914995519], [48.92445009865522, 1.857303914995519], [48.85046916816086, 1.867523213121079], [48.85825663452869, 1.867523213121079], [48.86604410089652, 1.867523213121079], [48.87383156726435, 1.867523213121079], [48.88161903363217, 1.867523213121079], [48.8894065, 1.867523213121079], [48.89719396636782, 1.867523213121079], [48.90498143273565, 1.867523213121079], [48.91276889910348, 1.867523213121079], [48.920556365471306, 1.867523213121079], [48.928343831839136, 1.867523213121079], [48.85436290134478, 1.8777425112466395], [48.8621503677126, 1.8777425112466395], [48.86993783408043, 1.8777425112466395], [48.877725300448255, 1.8777425112466395], [48.885512766816085, 1.8777425112466395], [48.89330023318391, 1.8777425112466395], [48.90108769955174, 1.8777425112466395], [48.90887516591956, 1.8777425112466395], [48.91666263228739, 1.8777425112466395], [48.92445009865522, 1.8777425112466395], [48.85046916816086, 1.8879618093722], [48.85825663452869, 1.8879618093722], [48.86604410089652, 1.8879618093722], [48.87383156726435, 1.8879618093722], [48.88161903363217, 1.8879618093722], [48.8894065, 1.8879618093722], [48.89719396636782, 1.8879618093722], [48.90498143273565, 1.8879618093722], [48.91276889910348, 1.8879618093722], [48.920556365471306, 1.8879618093722], [48.928343831839136, 1.8879618093722], [48.85436290134478, 1.89818110749776], [48.8621503677126, 1.89818110749776], [48.86993783408043, 1.89818110749776], [48.877725300448255, 1.89818110749776], [48.885512766816085, 1.89818110749776], [48.89330023318391, 1.89818110749776], [48.90108769955174, 1.89818110749776], [48.90887516591956, 1.89818110749776], [48.91666263228739, 1.89818110749776], [48.92445009865522, 1.89818110749776], [48.85046916816086, 1.90840040562332], [48.85825663452869, 1.90840040562332], [48.86604410089652, 1.90840040562332], [48.87383156726435, 1.90840040562332], [48.88161903363217, 1.90840040562332], [48.8894065, 1.90840040562332], [48.89719396636782, 1.90840040562332], [48.90498143273565, 1.90840040562332], [48.91276889910348, 1.90840040562332], [48.920556365471306, 1.90840040562332], [48.928343831839136, 1.90840040562332], [48.85436290134478, 1.91861970374888], [48.8621503677126, 1.91861970374888], [48.86993783408043, 1.91861970374888], [48.877725300448255, 1.91861970374888], [48.885512766816085, 1.91861970374888], [48.89330023318391, 1.91861970374888], [48.90108769955174, 1.91861970374888], [48.90887516591956, 1.91861970374888], [48.91666263228739, 1.91861970374888], [48.92445009865522, 1.91861970374888], [48.85046916816086, 1.92883900187444], [48.85825663452869, 1.92883900187444], [48.86604410089652, 1.92883900187444], [48.87383156726435, 1.92883900187444], [48.88161903363217, 1.92883900187444], [48.8894065, 1.92883900187444], [48.89719396636782, 1.92883900187444], [48.90498143273565, 1.92883900187444], [48.91276889910348, 1.92883900187444], [48.920556365471306, 1.92883900187444], [48.928343831839136, 1.92883900187444], [48.85436290134478, 1.9390583], [48.8621503677126, 1.9390583], [48.86993783408043, 1.9390583], [48.877725300448255, 1.9390583], [48.885512766816085, 1.9390583], [48.89330023318391, 1.9390583], [48.90108769955174, 1.9390583], [48.90887516591956, 1.9390583], [48.91666263228739, 1.9390583], [48.92445009865522, 1.9390583], [48.85046916816086, 1.94927759812556], [48.85825663452869, 1.94927759812556], [48.86604410089652, 1.94927759812556], [48.87383156726435, 1.94927759812556], [48.88161903363217, 1.94927759812556], [48.8894065, 1.94927759812556], [48.89719396636782, 1.94927759812556], [48.90498143273565, 1.94927759812556], [48.91276889910348, 1.94927759812556], [48.920556365471306, 1.94927759812556], [48.928343831839136, 1.94927759812556], [48.85436290134478, 1.9594968962511203], [48.8621503677126, 1.9594968962511203], [48.86993783408043, 1.9594968962511203], [48.877725300448255, 1.9594968962511203], [48.885512766816085, 1.9594968962511203], [48.89330023318391, 1.9594968962511203], [48.90108769955174, 1.9594968962511203], [48.90887516591956, 1.9594968962511203], [48.91666263228739, 1.9594968962511203], [48.92445009865522, 1.9594968962511203], [48.85046916816086, 1.9697161943766808], [48.85825663452869, 1.9697161943766808], [48.86604410089652, 1.9697161943766808], [48.87383156726435, 1.9697161943766808], [48.88161903363217, 1.9697161943766808], [48.8894065, 1.9697161943766808], [48.89719396636782, 1.9697161943766808], [48.90498143273565, 1.9697161943766808], [48.91276889910348, 1.9697161943766808], [48.920556365471306, 1.9697161943766808], [48.928343831839136, 1.9697161943766808], [48.85436290134478, 1.9799354925022403], [48.8621503677126, 1.9799354925022403], [48.86993783408043, 1.9799354925022403], [48.877725300448255, 1.9799354925022403], [48.885512766816085, 1.9799354925022403], [48.89330023318391, 1.9799354925022403], [48.90108769955174, 1.9799354925022403], [48.90887516591956, 1.9799354925022403], [48.91666263228739, 1.9799354925022403], [48.92445009865522, 1.9799354925022403], [48.85046916816086, 1.9901547906278008], [48.85825663452869, 1.9901547906278008], [48.86604410089652, 1.9901547906278008], [48.87383156726435, 1.9901547906278008], [48.88161903363217, 1.9901547906278008], [48.8894065, 1.9901547906278008], [48.89719396636782, 1.9901547906278008], [48.90498143273565, 1.9901547906278008], [48.91276889910348, 1.9901547906278008], [48.920556365471306, 1.9901547906278008], [48.928343831839136, 1.9901547906278008], [48.85436290134478, 2.000374088753361], [48.8621503677126, 2.000374088753361], [48.86993783408043, 2.000374088753361], [48.877725300448255, 2.000374088753361], [48.885512766816085, 2.000374088753361], [48.89330023318391, 2.000374088753361], [48.90108769955174, 2.000374088753361], [48.90887516591956, 2.000374088753361], [48.91666263228739, 2.000374088753361], [48.92445009865522, 2.000374088753361], [48.85046916816086, 2.010593386878921], [48.85825663452869, 2.010593386878921], [48.86604410089652, 2.010593386878921], [48.87383156726435, 2.010593386878921], [48.88161903363217, 2.010593386878921], [48.8894065, 2.010593386878921], [48.89719396636782, 2.010593386878921], [48.90498143273565, 2.010593386878921], [48.91276889910348, 2.010593386878921], [48.920556365471306, 2.010593386878921], [48.928343831839136, 2.010593386878921], [48.85436290134478, 2.020812685004481], [48.8621503677126, 2.020812685004481], [48.86993783408043, 2.020812685004481], [48.877725300448255, 2.020812685004481], [48.885512766816085, 2.020812685004481], [48.89330023318391, 2.020812685004481], [48.90108769955174, 2.020812685004481], [48.90887516591956, 2.020812685004481], [48.91666263228739, 2.020812685004481], [48.92445009865522, 2.020812685004481], [48.85046916816086, 2.0310319831300414], [48.85825663452869, 2.0310319831300414], [48.86604410089652, 2.0310319831300414], [48.87383156726435, 2.0310319831300414], [48.88161903363217, 2.0310319831300414], [48.8894065, 2.0310319831300414], [48.89719396636782, 2.0310319831300414], [48.90498143273565, 2.0310319831300414], [48.91276889910348, 2.0310319831300414], [48.920556365471306, 2.0310319831300414], [48.928343831839136, 2.0310319831300414], [48.85436290134478, 2.0412512812556014], [48.8621503677126, 2.0412512812556014], [48.86993783408043, 2.0412512812556014], [48.877725300448255, 2.0412512812556014], [48.885512766816085, 2.0412512812556014], [48.89330023318391, 2.0412512812556014], [48.90108769955174, 2.0412512812556014], [48.90887516591956, 2.0412512812556014], [48.91666263228739, 2.0412512812556014], [48.92445009865522, 2.0412512812556014], [48.85046916816086, 2.0514705793811614], [48.85825663452869, 2.0514705793811614], [48.86604410089652, 2.0514705793811614], [48.87383156726435, 2.0514705793811614], [48.88161903363217, 2.0514705793811614], [48.8894065, 2.0514705793811614], [48.89719396636782, 2.0514705793811614], [48.90498143273565, 2.0514705793811614], [48.91276889910348, 2.0514705793811614], [48.920556365471306, 2.0514705793811614], [48.928343831839136, 2.0514705793811614], [48.85046916816086, 1.8266460206188384], [48.856818, 1.849066], [48.880286, 1.827983], [48.911062, 1.854852], [48.917869, 1.850963], [48.856925, 1.849411], [48.880332, 1.828064], [48.882023, 1.860209], [48.882063, 1.860154], [48.912613, 1.853358], [48.857032, 1.849756], [48.863113, 1.87161], [48.886742, 1.862261], [48.90914, 1.857009], [48.911008, 1.855768], [48.925942, 1.86573], [48.852561, 1.877154], [48.856069, 1.876234], [48.881983, 1.860265], [48.88676, 1.862329], [48.896847, 1.868547], [48.908516, 1.868006], [48.91217, 1.86734], [48.917556, 1.869106], [48.924775, 1.868813], [48.852382, 1.877226], [48.861073, 1.873699], [48.873377, 1.880401], [48.894169, 1.874456], [48.893973, 1.874652], [48.906823, 1.884961], [48.906822, 1.876298], [48.920937, 1.87572], [48.92299, 1.872598], [48.873549, 1.88056], [48.892118, 1.881143], [48.895054, 1.869118], [48.906951, 1.886241], [48.853466, 1.899051], [48.884016, 1.920497], [48.906887, 1.885601], [48.913671, 1.912841], [48.855987, 1.905247], [48.858611, 1.907884], [48.912201, 1.918289], [48.91374, 1.914027], [48.86589, 1.948397], [48.89344, 1.924353], [48.911979, 1.918676], [48.913811, 1.919306], [48.926249, 1.94356], [48.886376, 1.923872], [48.913255, 1.922579], [48.926061, 1.946717], [48.855746, 1.97657], [48.877468, 1.944686], [48.877437, 1.94468], [48.916913, 1.970291], [48.91799, 1.966926], [48.867534, 1.970943], [48.874179, 1.97389], [48.874426, 1.974349], [48.882341, 1.981802], [48.923631, 1.96298], [48.917982, 1.967063], [48.923888, 1.974029], [48.853765, 1.983655], [48.865687, 1.976838], [48.877137, 1.979027], [48.918614, 1.984122], [48.924341, 1.975439], [48.852997, 1.986396], [48.85346, 1.992207], [48.882037, 1.981556], [48.918549, 1.989186], [48.918482, 1.988696], [48.92629, 1.946194], [48.855423, 1.995767], [48.869075, 2.008633], [48.871228, 2.008974], [48.907278, 2.022544], [48.911448, 2.008017], [48.916286, 1.994988], [48.923207, 1.995592], [48.852997, 2.018731], [48.857926, 2.012218], [48.85272, 2.042362], [48.915563, 2.009644], [48.918916, 2.012801], [48.925297, 2.003549], [48.856042, 2.019457], [48.85993, 2.02087], [48.869063, 2.016976], [48.9028, 2.031537], [48.901149, 2.024235], [48.922151, 2.02451], [48.853393, 2.034336], [48.855005, 2.022326], [48.864182, 2.030496], [48.903123, 2.031462], [48.911912, 2.036183], [48.920496, 2.031084], [48.926116, 2.036589], [48.902673, 2.050419], [48.901603, 2.048222], [48.908638, 2.042854], [48.917496, 2.039485], [48.922236, 2.037207], [48.867096, 2.0513], [48.902693, 2.050705], [48.914708, 2.022691], [48.925025, 2.050953], [48.925691, 2.050347]];\n",
       "                var cluster = L.markerClusterGroup({});\n",
       "\n",
       "                for (var i = 0; i &lt; data.length; i++) {\n",
       "                    var row = data[i];\n",
       "                    var marker = callback(row);\n",
       "                    marker.addTo(cluster);\n",
       "                }\n",
       "\n",
       "                cluster.addTo(map_a8e9d1743339aa8f9546c734b1e3eeb7);\n",
       "                return cluster;\n",
       "            })();\n",
       "        \n",
       "    \n",
       "            fast_marker_cluster_ad3ce1c711fbaafa4d1fe6555d304244.addTo(map_a8e9d1743339aa8f9546c734b1e3eeb7);\n",
       "        \n",
       "&lt;/script&gt;\n",
       "&lt;/html&gt;\" style=\"position:absolute;width:100%;height:100%;left:0;top:0;border:none !important;\" allowfullscreen webkitallowfullscreen mozallowfullscreen></iframe></div></div>"
      ],
      "text/plain": [
       "<folium.folium.Map at 0x7d4cae9f7a00>"
      ]
     },
     "execution_count": 10,
     "metadata": {},
     "output_type": "execute_result"
    }
   ],
   "source": [
    "\n",
    "display(HTML('<h1>All stops of the public transport present in the gtfs files</h1>'))\n",
    "bbox = libStopsPoints.boundingBoxStops(stopsList)\n",
    "libStopsPoints.mapStops(bbox, stopsList)"
   ]
  },
  {
   "cell_type": "markdown",
   "metadata": {
    "id": "FCVR0oNozr5k"
   },
   "source": [
    "## Tassel the box with exagons."
   ]
  },
  {
   "cell_type": "code",
   "execution_count": 11,
   "metadata": {
    "id": "NUjlzjLPzr5k",
    "outputId": "67ae651a-b252-44e1-a378-08c679d70d30"
   },
   "outputs": [
    {
     "name": "stdout",
     "output_type": "stream",
     "text": [
      "98.8%, tot = 250.0, inserted = 250\r"
     ]
    }
   ],
   "source": [
    "hexBin, pointBin = libHex.hexagonalGrid(bbox, gridEdge, gtfsDB['stops'], distanceS, city,check4stops)"
   ]
  },
  {
   "cell_type": "code",
   "execution_count": 12,
   "metadata": {
    "id": "NITMmHzOzr5k",
    "outputId": "deec0108-40fa-48e3-9cef-45745dc88aad"
   },
   "outputs": [],
   "source": [
    "\n",
    "libHex.insertPoints(pointBin, city, gtfsDB)\n"
   ]
  },
  {
   "cell_type": "markdown",
   "metadata": {
    "id": "E7XigURlzr5l"
   },
   "source": [
    "## Find the hex with walkingTime less than timeWalk from a stops"
   ]
  },
  {
   "cell_type": "code",
   "execution_count": 13,
   "metadata": {
    "id": "GZ0g-po6zr5l",
    "outputId": "ab6f2936-5435-44b4-87c8-e64c90cd40e0"
   },
   "outputs": [
    {
     "name": "stdout",
     "output_type": "stream",
     "text": [
      " tot 249,100%, removed 1  250\r"
     ]
    }
   ],
   "source": [
    "\n",
    "libHex.pointsServed(gtfsDB, stopsList, urlServerOsrm, distanceS, timeWalk, city)"
   ]
  },
  {
   "cell_type": "code",
   "execution_count": 14,
   "metadata": {
    "id": "w1YiO4q4zr5l",
    "outputId": "74ba0d15-acfa-4ffd-b758-aaf420bc7245"
   },
   "outputs": [
    {
     "name": "stdout",
     "output_type": "stream",
     "text": [
      "Number of hexagons: 249\n"
     ]
    }
   ],
   "source": [
    "print(\"Number of hexagons: {0}\".format(gtfsDB['points'].count_documents({'served':True, 'city':city})))"
   ]
  },
  {
   "cell_type": "markdown",
   "metadata": {
    "id": "Z1NcrBezzr5m"
   },
   "source": [
    "## Setting field \"pos\" for points for performance"
   ]
  },
  {
   "cell_type": "code",
   "execution_count": 15,
   "metadata": {
    "id": "7fRG4PSGzr5m",
    "outputId": "076184c9-3353-4a1a-d911-fbebdcc4a3bd"
   },
   "outputs": [
    {
     "name": "stdout",
     "output_type": "stream",
     "text": [
      " 249\r"
     ]
    }
   ],
   "source": [
    "from library import libHex \n",
    "libHex.settingHexsPos(gtfsDB, city)"
   ]
  },
  {
   "cell_type": "markdown",
   "metadata": {
    "id": "3h2oHbbnzr5p"
   },
   "source": [
    "## Setting Population of Hexagons"
   ]
  },
  {
   "cell_type": "code",
   "execution_count": 16,
   "metadata": {
    "id": "1a9yCDn_zr5q",
    "outputId": "8b762b78-6af5-4599-e64f-b6dcf1089d5c"
   },
   "outputs": [
    {
     "name": "stdout",
     "output_type": "stream",
     "text": [
      "100.0% , tot population: 246, current hex: 0\r"
     ]
    }
   ],
   "source": [
    "# from libHex import setHexsPop\n",
    "import library\n",
    "from library import libHex\n",
    "if urlMongoDbPop != \"\" and popCollectionName != \"\":\n",
    "    clientPop = pym.MongoClient(urlMongoDbPop)\n",
    "    popDb = clientPop[popDbName]\n",
    "    popCollection = popDb[popCollectionName]\n",
    "    libHex.setHexsPop(gtfsDB, popCollection, popField, city)\n",
    "else:\n",
    "    print(\"Population NOT INSERTED!\")\n",
    "\n"
   ]
  },
  {
   "cell_type": "markdown",
   "metadata": {
    "id": "XO_dWZLvzr5q"
   },
   "source": [
    "# Adding the walking time between stops and points"
   ]
  },
  {
   "cell_type": "code",
   "execution_count": 17,
   "metadata": {
    "id": "95vqT7Buzr5q",
    "outputId": "645e2480-c123-47ad-b454-d113633090bf"
   },
   "outputs": [
    {
     "name": "stdout",
     "output_type": "stream",
     "text": [
      " totNumber 952, computed 0.52%, time to finish : 0 min\r"
     ]
    },
    {
     "name": "stderr",
     "output_type": "stream",
     "text": [
      "/home/medourahou1/.local/lib/python3.10/site-packages/pymongo/collection.py:1697: UserWarning: use an explicit session with no_cursor_timeout=True otherwise the cursor may still timeout after 30 minutes, for more info see https://mongodb.com/docs/v4.4/reference/method/cursor.noCursorTimeout/#session-idle-timeout-overrides-nocursortimeout\n",
      "  return Cursor(self, *args, **kwargs)\n"
     ]
    },
    {
     "name": "stdout",
     "output_type": "stream",
     "text": [
      " totNumber 0, computed 100.00%, time to finish : 0 minn\r"
     ]
    }
   ],
   "source": [
    "from library import libStopsPoints \n",
    "libStopsPoints.computeNeigh(gtfsDB, urlServerOsrm, distanceS, timeWalk,  city)"
   ]
  },
  {
   "cell_type": "markdown",
   "metadata": {
    "id": "vv1nkp-Lzr5q"
   },
   "source": [
    "# Compute quantities and observable"
   ]
  },
  {
   "cell_type": "markdown",
   "metadata": {
    "id": "dv9tLyDyzr5q"
   },
   "source": [
    "TimeList is the list of starting time for computing the isochrones"
   ]
  },
  {
   "cell_type": "code",
   "execution_count": 18,
   "metadata": {
    "id": "THH-Cxyfzr5q"
   },
   "outputs": [],
   "source": [
    "timeList = [7,10,12,17,20]\n",
    "\n",
    "hStart = timeList[0]*3600"
   ]
  },
  {
   "cell_type": "markdown",
   "metadata": {
    "id": "UMrGUiwnzr5r"
   },
   "source": [
    "### List of connections"
   ]
  },
  {
   "cell_type": "code",
   "execution_count": 19,
   "metadata": {
    "id": "RgWsmHIqzr5r",
    "outputId": "2e443da6-6ca5-4091-b2dc-36c3d0a71e0c"
   },
   "outputs": [
    {
     "name": "stdout",
     "output_type": "stream",
     "text": [
      "start making connections array\n",
      "done recover all cc 294030\n",
      "converted\n",
      "Num of connection 294030\n",
      "start making connections array\n",
      "done recover all cc 294030\n",
      "converted\n",
      "Num of connection 294030\n"
     ]
    }
   ],
   "source": [
    "from library import libConnections \n",
    "# arrayCC = libConnections.makeArrayConnections(gtfsDB, hStart, city)\n",
    "arrayCC_day1 = libConnections.makeArrayConnections(gtfsDB, hStart, city, day='20241201')\n",
    "arrayCC_day2 = libConnections.makeArrayConnections(gtfsDB, hStart, city, day='20241202')"
   ]
  },
  {
   "cell_type": "code",
   "execution_count": null,
   "metadata": {},
   "outputs": [],
   "source": []
  },
  {
   "cell_type": "markdown",
   "metadata": {
    "id": "7tPZyO_gzr5r"
   },
   "source": [
    "### List of list of the points and stops neighbors"
   ]
  },
  {
   "cell_type": "code",
   "execution_count": 20,
   "metadata": {
    "id": "fwVH_Uyczr5r",
    "outputId": "72968333-cbe2-4c32-98e8-a422e7c779d7"
   },
   "outputs": [
    {
     "name": "stdout",
     "output_type": "stream",
     "text": [
      "fill point neighbors 248\r"
     ]
    }
   ],
   "source": [
    "from library import libStopsPoints \n",
    "arraySP = libStopsPoints.listPointsStopsN(gtfsDB, city)"
   ]
  },
  {
   "cell_type": "markdown",
   "metadata": {
    "id": "u0XewUWNzr5r"
   },
   "source": [
    "## Compute accessibility quantities"
   ]
  },
  {
   "cell_type": "code",
   "execution_count": null,
   "metadata": {
    "id": "ECkqtGVzzr5r",
    "outputId": "0630b6f6-eaf6-4fa6-a3f4-06cbb84a1a29",
    "scrolled": true
   },
   "outputs": [
    {
     "name": "stdout",
     "output_type": "stream",
     "text": [
      "Time Isochrone Start: 7.0\n"
     ]
    },
    {
     "name": "stderr",
     "output_type": "stream",
     "text": [
      "/home/medourahou1/.local/lib/python3.10/site-packages/pyproj/crs/crs.py:141: FutureWarning: '+init=<authority>:<code>' syntax is deprecated. '<authority>:<code>' is the preferred initialization method. When making the change, be mindful of axis order changes: https://pyproj4.github.io/pyproj/stable/gotchas.html#axis-order-changes-in-proj-6\n",
      "  in_crs_string = _prepare_from_proj_string(in_crs_string)\n",
      "/home/medourahou1/.local/lib/python3.10/site-packages/shapely/ops.py:276: FutureWarning: This function is deprecated. See: https://pyproj4.github.io/pyproj/stable/gotchas.html#upgrading-to-pyproj-2-from-pyproj-1\n",
      "  shell = type(geom.exterior)(zip(*func(*zip(*geom.exterior.coords))))\n",
      "/home/medourahou1/.local/lib/python3.10/site-packages/pymongo/collection.py:1697: UserWarning: use an explicit session with no_cursor_timeout=True otherwise the cursor may still timeout after 30 minutes, for more info see https://mongodb.com/docs/v4.4/reference/method/cursor.noCursorTimeout/#session-idle-timeout-overrides-nocursortimeout\n",
      "  return Cursor(self, *args, **kwargs)\n"
     ]
    },
    {
     "name": "stdout",
     "output_type": "stream",
     "text": [
      "point: 104, socialityScore30min_20241201: 221.7, time to finish: 0.0h, 13.8m\r"
     ]
    }
   ],
   "source": [
    "import imp\n",
    "from library import libAccessibility_version2, shortest_path_algo\n",
    "imp.reload(libAccessibility_version2)\n",
    "from library.shortest_path_algo import computeAccessibilities\n",
    "imp.reload(shortest_path_algo)\n",
    "\n",
    "listAccessibility = ['socialityScore30min']\n",
    "\n",
    "computeIsochrone = False\n",
    "if 'isochrones' in gtfsDB.list_collection_names():\n",
    "    #gtfsDB['isochrones'].delete_many({'city':city})\n",
    "    pass\n",
    "for timeStart in timeList:\n",
    "    timeStart *= 3600\n",
    "    hEnd  = timeStart+6600\n",
    "    print( 'Time Isochrone Start: {0}'.format(timeStart/3600,))\n",
    "#     computeAccessibilities(city, timeStart, arrayCC, arraySP, gtfsDB, computeIsochrone, timeStart/3600 == timeList[0], listAccessibility=listAccessibility)\n",
    "    \n",
    "    computeAccessibilities(\n",
    "    city, timeStart,hEnd, arrayCC_day1, arraySP, gtfsDB, \n",
    "    computeIsochrone, timeStart/3600 == timeList[0], \n",
    "    day='20241201', \n",
    "    max_travel_time=1800, #30min \n",
    "    listAccessibility=listAccessibility\n",
    ")\n",
    "\n",
    "    # For second day\n",
    "    computeAccessibilities(\n",
    "        city, timeStart,hEnd, arrayCC_day2, arraySP, gtfsDB,\n",
    "        computeIsochrone, timeStart/3600 == timeList[0],  # Use first=True for each day\n",
    "        day='20241202',\n",
    "        max_travel_time=1800, #30min \n",
    "        listAccessibility=listAccessibility\n",
    "    )"
   ]
  },
  {
   "cell_type": "code",
   "execution_count": 22,
   "metadata": {
    "scrolled": true
   },
   "outputs": [
    {
     "name": "stdout",
     "output_type": "stream",
     "text": [
      "Time Isochrone Start: 7.0\n"
     ]
    },
    {
     "name": "stderr",
     "output_type": "stream",
     "text": [
      "/home/medourahou1/.local/lib/python3.10/site-packages/pyproj/crs/crs.py:141: FutureWarning: '+init=<authority>:<code>' syntax is deprecated. '<authority>:<code>' is the preferred initialization method. When making the change, be mindful of axis order changes: https://pyproj4.github.io/pyproj/stable/gotchas.html#axis-order-changes-in-proj-6\n",
      "  in_crs_string = _prepare_from_proj_string(in_crs_string)\n",
      "/home/medourahou1/.local/lib/python3.10/site-packages/shapely/ops.py:276: FutureWarning: This function is deprecated. See: https://pyproj4.github.io/pyproj/stable/gotchas.html#upgrading-to-pyproj-2-from-pyproj-1\n",
      "  shell = type(geom.exterior)(zip(*func(*zip(*geom.exterior.coords))))\n",
      "/home/medourahou1/.local/lib/python3.10/site-packages/pymongo/collection.py:1697: UserWarning: use an explicit session with no_cursor_timeout=True otherwise the cursor may still timeout after 30 minutes, for more info see https://mongodb.com/docs/v4.4/reference/method/cursor.noCursorTimeout/#session-idle-timeout-overrides-nocursortimeout\n",
      "  return Cursor(self, *args, **kwargs)\n"
     ]
    },
    {
     "name": "stdout",
     "output_type": "stream",
     "text": [
      "point: 195, velocityScore1h_20241201: 4.4, time to finish: 0.0h, 0.0mmm\r"
     ]
    },
    {
     "name": "stderr",
     "output_type": "stream",
     "text": [
      "/home/medourahou1/.local/lib/python3.10/site-packages/pyproj/crs/crs.py:141: FutureWarning: '+init=<authority>:<code>' syntax is deprecated. '<authority>:<code>' is the preferred initialization method. When making the change, be mindful of axis order changes: https://pyproj4.github.io/pyproj/stable/gotchas.html#axis-order-changes-in-proj-6\n",
      "  in_crs_string = _prepare_from_proj_string(in_crs_string)\n",
      "/home/medourahou1/.local/lib/python3.10/site-packages/shapely/ops.py:276: FutureWarning: This function is deprecated. See: https://pyproj4.github.io/pyproj/stable/gotchas.html#upgrading-to-pyproj-2-from-pyproj-1\n",
      "  shell = type(geom.exterior)(zip(*func(*zip(*geom.exterior.coords))))\n",
      "/home/medourahou1/.local/lib/python3.10/site-packages/pymongo/collection.py:1697: UserWarning: use an explicit session with no_cursor_timeout=True otherwise the cursor may still timeout after 30 minutes, for more info see https://mongodb.com/docs/v4.4/reference/method/cursor.noCursorTimeout/#session-idle-timeout-overrides-nocursortimeout\n",
      "  return Cursor(self, *args, **kwargs)\n"
     ]
    },
    {
     "name": "stdout",
     "output_type": "stream",
     "text": [
      "Time Isochrone Start: 10.0h_20241202: 4.4, time to finish: 0.0h, 0.0mmm\n"
     ]
    },
    {
     "name": "stderr",
     "output_type": "stream",
     "text": [
      "/home/medourahou1/.local/lib/python3.10/site-packages/pyproj/crs/crs.py:141: FutureWarning: '+init=<authority>:<code>' syntax is deprecated. '<authority>:<code>' is the preferred initialization method. When making the change, be mindful of axis order changes: https://pyproj4.github.io/pyproj/stable/gotchas.html#axis-order-changes-in-proj-6\n",
      "  in_crs_string = _prepare_from_proj_string(in_crs_string)\n",
      "/home/medourahou1/.local/lib/python3.10/site-packages/shapely/ops.py:276: FutureWarning: This function is deprecated. See: https://pyproj4.github.io/pyproj/stable/gotchas.html#upgrading-to-pyproj-2-from-pyproj-1\n",
      "  shell = type(geom.exterior)(zip(*func(*zip(*geom.exterior.coords))))\n",
      "/home/medourahou1/.local/lib/python3.10/site-packages/pymongo/collection.py:1697: UserWarning: use an explicit session with no_cursor_timeout=True otherwise the cursor may still timeout after 30 minutes, for more info see https://mongodb.com/docs/v4.4/reference/method/cursor.noCursorTimeout/#session-idle-timeout-overrides-nocursortimeout\n",
      "  return Cursor(self, *args, **kwargs)\n"
     ]
    },
    {
     "name": "stdout",
     "output_type": "stream",
     "text": [
      "point: 195, velocityScore1h_20241201: 4.4, time to finish: 0.0h, 0.0mmm\r"
     ]
    },
    {
     "name": "stderr",
     "output_type": "stream",
     "text": [
      "/home/medourahou1/.local/lib/python3.10/site-packages/pyproj/crs/crs.py:141: FutureWarning: '+init=<authority>:<code>' syntax is deprecated. '<authority>:<code>' is the preferred initialization method. When making the change, be mindful of axis order changes: https://pyproj4.github.io/pyproj/stable/gotchas.html#axis-order-changes-in-proj-6\n",
      "  in_crs_string = _prepare_from_proj_string(in_crs_string)\n",
      "/home/medourahou1/.local/lib/python3.10/site-packages/shapely/ops.py:276: FutureWarning: This function is deprecated. See: https://pyproj4.github.io/pyproj/stable/gotchas.html#upgrading-to-pyproj-2-from-pyproj-1\n",
      "  shell = type(geom.exterior)(zip(*func(*zip(*geom.exterior.coords))))\n",
      "/home/medourahou1/.local/lib/python3.10/site-packages/pymongo/collection.py:1697: UserWarning: use an explicit session with no_cursor_timeout=True otherwise the cursor may still timeout after 30 minutes, for more info see https://mongodb.com/docs/v4.4/reference/method/cursor.noCursorTimeout/#session-idle-timeout-overrides-nocursortimeout\n",
      "  return Cursor(self, *args, **kwargs)\n"
     ]
    },
    {
     "name": "stdout",
     "output_type": "stream",
     "text": [
      "Time Isochrone Start: 12.0h_20241202: 4.4, time to finish: 0.0h, 0.0mmm\n"
     ]
    },
    {
     "name": "stderr",
     "output_type": "stream",
     "text": [
      "/home/medourahou1/.local/lib/python3.10/site-packages/pyproj/crs/crs.py:141: FutureWarning: '+init=<authority>:<code>' syntax is deprecated. '<authority>:<code>' is the preferred initialization method. When making the change, be mindful of axis order changes: https://pyproj4.github.io/pyproj/stable/gotchas.html#axis-order-changes-in-proj-6\n",
      "  in_crs_string = _prepare_from_proj_string(in_crs_string)\n",
      "/home/medourahou1/.local/lib/python3.10/site-packages/shapely/ops.py:276: FutureWarning: This function is deprecated. See: https://pyproj4.github.io/pyproj/stable/gotchas.html#upgrading-to-pyproj-2-from-pyproj-1\n",
      "  shell = type(geom.exterior)(zip(*func(*zip(*geom.exterior.coords))))\n",
      "/home/medourahou1/.local/lib/python3.10/site-packages/pymongo/collection.py:1697: UserWarning: use an explicit session with no_cursor_timeout=True otherwise the cursor may still timeout after 30 minutes, for more info see https://mongodb.com/docs/v4.4/reference/method/cursor.noCursorTimeout/#session-idle-timeout-overrides-nocursortimeout\n",
      "  return Cursor(self, *args, **kwargs)\n"
     ]
    },
    {
     "name": "stdout",
     "output_type": "stream",
     "text": [
      "point: 195, velocityScore1h_20241201: 4.4, time to finish: 0.0h, 0.0mmm\r"
     ]
    },
    {
     "name": "stderr",
     "output_type": "stream",
     "text": [
      "/home/medourahou1/.local/lib/python3.10/site-packages/pyproj/crs/crs.py:141: FutureWarning: '+init=<authority>:<code>' syntax is deprecated. '<authority>:<code>' is the preferred initialization method. When making the change, be mindful of axis order changes: https://pyproj4.github.io/pyproj/stable/gotchas.html#axis-order-changes-in-proj-6\n",
      "  in_crs_string = _prepare_from_proj_string(in_crs_string)\n",
      "/home/medourahou1/.local/lib/python3.10/site-packages/shapely/ops.py:276: FutureWarning: This function is deprecated. See: https://pyproj4.github.io/pyproj/stable/gotchas.html#upgrading-to-pyproj-2-from-pyproj-1\n",
      "  shell = type(geom.exterior)(zip(*func(*zip(*geom.exterior.coords))))\n",
      "/home/medourahou1/.local/lib/python3.10/site-packages/pymongo/collection.py:1697: UserWarning: use an explicit session with no_cursor_timeout=True otherwise the cursor may still timeout after 30 minutes, for more info see https://mongodb.com/docs/v4.4/reference/method/cursor.noCursorTimeout/#session-idle-timeout-overrides-nocursortimeout\n",
      "  return Cursor(self, *args, **kwargs)\n"
     ]
    },
    {
     "name": "stdout",
     "output_type": "stream",
     "text": [
      "Time Isochrone Start: 17.0h_20241202: 4.4, time to finish: 0.0h, 0.0mmm\n"
     ]
    },
    {
     "name": "stderr",
     "output_type": "stream",
     "text": [
      "/home/medourahou1/.local/lib/python3.10/site-packages/pyproj/crs/crs.py:141: FutureWarning: '+init=<authority>:<code>' syntax is deprecated. '<authority>:<code>' is the preferred initialization method. When making the change, be mindful of axis order changes: https://pyproj4.github.io/pyproj/stable/gotchas.html#axis-order-changes-in-proj-6\n",
      "  in_crs_string = _prepare_from_proj_string(in_crs_string)\n",
      "/home/medourahou1/.local/lib/python3.10/site-packages/shapely/ops.py:276: FutureWarning: This function is deprecated. See: https://pyproj4.github.io/pyproj/stable/gotchas.html#upgrading-to-pyproj-2-from-pyproj-1\n",
      "  shell = type(geom.exterior)(zip(*func(*zip(*geom.exterior.coords))))\n",
      "/home/medourahou1/.local/lib/python3.10/site-packages/pymongo/collection.py:1697: UserWarning: use an explicit session with no_cursor_timeout=True otherwise the cursor may still timeout after 30 minutes, for more info see https://mongodb.com/docs/v4.4/reference/method/cursor.noCursorTimeout/#session-idle-timeout-overrides-nocursortimeout\n",
      "  return Cursor(self, *args, **kwargs)\n"
     ]
    },
    {
     "name": "stdout",
     "output_type": "stream",
     "text": [
      "point: 195, velocityScore1h_20241201: 4.4, time to finish: 0.0h, 0.0mmm\r"
     ]
    },
    {
     "name": "stderr",
     "output_type": "stream",
     "text": [
      "/home/medourahou1/.local/lib/python3.10/site-packages/pyproj/crs/crs.py:141: FutureWarning: '+init=<authority>:<code>' syntax is deprecated. '<authority>:<code>' is the preferred initialization method. When making the change, be mindful of axis order changes: https://pyproj4.github.io/pyproj/stable/gotchas.html#axis-order-changes-in-proj-6\n",
      "  in_crs_string = _prepare_from_proj_string(in_crs_string)\n",
      "/home/medourahou1/.local/lib/python3.10/site-packages/shapely/ops.py:276: FutureWarning: This function is deprecated. See: https://pyproj4.github.io/pyproj/stable/gotchas.html#upgrading-to-pyproj-2-from-pyproj-1\n",
      "  shell = type(geom.exterior)(zip(*func(*zip(*geom.exterior.coords))))\n",
      "/home/medourahou1/.local/lib/python3.10/site-packages/pymongo/collection.py:1697: UserWarning: use an explicit session with no_cursor_timeout=True otherwise the cursor may still timeout after 30 minutes, for more info see https://mongodb.com/docs/v4.4/reference/method/cursor.noCursorTimeout/#session-idle-timeout-overrides-nocursortimeout\n",
      "  return Cursor(self, *args, **kwargs)\n"
     ]
    },
    {
     "name": "stdout",
     "output_type": "stream",
     "text": [
      "Time Isochrone Start: 20.0h_20241202: 4.4, time to finish: 0.0h, 0.0mmm\n"
     ]
    },
    {
     "name": "stderr",
     "output_type": "stream",
     "text": [
      "/home/medourahou1/.local/lib/python3.10/site-packages/pyproj/crs/crs.py:141: FutureWarning: '+init=<authority>:<code>' syntax is deprecated. '<authority>:<code>' is the preferred initialization method. When making the change, be mindful of axis order changes: https://pyproj4.github.io/pyproj/stable/gotchas.html#axis-order-changes-in-proj-6\n",
      "  in_crs_string = _prepare_from_proj_string(in_crs_string)\n",
      "/home/medourahou1/.local/lib/python3.10/site-packages/shapely/ops.py:276: FutureWarning: This function is deprecated. See: https://pyproj4.github.io/pyproj/stable/gotchas.html#upgrading-to-pyproj-2-from-pyproj-1\n",
      "  shell = type(geom.exterior)(zip(*func(*zip(*geom.exterior.coords))))\n",
      "/home/medourahou1/.local/lib/python3.10/site-packages/pymongo/collection.py:1697: UserWarning: use an explicit session with no_cursor_timeout=True otherwise the cursor may still timeout after 30 minutes, for more info see https://mongodb.com/docs/v4.4/reference/method/cursor.noCursorTimeout/#session-idle-timeout-overrides-nocursortimeout\n",
      "  return Cursor(self, *args, **kwargs)\n"
     ]
    },
    {
     "name": "stdout",
     "output_type": "stream",
     "text": [
      "point: 195, velocityScore1h_20241201: 4.4, time to finish: 0.0h, 0.0mmm\r"
     ]
    },
    {
     "name": "stderr",
     "output_type": "stream",
     "text": [
      "/home/medourahou1/.local/lib/python3.10/site-packages/pyproj/crs/crs.py:141: FutureWarning: '+init=<authority>:<code>' syntax is deprecated. '<authority>:<code>' is the preferred initialization method. When making the change, be mindful of axis order changes: https://pyproj4.github.io/pyproj/stable/gotchas.html#axis-order-changes-in-proj-6\n",
      "  in_crs_string = _prepare_from_proj_string(in_crs_string)\n",
      "/home/medourahou1/.local/lib/python3.10/site-packages/shapely/ops.py:276: FutureWarning: This function is deprecated. See: https://pyproj4.github.io/pyproj/stable/gotchas.html#upgrading-to-pyproj-2-from-pyproj-1\n",
      "  shell = type(geom.exterior)(zip(*func(*zip(*geom.exterior.coords))))\n",
      "/home/medourahou1/.local/lib/python3.10/site-packages/pymongo/collection.py:1697: UserWarning: use an explicit session with no_cursor_timeout=True otherwise the cursor may still timeout after 30 minutes, for more info see https://mongodb.com/docs/v4.4/reference/method/cursor.noCursorTimeout/#session-idle-timeout-overrides-nocursortimeout\n",
      "  return Cursor(self, *args, **kwargs)\n"
     ]
    },
    {
     "name": "stdout",
     "output_type": "stream",
     "text": [
      "point: 195, velocityScore1h_20241202: 4.4, time to finish: 0.0h, 0.0mmm\r"
     ]
    }
   ],
   "source": [
    "import imp\n",
    "from library import libAccessibility, icsa\n",
    "imp.reload(libAccessibility)\n",
    "from library.icsa import computeAccessibilities\n",
    "imp.reload(icsa)\n",
    "\n",
    "listAccessibility = ['socialityScore1h']\n",
    "\n",
    "computeIsochrone = False\n",
    "if 'isochrones' in gtfsDB.list_collection_names():\n",
    "    #gtfsDB['isochrones'].delete_many({'city':city})\n",
    "    pass\n",
    "for timeStart in timeList:\n",
    "    timeStart *= 3600\n",
    "    print( 'Time Isochrone Start: {0}'.format(timeStart/3600,))\n",
    "#     computeAccessibilities(city, timeStart, arrayCC, arraySP, gtfsDB, computeIsochrone, timeStart/3600 == timeList[0], listAccessibility=listAccessibility)\n",
    "    \n",
    "    computeAccessibilities(\n",
    "    city, timeStart, arrayCC_day1, arraySP, gtfsDB, \n",
    "    computeIsochrone, timeStart/3600 == timeList[0], \n",
    "    day='20241201', \n",
    "    max_travel_time=3600, #1H \n",
    "    listAccessibility=listAccessibility\n",
    ")\n",
    "\n",
    "    # For second day\n",
    "    computeAccessibilities(\n",
    "        city, timeStart, arrayCC_day2, arraySP, gtfsDB,\n",
    "        computeIsochrone, timeStart/3600 == timeList[0],  # Use first=True for each day\n",
    "        day='20241202',\n",
    "        max_travel_time=3600, #1H \n",
    "        listAccessibility=listAccessibility\n",
    "    )"
   ]
  },
  {
   "cell_type": "code",
   "execution_count": 29,
   "metadata": {},
   "outputs": [
    {
     "name": "stdout",
     "output_type": "stream",
     "text": [
      "Time Isochrone Start: 7.0\n"
     ]
    },
    {
     "name": "stderr",
     "output_type": "stream",
     "text": [
      "/home/medourahou1/.local/lib/python3.10/site-packages/pyproj/crs/crs.py:141: FutureWarning: '+init=<authority>:<code>' syntax is deprecated. '<authority>:<code>' is the preferred initialization method. When making the change, be mindful of axis order changes: https://pyproj4.github.io/pyproj/stable/gotchas.html#axis-order-changes-in-proj-6\n",
      "  in_crs_string = _prepare_from_proj_string(in_crs_string)\n",
      "/home/medourahou1/.local/lib/python3.10/site-packages/shapely/ops.py:276: FutureWarning: This function is deprecated. See: https://pyproj4.github.io/pyproj/stable/gotchas.html#upgrading-to-pyproj-2-from-pyproj-1\n",
      "  shell = type(geom.exterior)(zip(*func(*zip(*geom.exterior.coords))))\n",
      "/home/medourahou1/.local/lib/python3.10/site-packages/pymongo/collection.py:1697: UserWarning: use an explicit session with no_cursor_timeout=True otherwise the cursor may still timeout after 30 minutes, for more info see https://mongodb.com/docs/v4.4/reference/method/cursor.noCursorTimeout/#session-idle-timeout-overrides-nocursortimeout\n",
      "  return Cursor(self, *args, **kwargs)\n"
     ]
    },
    {
     "name": "stdout",
     "output_type": "stream",
     "text": [
      "point: 195, socialityScore20min_20241201: 4.5, time to finish: 0.0h, 0.0mmm\r"
     ]
    },
    {
     "name": "stderr",
     "output_type": "stream",
     "text": [
      "/home/medourahou1/.local/lib/python3.10/site-packages/pyproj/crs/crs.py:141: FutureWarning: '+init=<authority>:<code>' syntax is deprecated. '<authority>:<code>' is the preferred initialization method. When making the change, be mindful of axis order changes: https://pyproj4.github.io/pyproj/stable/gotchas.html#axis-order-changes-in-proj-6\n",
      "  in_crs_string = _prepare_from_proj_string(in_crs_string)\n",
      "/home/medourahou1/.local/lib/python3.10/site-packages/shapely/ops.py:276: FutureWarning: This function is deprecated. See: https://pyproj4.github.io/pyproj/stable/gotchas.html#upgrading-to-pyproj-2-from-pyproj-1\n",
      "  shell = type(geom.exterior)(zip(*func(*zip(*geom.exterior.coords))))\n",
      "/home/medourahou1/.local/lib/python3.10/site-packages/pymongo/collection.py:1697: UserWarning: use an explicit session with no_cursor_timeout=True otherwise the cursor may still timeout after 30 minutes, for more info see https://mongodb.com/docs/v4.4/reference/method/cursor.noCursorTimeout/#session-idle-timeout-overrides-nocursortimeout\n",
      "  return Cursor(self, *args, **kwargs)\n"
     ]
    },
    {
     "name": "stdout",
     "output_type": "stream",
     "text": [
      "Time Isochrone Start: 10.020min_20241202: 4.5, time to finish: 0.0h, 0.0mmm\n"
     ]
    },
    {
     "name": "stderr",
     "output_type": "stream",
     "text": [
      "/home/medourahou1/.local/lib/python3.10/site-packages/pyproj/crs/crs.py:141: FutureWarning: '+init=<authority>:<code>' syntax is deprecated. '<authority>:<code>' is the preferred initialization method. When making the change, be mindful of axis order changes: https://pyproj4.github.io/pyproj/stable/gotchas.html#axis-order-changes-in-proj-6\n",
      "  in_crs_string = _prepare_from_proj_string(in_crs_string)\n",
      "/home/medourahou1/.local/lib/python3.10/site-packages/shapely/ops.py:276: FutureWarning: This function is deprecated. See: https://pyproj4.github.io/pyproj/stable/gotchas.html#upgrading-to-pyproj-2-from-pyproj-1\n",
      "  shell = type(geom.exterior)(zip(*func(*zip(*geom.exterior.coords))))\n",
      "/home/medourahou1/.local/lib/python3.10/site-packages/pymongo/collection.py:1697: UserWarning: use an explicit session with no_cursor_timeout=True otherwise the cursor may still timeout after 30 minutes, for more info see https://mongodb.com/docs/v4.4/reference/method/cursor.noCursorTimeout/#session-idle-timeout-overrides-nocursortimeout\n",
      "  return Cursor(self, *args, **kwargs)\n"
     ]
    },
    {
     "name": "stdout",
     "output_type": "stream",
     "text": [
      "point: 195, socialityScore20min_20241201: 4.5, time to finish: 0.0h, 0.0mmm\r"
     ]
    },
    {
     "name": "stderr",
     "output_type": "stream",
     "text": [
      "/home/medourahou1/.local/lib/python3.10/site-packages/pyproj/crs/crs.py:141: FutureWarning: '+init=<authority>:<code>' syntax is deprecated. '<authority>:<code>' is the preferred initialization method. When making the change, be mindful of axis order changes: https://pyproj4.github.io/pyproj/stable/gotchas.html#axis-order-changes-in-proj-6\n",
      "  in_crs_string = _prepare_from_proj_string(in_crs_string)\n",
      "/home/medourahou1/.local/lib/python3.10/site-packages/shapely/ops.py:276: FutureWarning: This function is deprecated. See: https://pyproj4.github.io/pyproj/stable/gotchas.html#upgrading-to-pyproj-2-from-pyproj-1\n",
      "  shell = type(geom.exterior)(zip(*func(*zip(*geom.exterior.coords))))\n",
      "/home/medourahou1/.local/lib/python3.10/site-packages/pymongo/collection.py:1697: UserWarning: use an explicit session with no_cursor_timeout=True otherwise the cursor may still timeout after 30 minutes, for more info see https://mongodb.com/docs/v4.4/reference/method/cursor.noCursorTimeout/#session-idle-timeout-overrides-nocursortimeout\n",
      "  return Cursor(self, *args, **kwargs)\n"
     ]
    },
    {
     "name": "stdout",
     "output_type": "stream",
     "text": [
      "Time Isochrone Start: 12.020min_20241202: 4.5, time to finish: 0.0h, 0.0mmm\n"
     ]
    },
    {
     "name": "stderr",
     "output_type": "stream",
     "text": [
      "/home/medourahou1/.local/lib/python3.10/site-packages/pyproj/crs/crs.py:141: FutureWarning: '+init=<authority>:<code>' syntax is deprecated. '<authority>:<code>' is the preferred initialization method. When making the change, be mindful of axis order changes: https://pyproj4.github.io/pyproj/stable/gotchas.html#axis-order-changes-in-proj-6\n",
      "  in_crs_string = _prepare_from_proj_string(in_crs_string)\n",
      "/home/medourahou1/.local/lib/python3.10/site-packages/shapely/ops.py:276: FutureWarning: This function is deprecated. See: https://pyproj4.github.io/pyproj/stable/gotchas.html#upgrading-to-pyproj-2-from-pyproj-1\n",
      "  shell = type(geom.exterior)(zip(*func(*zip(*geom.exterior.coords))))\n",
      "/home/medourahou1/.local/lib/python3.10/site-packages/pymongo/collection.py:1697: UserWarning: use an explicit session with no_cursor_timeout=True otherwise the cursor may still timeout after 30 minutes, for more info see https://mongodb.com/docs/v4.4/reference/method/cursor.noCursorTimeout/#session-idle-timeout-overrides-nocursortimeout\n",
      "  return Cursor(self, *args, **kwargs)\n"
     ]
    },
    {
     "name": "stdout",
     "output_type": "stream",
     "text": [
      "point: 195, socialityScore20min_20241201: 4.5, time to finish: 0.0h, 0.0mmm\r"
     ]
    },
    {
     "name": "stderr",
     "output_type": "stream",
     "text": [
      "/home/medourahou1/.local/lib/python3.10/site-packages/pyproj/crs/crs.py:141: FutureWarning: '+init=<authority>:<code>' syntax is deprecated. '<authority>:<code>' is the preferred initialization method. When making the change, be mindful of axis order changes: https://pyproj4.github.io/pyproj/stable/gotchas.html#axis-order-changes-in-proj-6\n",
      "  in_crs_string = _prepare_from_proj_string(in_crs_string)\n",
      "/home/medourahou1/.local/lib/python3.10/site-packages/shapely/ops.py:276: FutureWarning: This function is deprecated. See: https://pyproj4.github.io/pyproj/stable/gotchas.html#upgrading-to-pyproj-2-from-pyproj-1\n",
      "  shell = type(geom.exterior)(zip(*func(*zip(*geom.exterior.coords))))\n",
      "/home/medourahou1/.local/lib/python3.10/site-packages/pymongo/collection.py:1697: UserWarning: use an explicit session with no_cursor_timeout=True otherwise the cursor may still timeout after 30 minutes, for more info see https://mongodb.com/docs/v4.4/reference/method/cursor.noCursorTimeout/#session-idle-timeout-overrides-nocursortimeout\n",
      "  return Cursor(self, *args, **kwargs)\n"
     ]
    },
    {
     "name": "stdout",
     "output_type": "stream",
     "text": [
      "Time Isochrone Start: 17.020min_20241202: 4.5, time to finish: 0.0h, 0.0mmm\n"
     ]
    },
    {
     "name": "stderr",
     "output_type": "stream",
     "text": [
      "/home/medourahou1/.local/lib/python3.10/site-packages/pyproj/crs/crs.py:141: FutureWarning: '+init=<authority>:<code>' syntax is deprecated. '<authority>:<code>' is the preferred initialization method. When making the change, be mindful of axis order changes: https://pyproj4.github.io/pyproj/stable/gotchas.html#axis-order-changes-in-proj-6\n",
      "  in_crs_string = _prepare_from_proj_string(in_crs_string)\n",
      "/home/medourahou1/.local/lib/python3.10/site-packages/shapely/ops.py:276: FutureWarning: This function is deprecated. See: https://pyproj4.github.io/pyproj/stable/gotchas.html#upgrading-to-pyproj-2-from-pyproj-1\n",
      "  shell = type(geom.exterior)(zip(*func(*zip(*geom.exterior.coords))))\n",
      "/home/medourahou1/.local/lib/python3.10/site-packages/pymongo/collection.py:1697: UserWarning: use an explicit session with no_cursor_timeout=True otherwise the cursor may still timeout after 30 minutes, for more info see https://mongodb.com/docs/v4.4/reference/method/cursor.noCursorTimeout/#session-idle-timeout-overrides-nocursortimeout\n",
      "  return Cursor(self, *args, **kwargs)\n"
     ]
    },
    {
     "name": "stdout",
     "output_type": "stream",
     "text": [
      "point: 195, socialityScore20min_20241201: 4.5, time to finish: 0.0h, 0.0mmm\r"
     ]
    },
    {
     "name": "stderr",
     "output_type": "stream",
     "text": [
      "/home/medourahou1/.local/lib/python3.10/site-packages/pyproj/crs/crs.py:141: FutureWarning: '+init=<authority>:<code>' syntax is deprecated. '<authority>:<code>' is the preferred initialization method. When making the change, be mindful of axis order changes: https://pyproj4.github.io/pyproj/stable/gotchas.html#axis-order-changes-in-proj-6\n",
      "  in_crs_string = _prepare_from_proj_string(in_crs_string)\n",
      "/home/medourahou1/.local/lib/python3.10/site-packages/shapely/ops.py:276: FutureWarning: This function is deprecated. See: https://pyproj4.github.io/pyproj/stable/gotchas.html#upgrading-to-pyproj-2-from-pyproj-1\n",
      "  shell = type(geom.exterior)(zip(*func(*zip(*geom.exterior.coords))))\n",
      "/home/medourahou1/.local/lib/python3.10/site-packages/pymongo/collection.py:1697: UserWarning: use an explicit session with no_cursor_timeout=True otherwise the cursor may still timeout after 30 minutes, for more info see https://mongodb.com/docs/v4.4/reference/method/cursor.noCursorTimeout/#session-idle-timeout-overrides-nocursortimeout\n",
      "  return Cursor(self, *args, **kwargs)\n"
     ]
    },
    {
     "name": "stdout",
     "output_type": "stream",
     "text": [
      "Time Isochrone Start: 20.020min_20241202: 4.5, time to finish: 0.0h, 0.0mmm\n"
     ]
    },
    {
     "name": "stderr",
     "output_type": "stream",
     "text": [
      "/home/medourahou1/.local/lib/python3.10/site-packages/pyproj/crs/crs.py:141: FutureWarning: '+init=<authority>:<code>' syntax is deprecated. '<authority>:<code>' is the preferred initialization method. When making the change, be mindful of axis order changes: https://pyproj4.github.io/pyproj/stable/gotchas.html#axis-order-changes-in-proj-6\n",
      "  in_crs_string = _prepare_from_proj_string(in_crs_string)\n",
      "/home/medourahou1/.local/lib/python3.10/site-packages/shapely/ops.py:276: FutureWarning: This function is deprecated. See: https://pyproj4.github.io/pyproj/stable/gotchas.html#upgrading-to-pyproj-2-from-pyproj-1\n",
      "  shell = type(geom.exterior)(zip(*func(*zip(*geom.exterior.coords))))\n",
      "/home/medourahou1/.local/lib/python3.10/site-packages/pymongo/collection.py:1697: UserWarning: use an explicit session with no_cursor_timeout=True otherwise the cursor may still timeout after 30 minutes, for more info see https://mongodb.com/docs/v4.4/reference/method/cursor.noCursorTimeout/#session-idle-timeout-overrides-nocursortimeout\n",
      "  return Cursor(self, *args, **kwargs)\n"
     ]
    },
    {
     "name": "stdout",
     "output_type": "stream",
     "text": [
      "point: 195, socialityScore20min_20241201: 4.5, time to finish: 0.0h, 0.0mmm\r"
     ]
    },
    {
     "name": "stderr",
     "output_type": "stream",
     "text": [
      "/home/medourahou1/.local/lib/python3.10/site-packages/pyproj/crs/crs.py:141: FutureWarning: '+init=<authority>:<code>' syntax is deprecated. '<authority>:<code>' is the preferred initialization method. When making the change, be mindful of axis order changes: https://pyproj4.github.io/pyproj/stable/gotchas.html#axis-order-changes-in-proj-6\n",
      "  in_crs_string = _prepare_from_proj_string(in_crs_string)\n",
      "/home/medourahou1/.local/lib/python3.10/site-packages/shapely/ops.py:276: FutureWarning: This function is deprecated. See: https://pyproj4.github.io/pyproj/stable/gotchas.html#upgrading-to-pyproj-2-from-pyproj-1\n",
      "  shell = type(geom.exterior)(zip(*func(*zip(*geom.exterior.coords))))\n",
      "/home/medourahou1/.local/lib/python3.10/site-packages/pymongo/collection.py:1697: UserWarning: use an explicit session with no_cursor_timeout=True otherwise the cursor may still timeout after 30 minutes, for more info see https://mongodb.com/docs/v4.4/reference/method/cursor.noCursorTimeout/#session-idle-timeout-overrides-nocursortimeout\n",
      "  return Cursor(self, *args, **kwargs)\n"
     ]
    },
    {
     "name": "stdout",
     "output_type": "stream",
     "text": [
      "point: 195, socialityScore20min_20241202: 4.5, time to finish: 0.0h, 0.0mmm\r"
     ]
    }
   ],
   "source": [
    "import imp\n",
    "from library import libAccessibility_version2, shortest_path_algo\n",
    "imp.reload(libAccessibility_version2)\n",
    "from library.shortest_path_algo import computeAccessibilities\n",
    "imp.reload(shortest_path_algo)\n",
    "\n",
    "listAccessibility = ['socialityScore20min']\n",
    "\n",
    "computeIsochrone = False\n",
    "if 'isochrones' in gtfsDB.list_collection_names():\n",
    "    #gtfsDB['isochrones'].delete_many({'city':city})\n",
    "    pass\n",
    "for timeStart in timeList:\n",
    "    timeStart *= 3600\n",
    "    hEnd  = timeStart+6600\n",
    "    print( 'Time Isochrone Start: {0}'.format(timeStart/3600,))\n",
    "#     computeAccessibilities(city, timeStart, arrayCC, arraySP, gtfsDB, computeIsochrone, timeStart/3600 == timeList[0], listAccessibility=listAccessibility)\n",
    "    \n",
    "    computeAccessibilities(\n",
    "    city, timeStart,hEnd, arrayCC_day1, arraySP, gtfsDB, \n",
    "    computeIsochrone, timeStart/3600 == timeList[0], \n",
    "    day='20241201', \n",
    "    max_travel_time=1200, #20min \n",
    "    listAccessibility=listAccessibility\n",
    ")\n",
    "\n",
    "    # For second day\n",
    "    computeAccessibilities(\n",
    "        city, timeStart,hEnd, arrayCC_day2, arraySP, gtfsDB,\n",
    "        computeIsochrone, timeStart/3600 == timeList[0],  # Use first=True for each day\n",
    "        day='20241202',\n",
    "        max_travel_time=1200, #20min \n",
    "        listAccessibility=listAccessibility\n",
    "    )"
   ]
  },
  {
   "cell_type": "code",
   "execution_count": 28,
   "metadata": {},
   "outputs": [
    {
     "name": "stdout",
     "output_type": "stream",
     "text": [
      "Time Isochrone Start: 7.0\n"
     ]
    },
    {
     "name": "stderr",
     "output_type": "stream",
     "text": [
      "/home/medourahou1/.local/lib/python3.10/site-packages/pyproj/crs/crs.py:141: FutureWarning: '+init=<authority>:<code>' syntax is deprecated. '<authority>:<code>' is the preferred initialization method. When making the change, be mindful of axis order changes: https://pyproj4.github.io/pyproj/stable/gotchas.html#axis-order-changes-in-proj-6\n",
      "  in_crs_string = _prepare_from_proj_string(in_crs_string)\n",
      "/home/medourahou1/.local/lib/python3.10/site-packages/shapely/ops.py:276: FutureWarning: This function is deprecated. See: https://pyproj4.github.io/pyproj/stable/gotchas.html#upgrading-to-pyproj-2-from-pyproj-1\n",
      "  shell = type(geom.exterior)(zip(*func(*zip(*geom.exterior.coords))))\n",
      "/home/medourahou1/.local/lib/python3.10/site-packages/pymongo/collection.py:1697: UserWarning: use an explicit session with no_cursor_timeout=True otherwise the cursor may still timeout after 30 minutes, for more info see https://mongodb.com/docs/v4.4/reference/method/cursor.noCursorTimeout/#session-idle-timeout-overrides-nocursortimeout\n",
      "  return Cursor(self, *args, **kwargs)\n"
     ]
    },
    {
     "name": "stdout",
     "output_type": "stream",
     "text": [
      "point: 195, socialityScore10min_20241201: 4.5, time to finish: 0.0h, 0.0mm\r"
     ]
    },
    {
     "name": "stderr",
     "output_type": "stream",
     "text": [
      "/home/medourahou1/.local/lib/python3.10/site-packages/pyproj/crs/crs.py:141: FutureWarning: '+init=<authority>:<code>' syntax is deprecated. '<authority>:<code>' is the preferred initialization method. When making the change, be mindful of axis order changes: https://pyproj4.github.io/pyproj/stable/gotchas.html#axis-order-changes-in-proj-6\n",
      "  in_crs_string = _prepare_from_proj_string(in_crs_string)\n",
      "/home/medourahou1/.local/lib/python3.10/site-packages/shapely/ops.py:276: FutureWarning: This function is deprecated. See: https://pyproj4.github.io/pyproj/stable/gotchas.html#upgrading-to-pyproj-2-from-pyproj-1\n",
      "  shell = type(geom.exterior)(zip(*func(*zip(*geom.exterior.coords))))\n",
      "/home/medourahou1/.local/lib/python3.10/site-packages/pymongo/collection.py:1697: UserWarning: use an explicit session with no_cursor_timeout=True otherwise the cursor may still timeout after 30 minutes, for more info see https://mongodb.com/docs/v4.4/reference/method/cursor.noCursorTimeout/#session-idle-timeout-overrides-nocursortimeout\n",
      "  return Cursor(self, *args, **kwargs)\n"
     ]
    },
    {
     "name": "stdout",
     "output_type": "stream",
     "text": [
      "Time Isochrone Start: 10.010min_20241202: 4.5, time to finish: 0.0h, 0.0mm\n"
     ]
    },
    {
     "name": "stderr",
     "output_type": "stream",
     "text": [
      "/home/medourahou1/.local/lib/python3.10/site-packages/pyproj/crs/crs.py:141: FutureWarning: '+init=<authority>:<code>' syntax is deprecated. '<authority>:<code>' is the preferred initialization method. When making the change, be mindful of axis order changes: https://pyproj4.github.io/pyproj/stable/gotchas.html#axis-order-changes-in-proj-6\n",
      "  in_crs_string = _prepare_from_proj_string(in_crs_string)\n",
      "/home/medourahou1/.local/lib/python3.10/site-packages/shapely/ops.py:276: FutureWarning: This function is deprecated. See: https://pyproj4.github.io/pyproj/stable/gotchas.html#upgrading-to-pyproj-2-from-pyproj-1\n",
      "  shell = type(geom.exterior)(zip(*func(*zip(*geom.exterior.coords))))\n",
      "/home/medourahou1/.local/lib/python3.10/site-packages/pymongo/collection.py:1697: UserWarning: use an explicit session with no_cursor_timeout=True otherwise the cursor may still timeout after 30 minutes, for more info see https://mongodb.com/docs/v4.4/reference/method/cursor.noCursorTimeout/#session-idle-timeout-overrides-nocursortimeout\n",
      "  return Cursor(self, *args, **kwargs)\n"
     ]
    },
    {
     "name": "stdout",
     "output_type": "stream",
     "text": [
      "point: 195, socialityScore10min_20241201: 4.5, time to finish: 0.0h, 0.0mm\r"
     ]
    },
    {
     "name": "stderr",
     "output_type": "stream",
     "text": [
      "/home/medourahou1/.local/lib/python3.10/site-packages/pyproj/crs/crs.py:141: FutureWarning: '+init=<authority>:<code>' syntax is deprecated. '<authority>:<code>' is the preferred initialization method. When making the change, be mindful of axis order changes: https://pyproj4.github.io/pyproj/stable/gotchas.html#axis-order-changes-in-proj-6\n",
      "  in_crs_string = _prepare_from_proj_string(in_crs_string)\n",
      "/home/medourahou1/.local/lib/python3.10/site-packages/shapely/ops.py:276: FutureWarning: This function is deprecated. See: https://pyproj4.github.io/pyproj/stable/gotchas.html#upgrading-to-pyproj-2-from-pyproj-1\n",
      "  shell = type(geom.exterior)(zip(*func(*zip(*geom.exterior.coords))))\n",
      "/home/medourahou1/.local/lib/python3.10/site-packages/pymongo/collection.py:1697: UserWarning: use an explicit session with no_cursor_timeout=True otherwise the cursor may still timeout after 30 minutes, for more info see https://mongodb.com/docs/v4.4/reference/method/cursor.noCursorTimeout/#session-idle-timeout-overrides-nocursortimeout\n",
      "  return Cursor(self, *args, **kwargs)\n"
     ]
    },
    {
     "name": "stdout",
     "output_type": "stream",
     "text": [
      "Time Isochrone Start: 12.010min_20241202: 4.5, time to finish: 0.0h, 0.0mm\n"
     ]
    },
    {
     "name": "stderr",
     "output_type": "stream",
     "text": [
      "/home/medourahou1/.local/lib/python3.10/site-packages/pyproj/crs/crs.py:141: FutureWarning: '+init=<authority>:<code>' syntax is deprecated. '<authority>:<code>' is the preferred initialization method. When making the change, be mindful of axis order changes: https://pyproj4.github.io/pyproj/stable/gotchas.html#axis-order-changes-in-proj-6\n",
      "  in_crs_string = _prepare_from_proj_string(in_crs_string)\n",
      "/home/medourahou1/.local/lib/python3.10/site-packages/shapely/ops.py:276: FutureWarning: This function is deprecated. See: https://pyproj4.github.io/pyproj/stable/gotchas.html#upgrading-to-pyproj-2-from-pyproj-1\n",
      "  shell = type(geom.exterior)(zip(*func(*zip(*geom.exterior.coords))))\n",
      "/home/medourahou1/.local/lib/python3.10/site-packages/pymongo/collection.py:1697: UserWarning: use an explicit session with no_cursor_timeout=True otherwise the cursor may still timeout after 30 minutes, for more info see https://mongodb.com/docs/v4.4/reference/method/cursor.noCursorTimeout/#session-idle-timeout-overrides-nocursortimeout\n",
      "  return Cursor(self, *args, **kwargs)\n"
     ]
    },
    {
     "name": "stdout",
     "output_type": "stream",
     "text": [
      "point: 195, socialityScore10min_20241201: 4.5, time to finish: 0.0h, 0.0mm\r"
     ]
    },
    {
     "name": "stderr",
     "output_type": "stream",
     "text": [
      "/home/medourahou1/.local/lib/python3.10/site-packages/pyproj/crs/crs.py:141: FutureWarning: '+init=<authority>:<code>' syntax is deprecated. '<authority>:<code>' is the preferred initialization method. When making the change, be mindful of axis order changes: https://pyproj4.github.io/pyproj/stable/gotchas.html#axis-order-changes-in-proj-6\n",
      "  in_crs_string = _prepare_from_proj_string(in_crs_string)\n",
      "/home/medourahou1/.local/lib/python3.10/site-packages/shapely/ops.py:276: FutureWarning: This function is deprecated. See: https://pyproj4.github.io/pyproj/stable/gotchas.html#upgrading-to-pyproj-2-from-pyproj-1\n",
      "  shell = type(geom.exterior)(zip(*func(*zip(*geom.exterior.coords))))\n",
      "/home/medourahou1/.local/lib/python3.10/site-packages/pymongo/collection.py:1697: UserWarning: use an explicit session with no_cursor_timeout=True otherwise the cursor may still timeout after 30 minutes, for more info see https://mongodb.com/docs/v4.4/reference/method/cursor.noCursorTimeout/#session-idle-timeout-overrides-nocursortimeout\n",
      "  return Cursor(self, *args, **kwargs)\n"
     ]
    },
    {
     "name": "stdout",
     "output_type": "stream",
     "text": [
      "Time Isochrone Start: 17.010min_20241202: 4.5, time to finish: 0.0h, 0.0mm\n"
     ]
    },
    {
     "name": "stderr",
     "output_type": "stream",
     "text": [
      "/home/medourahou1/.local/lib/python3.10/site-packages/pyproj/crs/crs.py:141: FutureWarning: '+init=<authority>:<code>' syntax is deprecated. '<authority>:<code>' is the preferred initialization method. When making the change, be mindful of axis order changes: https://pyproj4.github.io/pyproj/stable/gotchas.html#axis-order-changes-in-proj-6\n",
      "  in_crs_string = _prepare_from_proj_string(in_crs_string)\n",
      "/home/medourahou1/.local/lib/python3.10/site-packages/shapely/ops.py:276: FutureWarning: This function is deprecated. See: https://pyproj4.github.io/pyproj/stable/gotchas.html#upgrading-to-pyproj-2-from-pyproj-1\n",
      "  shell = type(geom.exterior)(zip(*func(*zip(*geom.exterior.coords))))\n",
      "/home/medourahou1/.local/lib/python3.10/site-packages/pymongo/collection.py:1697: UserWarning: use an explicit session with no_cursor_timeout=True otherwise the cursor may still timeout after 30 minutes, for more info see https://mongodb.com/docs/v4.4/reference/method/cursor.noCursorTimeout/#session-idle-timeout-overrides-nocursortimeout\n",
      "  return Cursor(self, *args, **kwargs)\n"
     ]
    },
    {
     "name": "stdout",
     "output_type": "stream",
     "text": [
      "point: 195, socialityScore10min_20241201: 4.5, time to finish: 0.0h, 0.0mm\r"
     ]
    },
    {
     "name": "stderr",
     "output_type": "stream",
     "text": [
      "/home/medourahou1/.local/lib/python3.10/site-packages/pyproj/crs/crs.py:141: FutureWarning: '+init=<authority>:<code>' syntax is deprecated. '<authority>:<code>' is the preferred initialization method. When making the change, be mindful of axis order changes: https://pyproj4.github.io/pyproj/stable/gotchas.html#axis-order-changes-in-proj-6\n",
      "  in_crs_string = _prepare_from_proj_string(in_crs_string)\n",
      "/home/medourahou1/.local/lib/python3.10/site-packages/shapely/ops.py:276: FutureWarning: This function is deprecated. See: https://pyproj4.github.io/pyproj/stable/gotchas.html#upgrading-to-pyproj-2-from-pyproj-1\n",
      "  shell = type(geom.exterior)(zip(*func(*zip(*geom.exterior.coords))))\n",
      "/home/medourahou1/.local/lib/python3.10/site-packages/pymongo/collection.py:1697: UserWarning: use an explicit session with no_cursor_timeout=True otherwise the cursor may still timeout after 30 minutes, for more info see https://mongodb.com/docs/v4.4/reference/method/cursor.noCursorTimeout/#session-idle-timeout-overrides-nocursortimeout\n",
      "  return Cursor(self, *args, **kwargs)\n"
     ]
    },
    {
     "name": "stdout",
     "output_type": "stream",
     "text": [
      "Time Isochrone Start: 20.010min_20241202: 4.5, time to finish: 0.0h, 0.0mm\n"
     ]
    },
    {
     "name": "stderr",
     "output_type": "stream",
     "text": [
      "/home/medourahou1/.local/lib/python3.10/site-packages/pyproj/crs/crs.py:141: FutureWarning: '+init=<authority>:<code>' syntax is deprecated. '<authority>:<code>' is the preferred initialization method. When making the change, be mindful of axis order changes: https://pyproj4.github.io/pyproj/stable/gotchas.html#axis-order-changes-in-proj-6\n",
      "  in_crs_string = _prepare_from_proj_string(in_crs_string)\n",
      "/home/medourahou1/.local/lib/python3.10/site-packages/shapely/ops.py:276: FutureWarning: This function is deprecated. See: https://pyproj4.github.io/pyproj/stable/gotchas.html#upgrading-to-pyproj-2-from-pyproj-1\n",
      "  shell = type(geom.exterior)(zip(*func(*zip(*geom.exterior.coords))))\n",
      "/home/medourahou1/.local/lib/python3.10/site-packages/pymongo/collection.py:1697: UserWarning: use an explicit session with no_cursor_timeout=True otherwise the cursor may still timeout after 30 minutes, for more info see https://mongodb.com/docs/v4.4/reference/method/cursor.noCursorTimeout/#session-idle-timeout-overrides-nocursortimeout\n",
      "  return Cursor(self, *args, **kwargs)\n"
     ]
    },
    {
     "name": "stdout",
     "output_type": "stream",
     "text": [
      "point: 195, socialityScore10min_20241201: 4.5, time to finish: 0.0h, 0.0mm\r"
     ]
    },
    {
     "name": "stderr",
     "output_type": "stream",
     "text": [
      "/home/medourahou1/.local/lib/python3.10/site-packages/pyproj/crs/crs.py:141: FutureWarning: '+init=<authority>:<code>' syntax is deprecated. '<authority>:<code>' is the preferred initialization method. When making the change, be mindful of axis order changes: https://pyproj4.github.io/pyproj/stable/gotchas.html#axis-order-changes-in-proj-6\n",
      "  in_crs_string = _prepare_from_proj_string(in_crs_string)\n",
      "/home/medourahou1/.local/lib/python3.10/site-packages/shapely/ops.py:276: FutureWarning: This function is deprecated. See: https://pyproj4.github.io/pyproj/stable/gotchas.html#upgrading-to-pyproj-2-from-pyproj-1\n",
      "  shell = type(geom.exterior)(zip(*func(*zip(*geom.exterior.coords))))\n",
      "/home/medourahou1/.local/lib/python3.10/site-packages/pymongo/collection.py:1697: UserWarning: use an explicit session with no_cursor_timeout=True otherwise the cursor may still timeout after 30 minutes, for more info see https://mongodb.com/docs/v4.4/reference/method/cursor.noCursorTimeout/#session-idle-timeout-overrides-nocursortimeout\n",
      "  return Cursor(self, *args, **kwargs)\n"
     ]
    },
    {
     "name": "stdout",
     "output_type": "stream",
     "text": [
      "point: 195, socialityScore10min_20241202: 4.5, time to finish: 0.0h, 0.0mm\r"
     ]
    }
   ],
   "source": [
    "import imp\n",
    "from library import libAccessibility, icsa\n",
    "imp.reload(libAccessibility)\n",
    "from library.icsa import computeAccessibilities\n",
    "imp.reload(icsa)\n",
    "\n",
    "listAccessibility = ['socialityScore10min']\n",
    "\n",
    "computeIsochrone = False\n",
    "if 'isochrones' in gtfsDB.list_collection_names():\n",
    "    #gtfsDB['isochrones'].delete_many({'city':city})\n",
    "    pass\n",
    "for timeStart in timeList:\n",
    "    timeStart *= 3600\n",
    "    print( 'Time Isochrone Start: {0}'.format(timeStart/3600,))\n",
    "#     computeAccessibilities(city, timeStart, arrayCC, arraySP, gtfsDB, computeIsochrone, timeStart/3600 == timeList[0], listAccessibility=listAccessibility)\n",
    "    \n",
    "    computeAccessibilities(\n",
    "    city, timeStart, arrayCC_day1, arraySP, gtfsDB, \n",
    "    computeIsochrone, timeStart/3600 == timeList[0], \n",
    "    day='20241201', \n",
    "    max_travel_time=600, #10min \n",
    "    listAccessibility=listAccessibility\n",
    ")\n",
    "\n",
    "    # For second day\n",
    "    computeAccessibilities(\n",
    "        city, timeStart, arrayCC_day2, arraySP, gtfsDB,\n",
    "        computeIsochrone, timeStart/3600 == timeList[0],  # Use first=True for each day\n",
    "        day='20241202',\n",
    "        max_travel_time=600, #10min \n",
    "        listAccessibility=listAccessibility\n",
    "    )"
   ]
  },
  {
   "cell_type": "code",
   "execution_count": null,
   "metadata": {},
   "outputs": [],
   "source": []
  }
 ],
 "metadata": {
  "accelerator": "GPU",
  "colab": {
   "gpuType": "L4",
   "machine_shape": "hm",
   "provenance": []
  },
  "hide_input": false,
  "kernelspec": {
   "display_name": "Python 3 (ipykernel)",
   "language": "python",
   "name": "python3"
  },
  "language_info": {
   "codemirror_mode": {
    "name": "ipython",
    "version": 3
   },
   "file_extension": ".py",
   "mimetype": "text/x-python",
   "name": "python",
   "nbconvert_exporter": "python",
   "pygments_lexer": "ipython3",
   "version": "3.10.12"
  },
  "latex_envs": {
   "LaTeX_envs_menu_present": true,
   "autocomplete": true,
   "bibliofile": "biblio.bib",
   "cite_by": "apalike",
   "current_citInitial": 1,
   "eqLabelWithNumbers": false,
   "eqNumInitial": 1,
   "hotkeys": {
    "equation": "Ctrl-E",
    "itemize": "Ctrl-I"
   },
   "labels_anchors": true,
   "latex_user_defs": true,
   "report_style_numbering": true,
   "user_envs_cfg": true
  },
  "toc": {
   "colors": {
    "hover_highlight": "#DAA520",
    "running_highlight": "#FF0000",
    "selected_highlight": "#FFD700"
   },
   "moveMenuLeft": true,
   "nav_menu": {
    "height": "512px",
    "width": "252px"
   },
   "navigate_menu": true,
   "number_sections": true,
   "sideBar": true,
   "threshold": 4,
   "toc_cell": true,
   "toc_position": {
    "height": "1134px",
    "left": "0px",
    "right": "1771px",
    "top": "106px",
    "width": "212px"
   },
   "toc_section_display": "block",
   "toc_window_display": true,
   "widenNotebook": false
  },
  "varInspector": {
   "cols": {
    "lenName": 16,
    "lenType": 16,
    "lenVar": 40
   },
   "kernels_config": {
    "python": {
     "delete_cmd_postfix": "",
     "delete_cmd_prefix": "del ",
     "library": "var_list.py",
     "varRefreshCmd": "print(var_dic_list())"
    },
    "r": {
     "delete_cmd_postfix": ") ",
     "delete_cmd_prefix": "rm(",
     "library": "var_list.r",
     "varRefreshCmd": "cat(var_dic_list()) "
    }
   },
   "types_to_exclude": [
    "module",
    "function",
    "builtin_function_or_method",
    "instance",
    "_Feature"
   ],
   "window_display": false
  }
 },
 "nbformat": 4,
 "nbformat_minor": 4
}
